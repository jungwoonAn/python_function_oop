{
 "cells": [
  {
   "cell_type": "markdown",
   "metadata": {
    "id": "JvICyeIBLq45"
   },
   "source": [
    "# 셀 실행방법"
   ]
  },
  {
   "cell_type": "code",
   "execution_count": 1,
   "metadata": {
    "colab": {
     "base_uri": "https://localhost:8080/"
    },
    "id": "p-NCt02SK9eN",
    "outputId": "d0af9059-3289-48ea-d14b-2278920b1d6c"
   },
   "outputs": [
    {
     "name": "stdout",
     "output_type": "stream",
     "text": [
      "hello python\n"
     ]
    }
   ],
   "source": [
    "# 코드 셀\n",
    "print('hello python')\n",
    "\n",
    "# 실행은 Ctrl + Enter, Alt + Enter, Shift + Enter"
   ]
  },
  {
   "cell_type": "markdown",
   "metadata": {
    "id": "vsZegCBVQnvv"
   },
   "source": [
    "# 2. 파이썬 함수"
   ]
  },
  {
   "cell_type": "markdown",
   "metadata": {
    "id": "d6ZBctJqEDcX"
   },
   "source": [
    "## 2-1. 함수 정의 및 사용"
   ]
  },
  {
   "cell_type": "code",
   "execution_count": 2,
   "metadata": {
    "id": "hyRuCva7Lm3L"
   },
   "outputs": [],
   "source": [
    "def my_add(num1, num2):\n",
    "    print(num1 + num2)"
   ]
  },
  {
   "cell_type": "code",
   "execution_count": 3,
   "metadata": {
    "colab": {
     "base_uri": "https://localhost:8080/"
    },
    "id": "uNGmHC3nQ1BX",
    "outputId": "10e47bcb-1727-4449-f450-ead6bfcaacb6"
   },
   "outputs": [
    {
     "name": "stdout",
     "output_type": "stream",
     "text": [
      "8\n"
     ]
    }
   ],
   "source": [
    "my_add(3,5)"
   ]
  },
  {
   "cell_type": "code",
   "execution_count": 4,
   "metadata": {
    "colab": {
     "base_uri": "https://localhost:8080/"
    },
    "id": "3ogWFBJ1Q25n",
    "outputId": "b9f7bfa9-4390-40bc-97e3-93490e58fac0"
   },
   "outputs": [
    {
     "name": "stdout",
     "output_type": "stream",
     "text": [
      "hello world\n"
     ]
    }
   ],
   "source": [
    "my_add('hello ','world')"
   ]
  },
  {
   "cell_type": "code",
   "execution_count": 6,
   "metadata": {
    "colab": {
     "base_uri": "https://localhost:8080/",
     "height": 221
    },
    "id": "zteNKM3AQ6B_",
    "outputId": "cf32d2bc-a55a-4a3d-c0f2-f412804dc2c8"
   },
   "outputs": [
    {
     "ename": "TypeError",
     "evalue": "can only concatenate str (not \"int\") to str",
     "output_type": "error",
     "traceback": [
      "\u001b[0;31m---------------------------------------------------------------------------\u001b[0m",
      "\u001b[0;31mTypeError\u001b[0m                                 Traceback (most recent call last)",
      "\u001b[0;32m<ipython-input-6-98c77f734d98>\u001b[0m in \u001b[0;36m<cell line: 1>\u001b[0;34m()\u001b[0m\n\u001b[0;32m----> 1\u001b[0;31m \u001b[0mmy_add\u001b[0m\u001b[0;34m(\u001b[0m\u001b[0;34m'hello'\u001b[0m\u001b[0;34m,\u001b[0m \u001b[0;36m5\u001b[0m\u001b[0;34m)\u001b[0m  \u001b[0;31m# 문자열과 숫자는 concat연산이 안되므로 오류 발생합니다.\u001b[0m\u001b[0;34m\u001b[0m\u001b[0;34m\u001b[0m\u001b[0m\n\u001b[0m",
      "\u001b[0;32m<ipython-input-2-c9f4600e76c9>\u001b[0m in \u001b[0;36mmy_add\u001b[0;34m(num1, num2)\u001b[0m\n\u001b[1;32m      1\u001b[0m \u001b[0;32mdef\u001b[0m \u001b[0mmy_add\u001b[0m\u001b[0;34m(\u001b[0m\u001b[0mnum1\u001b[0m\u001b[0;34m,\u001b[0m \u001b[0mnum2\u001b[0m\u001b[0;34m)\u001b[0m\u001b[0;34m:\u001b[0m\u001b[0;34m\u001b[0m\u001b[0;34m\u001b[0m\u001b[0m\n\u001b[0;32m----> 2\u001b[0;31m     \u001b[0mprint\u001b[0m\u001b[0;34m(\u001b[0m\u001b[0mnum1\u001b[0m \u001b[0;34m+\u001b[0m \u001b[0mnum2\u001b[0m\u001b[0;34m)\u001b[0m\u001b[0;34m\u001b[0m\u001b[0;34m\u001b[0m\u001b[0m\n\u001b[0m",
      "\u001b[0;31mTypeError\u001b[0m: can only concatenate str (not \"int\") to str"
     ]
    }
   ],
   "source": [
    "my_add('hello', 5)  # 문자열과 숫자는 concat연산이 안되므로 오류 발생합니다."
   ]
  },
  {
   "cell_type": "markdown",
   "metadata": {
    "id": "pcHn2GcQWRk1"
   },
   "source": [
    "### docstring"
   ]
  },
  {
   "cell_type": "code",
   "execution_count": 7,
   "metadata": {
    "id": "QVKJPzT9RFPf"
   },
   "outputs": [],
   "source": [
    "def my_function():\n",
    "    \"\"\"처음 만든\n",
    "    함수입니다.\"\"\"\n",
    "    pass"
   ]
  },
  {
   "cell_type": "code",
   "execution_count": 8,
   "metadata": {
    "colab": {
     "base_uri": "https://localhost:8080/"
    },
    "id": "kHhhtlNsWbMG",
    "outputId": "f59a566a-7819-47db-b427-f4b3887f5cda"
   },
   "outputs": [
    {
     "name": "stdout",
     "output_type": "stream",
     "text": [
      "처음 만든 \n",
      "    함수입니다.\n"
     ]
    }
   ],
   "source": [
    "print(my_function.__doc__)"
   ]
  },
  {
   "cell_type": "markdown",
   "metadata": {
    "id": "CFu0FtQmWfNL"
   },
   "source": [
    "### 함수 정의하고 호출하기"
   ]
  },
  {
   "cell_type": "code",
   "execution_count": 9,
   "metadata": {
    "colab": {
     "base_uri": "https://localhost:8080/"
    },
    "id": "ZlrDjmWtXSOE",
    "outputId": "dbb39914-8942-4d10-c426-d76c1b7e3f68"
   },
   "outputs": [
    {
     "name": "stdout",
     "output_type": "stream",
     "text": [
      "2 3\n",
      "3 6\n"
     ]
    }
   ],
   "source": [
    "a = 1\n",
    "b = 2\n",
    "a, b = b, a+b\n",
    "print(a, b)\n",
    "\n",
    "a = b\n",
    "b = a+b\n",
    "print(a,b)"
   ]
  },
  {
   "cell_type": "code",
   "execution_count": 10,
   "metadata": {
    "id": "mtC5HhuCWdSt"
   },
   "outputs": [],
   "source": [
    "def fibonacci(n):\n",
    "    '''\n",
    "    n값 미만까지 피보나치 수열을 출력합니다.\n",
    "    n : 정수를 입력합니다.\n",
    "    return : None\n",
    "    '''\n",
    "    a, b = 0, 1\n",
    "\n",
    "    while a < n:\n",
    "        print(a, end=' ')\n",
    "        a, b = b, a+b\n",
    "    print()"
   ]
  },
  {
   "cell_type": "code",
   "execution_count": 11,
   "metadata": {
    "colab": {
     "base_uri": "https://localhost:8080/"
    },
    "id": "vjNprgngX4Q1",
    "outputId": "d5321cd9-c9b3-4d03-fb42-6db7b7a5a23b"
   },
   "outputs": [
    {
     "name": "stdout",
     "output_type": "stream",
     "text": [
      "0 1 1 2 3 5 8 13 21 34 55 89 144 \n"
     ]
    }
   ],
   "source": [
    "fibonacci(200)"
   ]
  },
  {
   "cell_type": "markdown",
   "metadata": {
    "id": "_T0Cmv1gYtOi"
   },
   "source": [
    "\n",
    "\n",
    "* 파이썬의 함수는 함수와 메서드로 나뉨\n",
    "* 함수는 파일(.py)안에 바로 선언된 함수\n",
    "* 메서드는 클래스 안에 선언된 함수\n",
    "\n"
   ]
  },
  {
   "cell_type": "markdown",
   "metadata": {
    "id": "o--qPZIKZgMK"
   },
   "source": [
    "### 지역변수와 전역변수"
   ]
  },
  {
   "cell_type": "code",
   "execution_count": 12,
   "metadata": {
    "id": "ZBMPEsjoX6j7"
   },
   "outputs": [],
   "source": [
    "global_var = 100\n",
    "def func1():\n",
    "    print(global_var)"
   ]
  },
  {
   "cell_type": "code",
   "execution_count": 13,
   "metadata": {
    "colab": {
     "base_uri": "https://localhost:8080/"
    },
    "id": "MMXT3QBDZwUz",
    "outputId": "d3be26ef-fb6d-4ed4-fecc-741481d32eb3"
   },
   "outputs": [
    {
     "name": "stdout",
     "output_type": "stream",
     "text": [
      "100\n"
     ]
    }
   ],
   "source": [
    "func1()"
   ]
  },
  {
   "cell_type": "code",
   "execution_count": 14,
   "metadata": {
    "id": "KhQC3ZLNZxHS"
   },
   "outputs": [],
   "source": [
    "def func2():\n",
    "    local_var = 200\n",
    "    print(local_var)"
   ]
  },
  {
   "cell_type": "code",
   "execution_count": 15,
   "metadata": {
    "colab": {
     "base_uri": "https://localhost:8080/"
    },
    "id": "prE9c5iwZ3fD",
    "outputId": "b163c00d-5de8-4fef-d5c5-c8f543592e4a"
   },
   "outputs": [
    {
     "name": "stdout",
     "output_type": "stream",
     "text": [
      "200\n"
     ]
    }
   ],
   "source": [
    "func2()"
   ]
  },
  {
   "cell_type": "code",
   "execution_count": 16,
   "metadata": {
    "colab": {
     "base_uri": "https://localhost:8080/",
     "height": 147
    },
    "id": "Y0Yn0iuRZ5MS",
    "outputId": "c88ea086-faae-41b4-92ed-99b4a67b4251"
   },
   "outputs": [
    {
     "ename": "NameError",
     "evalue": "name 'local_var' is not defined",
     "output_type": "error",
     "traceback": [
      "\u001b[0;31m---------------------------------------------------------------------------\u001b[0m",
      "\u001b[0;31mNameError\u001b[0m                                 Traceback (most recent call last)",
      "\u001b[0;32m<ipython-input-16-934eaf3834c3>\u001b[0m in \u001b[0;36m<cell line: 1>\u001b[0;34m()\u001b[0m\n\u001b[0;32m----> 1\u001b[0;31m \u001b[0mprint\u001b[0m\u001b[0;34m(\u001b[0m\u001b[0mlocal_var\u001b[0m\u001b[0;34m)\u001b[0m  \u001b[0;31m# 지역변수는 함수 밖에서 참조 못합니다.\u001b[0m\u001b[0;34m\u001b[0m\u001b[0;34m\u001b[0m\u001b[0m\n\u001b[0m",
      "\u001b[0;31mNameError\u001b[0m: name 'local_var' is not defined"
     ]
    }
   ],
   "source": [
    "print(local_var)  # 지역변수는 함수 밖에서 참조 못합니다."
   ]
  },
  {
   "cell_type": "markdown",
   "metadata": {
    "id": "vgtv9pkFcIjR"
   },
   "source": [
    "### Lexical 특성"
   ]
  },
  {
   "cell_type": "code",
   "execution_count": 17,
   "metadata": {
    "id": "BeVwsEhhZ6sy"
   },
   "outputs": [],
   "source": [
    "g_var = 100"
   ]
  },
  {
   "cell_type": "code",
   "execution_count": 18,
   "metadata": {
    "id": "V3ulPA5faZcp"
   },
   "outputs": [],
   "source": [
    "def func1():\n",
    "    print('before', g_var)\n",
    "    g_var = 200\n",
    "    print('after', g_var)"
   ]
  },
  {
   "cell_type": "code",
   "execution_count": 19,
   "metadata": {
    "colab": {
     "base_uri": "https://localhost:8080/",
     "height": 257
    },
    "id": "Gre0ATDqaiOi",
    "outputId": "6c4d58ff-02e7-4243-b860-ff9440ad751f"
   },
   "outputs": [
    {
     "ename": "UnboundLocalError",
     "evalue": "local variable 'g_var' referenced before assignment",
     "output_type": "error",
     "traceback": [
      "\u001b[0;31m---------------------------------------------------------------------------\u001b[0m",
      "\u001b[0;31mUnboundLocalError\u001b[0m                         Traceback (most recent call last)",
      "\u001b[0;32m<ipython-input-19-9cb23217827a>\u001b[0m in \u001b[0;36m<cell line: 1>\u001b[0;34m()\u001b[0m\n\u001b[0;32m----> 1\u001b[0;31m \u001b[0mfunc1\u001b[0m\u001b[0;34m(\u001b[0m\u001b[0;34m)\u001b[0m  \u001b[0;31m# Lexical 특성에 의해 할당되지 않은 변수를 참조하므로 오류 발생함\u001b[0m\u001b[0;34m\u001b[0m\u001b[0;34m\u001b[0m\u001b[0m\n\u001b[0m",
      "\u001b[0;32m<ipython-input-18-ded314fd078f>\u001b[0m in \u001b[0;36mfunc1\u001b[0;34m()\u001b[0m\n\u001b[1;32m      1\u001b[0m \u001b[0;32mdef\u001b[0m \u001b[0mfunc1\u001b[0m\u001b[0;34m(\u001b[0m\u001b[0;34m)\u001b[0m\u001b[0;34m:\u001b[0m\u001b[0;34m\u001b[0m\u001b[0;34m\u001b[0m\u001b[0m\n\u001b[0;32m----> 2\u001b[0;31m     \u001b[0mprint\u001b[0m\u001b[0;34m(\u001b[0m\u001b[0;34m'before'\u001b[0m\u001b[0;34m,\u001b[0m \u001b[0mg_var\u001b[0m\u001b[0;34m)\u001b[0m\u001b[0;34m\u001b[0m\u001b[0;34m\u001b[0m\u001b[0m\n\u001b[0m\u001b[1;32m      3\u001b[0m     \u001b[0mg_var\u001b[0m \u001b[0;34m=\u001b[0m \u001b[0;36m200\u001b[0m\u001b[0;34m\u001b[0m\u001b[0;34m\u001b[0m\u001b[0m\n\u001b[1;32m      4\u001b[0m     \u001b[0mprint\u001b[0m\u001b[0;34m(\u001b[0m\u001b[0;34m'after'\u001b[0m\u001b[0;34m,\u001b[0m \u001b[0mg_var\u001b[0m\u001b[0;34m)\u001b[0m\u001b[0;34m\u001b[0m\u001b[0;34m\u001b[0m\u001b[0m\n",
      "\u001b[0;31mUnboundLocalError\u001b[0m: local variable 'g_var' referenced before assignment"
     ]
    }
   ],
   "source": [
    "func1()  # Lexical 특성에 의해 할당되지 않은 변수를 참조하므로 오류 발생함"
   ]
  },
  {
   "cell_type": "markdown",
   "metadata": {
    "id": "lPPEqD8dciK5"
   },
   "source": [
    "### 전역변수 수정"
   ]
  },
  {
   "cell_type": "code",
   "execution_count": 20,
   "metadata": {
    "colab": {
     "base_uri": "https://localhost:8080/"
    },
    "id": "jcaD51w3ai96",
    "outputId": "1ac3540f-ab76-4e07-8c4e-3a556bb94280"
   },
   "outputs": [
    {
     "name": "stdout",
     "output_type": "stream",
     "text": [
      "before 100\n",
      "after 200\n",
      "200\n"
     ]
    }
   ],
   "source": [
    "g_var2 = 100\n",
    "\n",
    "def func2():\n",
    "    global g_var2\n",
    "    print('before', g_var2)\n",
    "    g_var2 = 200\n",
    "    print('after', g_var2)\n",
    "\n",
    "func2()\n",
    "print(g_var2)"
   ]
  },
  {
   "cell_type": "markdown",
   "metadata": {
    "id": "fVwvHDW8dbNY"
   },
   "source": [
    "### 값에 의한 호출과 참조에 의한 호출"
   ]
  },
  {
   "cell_type": "code",
   "execution_count": 21,
   "metadata": {
    "colab": {
     "base_uri": "https://localhost:8080/"
    },
    "id": "ydNcHps5cZjI",
    "outputId": "c6427379-4c7d-406f-86fd-113e1ccedf88"
   },
   "outputs": [
    {
     "name": "stdout",
     "output_type": "stream",
     "text": [
      "200\n",
      "100\n"
     ]
    }
   ],
   "source": [
    "# 값에 의한 호출\n",
    "foo = 100\n",
    "\n",
    "def func1(foo):\n",
    "    foo = 200\n",
    "    print(foo)\n",
    "\n",
    "func1(foo)  # 200\n",
    "print(foo)  # 100"
   ]
  },
  {
   "cell_type": "code",
   "execution_count": 22,
   "metadata": {
    "colab": {
     "base_uri": "https://localhost:8080/"
    },
    "id": "L6P0UEaZwCQ4",
    "outputId": "1fd838a5-0b0b-4939-96f7-3e676878d7e9"
   },
   "outputs": [
    {
     "name": "stdout",
     "output_type": "stream",
     "text": [
      "200\n",
      "200\n"
     ]
    }
   ],
   "source": [
    "def func1(foo):\n",
    "    foo = foo + 100\n",
    "    print(foo)\n",
    "    return foo\n",
    "\n",
    "foo = func1(foo)  # 200\n",
    "print(foo)  # 200"
   ]
  },
  {
   "cell_type": "code",
   "execution_count": 23,
   "metadata": {
    "colab": {
     "base_uri": "https://localhost:8080/"
    },
    "id": "v7_atbUWwhf_",
    "outputId": "d00050ac-8462-4113-d836-0bf4155bd8e2"
   },
   "outputs": [
    {
     "name": "stdout",
     "output_type": "stream",
     "text": [
      "132945144456384\n",
      "132945144456384\n",
      "[1, 2, 3, 4, 5, 6]\n",
      "[1, 2, 3, 4, 5, 6]\n"
     ]
    }
   ],
   "source": [
    "# 참조에 의한 호출\n",
    "L = [1,2,3,4,5]\n",
    "print(id(L))\n",
    "\n",
    "def func1(foo):\n",
    "    foo.append(6)\n",
    "    print(id(foo))\n",
    "    print(foo)\n",
    "\n",
    "func1(L)  # [1,2,3,4,5,6]\n",
    "print(L)"
   ]
  },
  {
   "cell_type": "code",
   "execution_count": 24,
   "metadata": {
    "colab": {
     "base_uri": "https://localhost:8080/"
    },
    "id": "0TrQtggmxR6H",
    "outputId": "fd73638a-bdaf-4725-ccdd-0d0296dcb662"
   },
   "outputs": [
    {
     "name": "stdout",
     "output_type": "stream",
     "text": [
      "132945143918464\n",
      "132945144457280\n",
      "[5, 6, 7, 8, 9]\n",
      "[1, 2, 3, 4, 5]\n"
     ]
    }
   ],
   "source": [
    "# =을 이용한 재할당\n",
    "L = [1,2,3,4,5]\n",
    "print(id(L))\n",
    "\n",
    "def func2(foo):\n",
    "    foo = [5,6,7,8,9]\n",
    "    print(id(foo))\n",
    "    print(foo)\n",
    "\n",
    "func2(L)\n",
    "print(L)"
   ]
  },
  {
   "cell_type": "markdown",
   "metadata": {
    "id": "KMPUGedV06oO"
   },
   "source": [
    "### 함수이름 변경"
   ]
  },
  {
   "cell_type": "code",
   "execution_count": 25,
   "metadata": {
    "id": "oDSppAiOx39O"
   },
   "outputs": [],
   "source": [
    "def my_add(num1, num2):\n",
    "    print(num1 + num2)"
   ]
  },
  {
   "cell_type": "code",
   "execution_count": 26,
   "metadata": {
    "colab": {
     "base_uri": "https://localhost:8080/"
    },
    "id": "mqQ6xCkQ1Gv9",
    "outputId": "062ddbc8-5640-42bc-ca25-cd0338c60c25"
   },
   "outputs": [
    {
     "name": "stdout",
     "output_type": "stream",
     "text": [
      "5\n"
     ]
    }
   ],
   "source": [
    "result = my_add(2,3)"
   ]
  },
  {
   "cell_type": "code",
   "execution_count": 27,
   "metadata": {
    "id": "0aUKU3oa1Iks"
   },
   "outputs": [],
   "source": [
    "my_add2 = my_add  # 함수도 객체이므로 변수에 할당 가능"
   ]
  },
  {
   "cell_type": "code",
   "execution_count": 28,
   "metadata": {
    "colab": {
     "base_uri": "https://localhost:8080/"
    },
    "id": "7wCoCdBQ1Pvt",
    "outputId": "102063f8-b86a-4118-c11a-e01237d61b0a"
   },
   "outputs": [
    {
     "name": "stdout",
     "output_type": "stream",
     "text": [
      "9\n"
     ]
    }
   ],
   "source": [
    "my_add2(4,5)"
   ]
  },
  {
   "cell_type": "markdown",
   "metadata": {
    "id": "x7I7uaGo5GMq"
   },
   "source": [
    "## 2-2. 함수의 실행 결과를반환하는return\n",
    "### 반환값이있는함수"
   ]
  },
  {
   "cell_type": "code",
   "execution_count": 29,
   "metadata": {
    "id": "IW7QDMe01TC9"
   },
   "outputs": [],
   "source": [
    "def fibonacci2(n):\n",
    "    result = []\n",
    "    a, b = 0, 1\n",
    "\n",
    "    while a<n:\n",
    "        result.append(a)  # print(a, end=' ')\n",
    "        a, b = b, a+b\n",
    "    return result"
   ]
  },
  {
   "cell_type": "code",
   "execution_count": 30,
   "metadata": {
    "colab": {
     "base_uri": "https://localhost:8080/"
    },
    "id": "9BVICtSy2NX2",
    "outputId": "4a06102f-cc2d-4a96-e462-cb5d60877a3a"
   },
   "outputs": [
    {
     "data": {
      "text/plain": [
       "[0, 1, 1, 2, 3, 5, 8, 13, 21, 34, 55, 89, 144]"
      ]
     },
     "execution_count": 30,
     "metadata": {},
     "output_type": "execute_result"
    }
   ],
   "source": [
    "fibonacci2(200)  # 밑에 결과는 개발자가 볼 수있도록 출력한 것임"
   ]
  },
  {
   "cell_type": "code",
   "execution_count": 31,
   "metadata": {
    "colab": {
     "base_uri": "https://localhost:8080/"
    },
    "id": "yZomY82s2PJz",
    "outputId": "24d323b0-45d5-4ce8-a101-13610aff9408"
   },
   "outputs": [
    {
     "name": "stdout",
     "output_type": "stream",
     "text": [
      "[0, 1, 1, 2, 3, 5, 8, 13, 21, 34, 55, 89, 144]\n"
     ]
    }
   ],
   "source": [
    "fibo_result = fibonacci2(200)  # 함수의 결과를 변수에 받아서 출력하는 것이 적절함\n",
    "print(fibo_result)"
   ]
  },
  {
   "cell_type": "markdown",
   "metadata": {
    "id": "G-nQO0145K5K"
   },
   "source": [
    "### 여러개값 반환"
   ]
  },
  {
   "cell_type": "code",
   "execution_count": 32,
   "metadata": {
    "id": "S2UQUXn02d78"
   },
   "outputs": [],
   "source": [
    "def fibonacci3(n):\n",
    "    result = []\n",
    "    a, b = 0, 1\n",
    "\n",
    "    while a<n:\n",
    "        result.append(a)  # print(a, end=' ')\n",
    "        a, b = b, a+b\n",
    "    return result, n"
   ]
  },
  {
   "cell_type": "code",
   "execution_count": 33,
   "metadata": {
    "colab": {
     "base_uri": "https://localhost:8080/"
    },
    "id": "ftDd73D42_00",
    "outputId": "80060861-d25a-4fff-d763-b3f8defed4b7"
   },
   "outputs": [
    {
     "name": "stdout",
     "output_type": "stream",
     "text": [
      "([0, 1, 1, 2, 3, 5, 8, 13, 21, 34, 55, 89, 144], 200)\n"
     ]
    }
   ],
   "source": [
    "fibo_result = fibonacci3(200)  # 함수의 반환값이 여러개이면 튜플로 반환\n",
    "print(fibo_result)"
   ]
  },
  {
   "cell_type": "code",
   "execution_count": 34,
   "metadata": {
    "colab": {
     "base_uri": "https://localhost:8080/"
    },
    "id": "esm17FWx3ZoL",
    "outputId": "9e0c6465-a18b-4ff1-b3a6-535eb9759e0a"
   },
   "outputs": [
    {
     "name": "stdout",
     "output_type": "stream",
     "text": [
      "[0, 1, 1, 2, 3, 5, 8, 13, 21, 34, 55, 89, 144]\n"
     ]
    }
   ],
   "source": [
    "print(_)  # 파이썬에서 사용하는 내장 변수, 이전에 연산된 결과값 반환"
   ]
  },
  {
   "cell_type": "code",
   "execution_count": 35,
   "metadata": {
    "colab": {
     "base_uri": "https://localhost:8080/"
    },
    "id": "iOWRbsmn3Kg8",
    "outputId": "c71d8ed0-3dfb-4bb9-dfbd-19e4b717963a"
   },
   "outputs": [
    {
     "name": "stdout",
     "output_type": "stream",
     "text": [
      "[0, 1, 1, 2, 3, 5, 8, 13, 21, 34, 55, 89, 144]\n"
     ]
    }
   ],
   "source": [
    "fibo_result, _ = fibonacci3(200)  # 어러개 반환값을 받을 때 _변수의 값은 사용 안할때 지정\n",
    "print(fibo_result)"
   ]
  },
  {
   "cell_type": "markdown",
   "metadata": {
    "id": "tn-Q0Ol85Omc"
   },
   "source": [
    "### 함수 객체를 반환하는 함수"
   ]
  },
  {
   "cell_type": "code",
   "execution_count": 36,
   "metadata": {
    "id": "pObtIYlF3p3D"
   },
   "outputs": [],
   "source": [
    "def outer(num):  # 함수를 반환하는 함수\n",
    "    def inner(data):\n",
    "        return num*data\n",
    "    return inner  # 함수를 반환"
   ]
  },
  {
   "cell_type": "code",
   "execution_count": 37,
   "metadata": {
    "colab": {
     "base_uri": "https://localhost:8080/"
    },
    "id": "CKHT7iLg5k0c",
    "outputId": "f1a47f2a-167b-46ee-ae57-1f34e5029927"
   },
   "outputs": [
    {
     "name": "stdout",
     "output_type": "stream",
     "text": [
      "<class 'function'>\n",
      "30\n"
     ]
    }
   ],
   "source": [
    "temp = outer(10)\n",
    "print(type(temp))\n",
    "print(temp(3))"
   ]
  },
  {
   "cell_type": "code",
   "execution_count": 38,
   "metadata": {
    "colab": {
     "base_uri": "https://localhost:8080/"
    },
    "id": "bx2oDD756G0a",
    "outputId": "55ffd66c-f9d7-4ae1-cc38-fd032f5a37f3"
   },
   "outputs": [
    {
     "name": "stdout",
     "output_type": "stream",
     "text": [
      "30\n"
     ]
    }
   ],
   "source": [
    "print(outer(10)(3))  # 함수형 API의 예"
   ]
  },
  {
   "cell_type": "markdown",
   "metadata": {
    "id": "t4bzBLsg_IXI"
   },
   "source": [
    "## 2-3. 함수의 매개변수\n",
    "* 자바, C :\n",
    "        타입을 지정하는 키워드가 있는 언어,\n",
    "        함수 정의 와 호출시 매개변수 타입 및 개수와 인수의 타입 및 개수가 일치,\n",
    "        함수의 중복을 허용함\n",
    "* 파이썬, R, 자바스크립트 :\n",
    "        타입을 지정하는 키워드가 없는 언어,\n",
    "        매개변수의 개수와 인수의 개수가 일치하지 않을 수 있음,\n",
    "        함수의 중복을 허용 안함\n",
    "\n",
    "### 기본 값을 갖는 매개변수"
   ]
  },
  {
   "cell_type": "code",
   "execution_count": 39,
   "metadata": {
    "id": "oExylVj1AdiO"
   },
   "outputs": [],
   "source": [
    "def make_url(ip, port=80):\n",
    "    return f'http://{ip}:{port}'\n",
    "\n",
    "# 기본값이 없는 매개변수 : 필수 매개변수\n",
    "# 기본값이 있는 매개변수 : 선택 매개변수"
   ]
  },
  {
   "cell_type": "code",
   "execution_count": 40,
   "metadata": {
    "colab": {
     "base_uri": "https://localhost:8080/"
    },
    "id": "Irmjm8lc6JB6",
    "outputId": "603ca5a8-ad8d-4039-d36a-3f3850adda08"
   },
   "outputs": [
    {
     "name": "stdout",
     "output_type": "stream",
     "text": [
      "http://localhost:80\n",
      "http://localhost:8080\n",
      "http://127.0.0.1:8080\n",
      "http://localhost:8080\n"
     ]
    }
   ],
   "source": [
    "print(make_url('localhost'))\n",
    "print(make_url('localhost', 8080))  # 순서 인수\n",
    "print(make_url(port=8080, ip='127.0.0.1'))  # 키워드 인수\n",
    "print(make_url('localhost', port=8080)) # 필수 매개변수-순서 인수 / 선택 매개변수-키워드 인수 사용"
   ]
  },
  {
   "cell_type": "markdown",
   "metadata": {
    "id": "-1or2JEMCr0_"
   },
   "source": [
    "###  매개변수의 기본값이 변수일 경우"
   ]
  },
  {
   "cell_type": "code",
   "execution_count": 41,
   "metadata": {
    "id": "Q3kpUvRjAM25"
   },
   "outputs": [],
   "source": [
    "i = 5\n",
    "\n",
    "def func2(arg=i):\n",
    "    print(arg)"
   ]
  },
  {
   "cell_type": "code",
   "execution_count": 42,
   "metadata": {
    "colab": {
     "base_uri": "https://localhost:8080/"
    },
    "id": "rkEW8m8PCc2G",
    "outputId": "8cde03ee-da61-42fa-c738-5d747a8cf218"
   },
   "outputs": [
    {
     "name": "stdout",
     "output_type": "stream",
     "text": [
      "5\n"
     ]
    }
   ],
   "source": [
    "i = 6\n",
    "func2()  # 함수가 정의될 때의 변수값을 기본값으로 사용됨."
   ]
  },
  {
   "cell_type": "markdown",
   "metadata": {
    "id": "YccJv3lpDPLN"
   },
   "source": [
    "### 매개변수 기본값이 변경 가능한 객체"
   ]
  },
  {
   "cell_type": "code",
   "execution_count": 43,
   "metadata": {
    "id": "hADBlXk8CqMe"
   },
   "outputs": [],
   "source": [
    "list_ = []\n",
    "\n",
    "def func3(a, L=list_):\n",
    "    L.append(a)\n",
    "    return L"
   ]
  },
  {
   "cell_type": "code",
   "execution_count": 44,
   "metadata": {
    "colab": {
     "base_uri": "https://localhost:8080/"
    },
    "id": "p3DE54nNDbSO",
    "outputId": "7b30f060-8711-4b83-8d47-d95d44f396c1"
   },
   "outputs": [
    {
     "name": "stdout",
     "output_type": "stream",
     "text": [
      "[1]\n"
     ]
    }
   ],
   "source": [
    "print(func3(1))"
   ]
  },
  {
   "cell_type": "code",
   "execution_count": 45,
   "metadata": {
    "colab": {
     "base_uri": "https://localhost:8080/"
    },
    "id": "J9yGBTlSDfZG",
    "outputId": "0481aac8-e718-4e8c-bf02-9f4410ee569b"
   },
   "outputs": [
    {
     "name": "stdout",
     "output_type": "stream",
     "text": [
      "[1, 2]\n"
     ]
    }
   ],
   "source": [
    "print(func3(2))"
   ]
  },
  {
   "cell_type": "code",
   "execution_count": 46,
   "metadata": {
    "id": "UCyGhJ-VDgUu"
   },
   "outputs": [],
   "source": [
    "def func4(a, L=None):\n",
    "    if L is None:\n",
    "        L = []\n",
    "    L.append(a)\n",
    "    return L"
   ]
  },
  {
   "cell_type": "code",
   "execution_count": 47,
   "metadata": {
    "colab": {
     "base_uri": "https://localhost:8080/"
    },
    "id": "2UTRUHgUETzM",
    "outputId": "2ecaa0cb-793a-4b65-fc51-7e893bb861aa"
   },
   "outputs": [
    {
     "data": {
      "text/plain": [
       "[1, 2, 3]"
      ]
     },
     "execution_count": 47,
     "metadata": {},
     "output_type": "execute_result"
    }
   ],
   "source": [
    "func4(3, list_)"
   ]
  },
  {
   "cell_type": "code",
   "execution_count": 48,
   "metadata": {
    "colab": {
     "base_uri": "https://localhost:8080/"
    },
    "id": "gAU3O0JyEV58",
    "outputId": "7b7d9c1e-1d2f-485c-aa15-158d822b8525"
   },
   "outputs": [
    {
     "data": {
      "text/plain": [
       "[4]"
      ]
     },
     "execution_count": 48,
     "metadata": {},
     "output_type": "execute_result"
    }
   ],
   "source": [
    "func4(4)"
   ]
  },
  {
   "cell_type": "markdown",
   "metadata": {
    "id": "e2QUrYlUEjbH"
   },
   "source": [
    "### 키워드 인수"
   ]
  },
  {
   "cell_type": "code",
   "execution_count": 49,
   "metadata": {
    "colab": {
     "base_uri": "https://localhost:8080/"
    },
    "id": "UF-QCKwfEY48",
    "outputId": "54a6c3d6-7267-49dd-efab-8ce3b73a1d76"
   },
   "outputs": [
    {
     "name": "stdout",
     "output_type": "stream",
     "text": [
      "[1, 2, 3, 3]\n",
      "[10]\n",
      "[1, 2, 3, 3, 20]\n"
     ]
    }
   ],
   "source": [
    "print(func4(3, list_))\n",
    "print(func4(10))\n",
    "print(func4(L=list_, a=20))"
   ]
  },
  {
   "cell_type": "markdown",
   "metadata": {
    "id": "VajewAhlFy6d"
   },
   "source": [
    "### 키워드 인수 - 오류 발생 상황"
   ]
  },
  {
   "cell_type": "code",
   "execution_count": 50,
   "metadata": {
    "colab": {
     "base_uri": "https://localhost:8080/",
     "height": 147
    },
    "id": "YIJz_Nl-Ewy9",
    "outputId": "b800ecf0-5678-4bdd-bdaf-8c0b195fbbae"
   },
   "outputs": [
    {
     "ename": "TypeError",
     "evalue": "func4() missing 1 required positional argument: 'a'",
     "output_type": "error",
     "traceback": [
      "\u001b[0;31m---------------------------------------------------------------------------\u001b[0m",
      "\u001b[0;31mTypeError\u001b[0m                                 Traceback (most recent call last)",
      "\u001b[0;32m<ipython-input-50-85fbe0e54361>\u001b[0m in \u001b[0;36m<cell line: 1>\u001b[0;34m()\u001b[0m\n\u001b[0;32m----> 1\u001b[0;31m \u001b[0mprint\u001b[0m\u001b[0;34m(\u001b[0m\u001b[0mfunc4\u001b[0m\u001b[0;34m(\u001b[0m\u001b[0;34m)\u001b[0m\u001b[0;34m)\u001b[0m  \u001b[0;31m# 에러 : 필수 매개변수 인수로 전달 안함\u001b[0m\u001b[0;34m\u001b[0m\u001b[0;34m\u001b[0m\u001b[0m\n\u001b[0m",
      "\u001b[0;31mTypeError\u001b[0m: func4() missing 1 required positional argument: 'a'"
     ]
    }
   ],
   "source": [
    "print(func4())  # 에러 : 필수 매개변수 인수로 전달 안함"
   ]
  },
  {
   "cell_type": "code",
   "execution_count": 51,
   "metadata": {
    "colab": {
     "base_uri": "https://localhost:8080/",
     "height": 110
    },
    "id": "luSRmu1GE5Ix",
    "outputId": "661d8e02-4abb-4d9b-9f58-0620fef2400a"
   },
   "outputs": [
    {
     "ename": "SyntaxError",
     "evalue": "positional argument follows keyword argument (<ipython-input-51-a65af856cd75>, line 1)",
     "output_type": "error",
     "traceback": [
      "\u001b[0;36m  File \u001b[0;32m\"<ipython-input-51-a65af856cd75>\"\u001b[0;36m, line \u001b[0;32m1\u001b[0m\n\u001b[0;31m    print(func4(L=list_, 70))  # 에러 : 필수 매개변수에 인수 전달 후 키워드 인수 전달\u001b[0m\n\u001b[0m                           ^\u001b[0m\n\u001b[0;31mSyntaxError\u001b[0m\u001b[0;31m:\u001b[0m positional argument follows keyword argument\n"
     ]
    }
   ],
   "source": [
    "print(func4(L=list_, 70))  # 에러 : 필수 매개변수에 인수 전달 후 키워드 인수 전달"
   ]
  },
  {
   "cell_type": "code",
   "execution_count": 52,
   "metadata": {
    "colab": {
     "base_uri": "https://localhost:8080/"
    },
    "id": "erSW1hGFFUdw",
    "outputId": "434edae1-4cec-4077-8015-eb3bac5fc97f"
   },
   "outputs": [
    {
     "name": "stdout",
     "output_type": "stream",
     "text": [
      "[1, 2, 3, 3, 20, 70]\n"
     ]
    }
   ],
   "source": [
    "print(func4(70, L=list_))"
   ]
  },
  {
   "cell_type": "code",
   "execution_count": 53,
   "metadata": {
    "colab": {
     "base_uri": "https://localhost:8080/",
     "height": 257
    },
    "id": "1qPXxiyZFbtd",
    "outputId": "afcf177d-b83d-4ba4-8d7f-9fad0ea29ce8"
   },
   "outputs": [
    {
     "ename": "AttributeError",
     "evalue": "'int' object has no attribute 'append'",
     "output_type": "error",
     "traceback": [
      "\u001b[0;31m---------------------------------------------------------------------------\u001b[0m",
      "\u001b[0;31mAttributeError\u001b[0m                            Traceback (most recent call last)",
      "\u001b[0;32m<ipython-input-53-4430241cd614>\u001b[0m in \u001b[0;36m<cell line: 1>\u001b[0;34m()\u001b[0m\n\u001b[0;32m----> 1\u001b[0;31m \u001b[0mprint\u001b[0m\u001b[0;34m(\u001b[0m\u001b[0mfunc4\u001b[0m\u001b[0;34m(\u001b[0m\u001b[0;36m50\u001b[0m\u001b[0;34m,\u001b[0m \u001b[0;36m60\u001b[0m\u001b[0;34m)\u001b[0m\u001b[0;34m)\u001b[0m\u001b[0;34m\u001b[0m\u001b[0;34m\u001b[0m\u001b[0m\n\u001b[0m",
      "\u001b[0;32m<ipython-input-46-233cafade702>\u001b[0m in \u001b[0;36mfunc4\u001b[0;34m(a, L)\u001b[0m\n\u001b[1;32m      2\u001b[0m     \u001b[0;32mif\u001b[0m \u001b[0mL\u001b[0m \u001b[0;32mis\u001b[0m \u001b[0;32mNone\u001b[0m\u001b[0;34m:\u001b[0m\u001b[0;34m\u001b[0m\u001b[0;34m\u001b[0m\u001b[0m\n\u001b[1;32m      3\u001b[0m         \u001b[0mL\u001b[0m \u001b[0;34m=\u001b[0m \u001b[0;34m[\u001b[0m\u001b[0;34m]\u001b[0m\u001b[0;34m\u001b[0m\u001b[0;34m\u001b[0m\u001b[0m\n\u001b[0;32m----> 4\u001b[0;31m     \u001b[0mL\u001b[0m\u001b[0;34m.\u001b[0m\u001b[0mappend\u001b[0m\u001b[0;34m(\u001b[0m\u001b[0ma\u001b[0m\u001b[0;34m)\u001b[0m\u001b[0;34m\u001b[0m\u001b[0;34m\u001b[0m\u001b[0m\n\u001b[0m\u001b[1;32m      5\u001b[0m     \u001b[0;32mreturn\u001b[0m \u001b[0mL\u001b[0m\u001b[0;34m\u001b[0m\u001b[0;34m\u001b[0m\u001b[0m\n",
      "\u001b[0;31mAttributeError\u001b[0m: 'int' object has no attribute 'append'"
     ]
    }
   ],
   "source": [
    "print(func4(50, 60))"
   ]
  },
  {
   "cell_type": "code",
   "execution_count": 54,
   "metadata": {
    "colab": {
     "base_uri": "https://localhost:8080/",
     "height": 147
    },
    "id": "Vup6Juo8FjpU",
    "outputId": "e03dbc16-22d9-41af-bc3b-6437b9c3524b"
   },
   "outputs": [
    {
     "ename": "TypeError",
     "evalue": "func4() got multiple values for argument 'a'",
     "output_type": "error",
     "traceback": [
      "\u001b[0;31m---------------------------------------------------------------------------\u001b[0m",
      "\u001b[0;31mTypeError\u001b[0m                                 Traceback (most recent call last)",
      "\u001b[0;32m<ipython-input-54-a038fb6c8766>\u001b[0m in \u001b[0;36m<cell line: 1>\u001b[0;34m()\u001b[0m\n\u001b[0;32m----> 1\u001b[0;31m \u001b[0mprint\u001b[0m\u001b[0;34m(\u001b[0m\u001b[0mfunc4\u001b[0m\u001b[0;34m(\u001b[0m\u001b[0;36m40\u001b[0m\u001b[0;34m,\u001b[0m \u001b[0ma\u001b[0m\u001b[0;34m=\u001b[0m\u001b[0;36m60\u001b[0m\u001b[0;34m)\u001b[0m\u001b[0;34m)\u001b[0m\u001b[0;34m\u001b[0m\u001b[0;34m\u001b[0m\u001b[0m\n\u001b[0m",
      "\u001b[0;31mTypeError\u001b[0m: func4() got multiple values for argument 'a'"
     ]
    }
   ],
   "source": [
    "print(func4(40, a=60))"
   ]
  },
  {
   "cell_type": "markdown",
   "metadata": {
    "id": "GQNKxuxdG5Gp"
   },
   "source": [
    "### 튜플 매개변수를 이용한 가변인수 설정"
   ]
  },
  {
   "cell_type": "code",
   "execution_count": 55,
   "metadata": {
    "id": "nLCQkOA8Fv3N"
   },
   "outputs": [],
   "source": [
    "def add(num1, num2):\n",
    "    return num1+num2"
   ]
  },
  {
   "cell_type": "code",
   "execution_count": 56,
   "metadata": {
    "colab": {
     "base_uri": "https://localhost:8080/"
    },
    "id": "IJIo0pjrGsM9",
    "outputId": "02cf82aa-cff3-4e42-df64-8e300e9e1e1a"
   },
   "outputs": [
    {
     "data": {
      "text/plain": [
       "5"
      ]
     },
     "execution_count": 56,
     "metadata": {},
     "output_type": "execute_result"
    }
   ],
   "source": [
    "add(2,3)"
   ]
  },
  {
   "cell_type": "code",
   "execution_count": 57,
   "metadata": {
    "id": "jurgpvjgHfkD"
   },
   "outputs": [],
   "source": [
    "def add(num1, num2, num3):\n",
    "    return num1+num2+num3"
   ]
  },
  {
   "cell_type": "code",
   "execution_count": 58,
   "metadata": {
    "colab": {
     "base_uri": "https://localhost:8080/"
    },
    "id": "vFZ6VvPBHlPc",
    "outputId": "e35eef7e-3a48-4539-d78e-70efd297ac91"
   },
   "outputs": [
    {
     "data": {
      "text/plain": [
       "9"
      ]
     },
     "execution_count": 58,
     "metadata": {},
     "output_type": "execute_result"
    }
   ],
   "source": [
    "add(2,3,4)"
   ]
  },
  {
   "cell_type": "code",
   "execution_count": 59,
   "metadata": {
    "colab": {
     "base_uri": "https://localhost:8080/",
     "height": 147
    },
    "id": "RK2fV6G9IeT1",
    "outputId": "38efdb15-4d97-4d38-9e73-efd0008d0653"
   },
   "outputs": [
    {
     "ename": "TypeError",
     "evalue": "add() missing 1 required positional argument: 'num3'",
     "output_type": "error",
     "traceback": [
      "\u001b[0;31m---------------------------------------------------------------------------\u001b[0m",
      "\u001b[0;31mTypeError\u001b[0m                                 Traceback (most recent call last)",
      "\u001b[0;32m<ipython-input-59-763ed6ac3064>\u001b[0m in \u001b[0;36m<cell line: 1>\u001b[0;34m()\u001b[0m\n\u001b[0;32m----> 1\u001b[0;31m \u001b[0madd\u001b[0m\u001b[0;34m(\u001b[0m\u001b[0;36m3\u001b[0m\u001b[0;34m,\u001b[0m\u001b[0;36m4\u001b[0m\u001b[0;34m)\u001b[0m\u001b[0;34m\u001b[0m\u001b[0;34m\u001b[0m\u001b[0m\n\u001b[0m",
      "\u001b[0;31mTypeError\u001b[0m: add() missing 1 required positional argument: 'num3'"
     ]
    }
   ],
   "source": [
    "add(3,4)  # 파이썬은 함수의 중복을 허용하지 않음"
   ]
  },
  {
   "cell_type": "markdown",
   "metadata": {
    "id": "8aFg7q4MH-gX"
   },
   "source": [
    "**  파이썬은 함수 중복을 지원하지 않지만 튜플 매개변수를 이용하면 함수 중복 효과를 낼 수 있음"
   ]
  },
  {
   "cell_type": "code",
   "execution_count": 60,
   "metadata": {
    "id": "I31Y1TRcHmeb"
   },
   "outputs": [],
   "source": [
    "def add(*args):  # 순서 인수를 필수 매개변수에 매핑하고, 남은 인수를 스쿠핑(Sqoop)\n",
    "    sum = 0\n",
    "    for num in args:\n",
    "        sum += num\n",
    "    return sum"
   ]
  },
  {
   "cell_type": "code",
   "execution_count": 61,
   "metadata": {
    "colab": {
     "base_uri": "https://localhost:8080/"
    },
    "id": "bOuKYG6cIwtL",
    "outputId": "04cba7cc-a69b-4e22-af58-49d9be94501b"
   },
   "outputs": [
    {
     "name": "stdout",
     "output_type": "stream",
     "text": [
      "9\n",
      "5\n",
      "14\n"
     ]
    }
   ],
   "source": [
    "print(add(2,3,4))\n",
    "print(add(2,3))\n",
    "print(add(2,3,4,5))"
   ]
  },
  {
   "cell_type": "markdown",
   "metadata": {
    "id": "3HKbkUszMIki"
   },
   "source": [
    "### 튜플 인수의 순서"
   ]
  },
  {
   "cell_type": "code",
   "execution_count": 62,
   "metadata": {
    "id": "60dOt0Z8I5AS"
   },
   "outputs": [],
   "source": [
    "def concat(*args, sep):  # *args 매개변수 다음에 나오는 매개 변수는 키워드 인수여야 함!\n",
    "    return sep.join(args)"
   ]
  },
  {
   "cell_type": "code",
   "execution_count": 63,
   "metadata": {
    "colab": {
     "base_uri": "https://localhost:8080/",
     "height": 147
    },
    "id": "wqdKHsZAMeS6",
    "outputId": "4c2d25e1-cc5f-44a8-9891-12f67e97648a"
   },
   "outputs": [
    {
     "ename": "TypeError",
     "evalue": "concat() missing 1 required keyword-only argument: 'sep'",
     "output_type": "error",
     "traceback": [
      "\u001b[0;31m---------------------------------------------------------------------------\u001b[0m",
      "\u001b[0;31mTypeError\u001b[0m                                 Traceback (most recent call last)",
      "\u001b[0;32m<ipython-input-63-2f72751ce11d>\u001b[0m in \u001b[0;36m<cell line: 1>\u001b[0;34m()\u001b[0m\n\u001b[0;32m----> 1\u001b[0;31m \u001b[0mconcat\u001b[0m\u001b[0;34m(\u001b[0m\u001b[0;34m'earth'\u001b[0m\u001b[0;34m,\u001b[0m\u001b[0;34m'mars'\u001b[0m\u001b[0;34m,\u001b[0m\u001b[0;34m'venus'\u001b[0m\u001b[0;34m,\u001b[0m\u001b[0;34m'/'\u001b[0m\u001b[0;34m)\u001b[0m\u001b[0;34m\u001b[0m\u001b[0;34m\u001b[0m\u001b[0m\n\u001b[0m",
      "\u001b[0;31mTypeError\u001b[0m: concat() missing 1 required keyword-only argument: 'sep'"
     ]
    }
   ],
   "source": [
    "concat('earth','mars','venus','/')"
   ]
  },
  {
   "cell_type": "code",
   "execution_count": 64,
   "metadata": {
    "colab": {
     "base_uri": "https://localhost:8080/",
     "height": 35
    },
    "id": "j4ajivfpMnYB",
    "outputId": "f3969805-9be1-41c8-999d-73e43fd21974"
   },
   "outputs": [
    {
     "data": {
      "application/vnd.google.colaboratory.intrinsic+json": {
       "type": "string"
      },
      "text/plain": [
       "'earth/mars/venus'"
      ]
     },
     "execution_count": 64,
     "metadata": {},
     "output_type": "execute_result"
    }
   ],
   "source": [
    "concat('earth','mars','venus',sep='/')   # 파라미터의 이름을 지정"
   ]
  },
  {
   "cell_type": "markdown",
   "metadata": {
    "id": "Weq8fgG-M8GY"
   },
   "source": [
    "#### 1) 함수 선언시 디폴트 파라미터로 선언"
   ]
  },
  {
   "cell_type": "code",
   "execution_count": 67,
   "metadata": {
    "colab": {
     "base_uri": "https://localhost:8080/",
     "height": 35
    },
    "id": "VCP4Q0DyM3JI",
    "outputId": "2f02a2cc-1623-4847-b2a1-046ee55049ad"
   },
   "outputs": [
    {
     "data": {
      "application/vnd.google.colaboratory.intrinsic+json": {
       "type": "string"
      },
      "text/plain": [
       "'earth,mars,venus'"
      ]
     },
     "execution_count": 67,
     "metadata": {},
     "output_type": "execute_result"
    }
   ],
   "source": [
    "def concat(*args, sep='/'):\n",
    "    return sep.join(args)\n",
    "\n",
    "concat('earth','mars','venus')\n",
    "concat('earth','mars','venus',sep=',')"
   ]
  },
  {
   "cell_type": "markdown",
   "metadata": {
    "id": "eoTPCmJmNRm4"
   },
   "source": [
    "#### 2) 순서인수가 앞에 올 수 있도록 파라미터 선언"
   ]
  },
  {
   "cell_type": "code",
   "execution_count": 66,
   "metadata": {
    "colab": {
     "base_uri": "https://localhost:8080/",
     "height": 35
    },
    "id": "MFqcSesqNQ8Q",
    "outputId": "6d0b7aca-5473-41fb-b46e-213af2e72e7e"
   },
   "outputs": [
    {
     "data": {
      "application/vnd.google.colaboratory.intrinsic+json": {
       "type": "string"
      },
      "text/plain": [
       "'earth/mars/venus'"
      ]
     },
     "execution_count": 66,
     "metadata": {},
     "output_type": "execute_result"
    }
   ],
   "source": [
    "def concat(sep, *args):\n",
    "    return sep.join(args)\n",
    "\n",
    "concat('/','earth','mars','venus')"
   ]
  },
  {
   "cell_type": "markdown",
   "metadata": {
    "id": "DxonJnqWOAvJ"
   },
   "source": [
    "### 딕셔너리 매개변수"
   ]
  },
  {
   "cell_type": "code",
   "execution_count": 68,
   "metadata": {
    "id": "ucDxKzK1NlXA"
   },
   "outputs": [],
   "source": [
    "def func6(a, *b, **c):  # a: 필수 매개변수, *b: 튜플 매개변수, **c: 딕셔너리 매개변수\n",
    "    print(a, b, c)"
   ]
  },
  {
   "cell_type": "code",
   "execution_count": 69,
   "metadata": {
    "colab": {
     "base_uri": "https://localhost:8080/"
    },
    "id": "VcIWVZ81Oa5Z",
    "outputId": "fd8856a8-8162-40ee-8e32-a4d0c546002a"
   },
   "outputs": [
    {
     "name": "stdout",
     "output_type": "stream",
     "text": [
      "10 (1, 2, 3) {'name': 'kildong', 'age': 20}\n"
     ]
    }
   ],
   "source": [
    "func6(10,1,2,3, name='kildong', age=20)\n",
    "# 딕셔너리 매개변수는 남는 키워드 인수를 스쿠핑 함. 딕셔너리 형식으로 저장"
   ]
  },
  {
   "cell_type": "markdown",
   "metadata": {
    "id": "Eb0VQj7OO2Ig"
   },
   "source": [
    "### 매개변수와 인수의 순서"
   ]
  },
  {
   "cell_type": "code",
   "execution_count": 71,
   "metadata": {
    "colab": {
     "base_uri": "https://localhost:8080/"
    },
    "id": "FV_otfelPPj_",
    "outputId": "ac459377-66ce-48ba-a1d1-91c3a1bae1b3"
   },
   "outputs": [
    {
     "name": "stdout",
     "output_type": "stream",
     "text": [
      "10 (1, 2, 3) 20 {'name': 'kildong'}\n"
     ]
    }
   ],
   "source": [
    "def func6(a, *b, age=10, **c):\n",
    "    print(a, b, age,c)\n",
    "\n",
    "func6(10,1,2,3, name='kildong', age=20)"
   ]
  },
  {
   "cell_type": "markdown",
   "metadata": {
    "id": "W7_Ykkf0PkSH"
   },
   "source": [
    "### 튜플 인수 언패킹"
   ]
  },
  {
   "cell_type": "code",
   "execution_count": 72,
   "metadata": {
    "id": "jYDcPZHkOweZ"
   },
   "outputs": [],
   "source": [
    "def add(*args):\n",
    "    sum = 0\n",
    "    for num in args:\n",
    "        sum += num\n",
    "    return sum"
   ]
  },
  {
   "cell_type": "code",
   "execution_count": 75,
   "metadata": {
    "colab": {
     "base_uri": "https://localhost:8080/",
     "height": 276
    },
    "id": "XFrNEebiPtXF",
    "outputId": "8dc39755-9e87-41e9-99a1-895eea7375c0"
   },
   "outputs": [
    {
     "ename": "TypeError",
     "evalue": "unsupported operand type(s) for +=: 'int' and 'tuple'",
     "output_type": "error",
     "traceback": [
      "\u001b[0;31m---------------------------------------------------------------------------\u001b[0m",
      "\u001b[0;31mTypeError\u001b[0m                                 Traceback (most recent call last)",
      "\u001b[0;32m<ipython-input-75-99d308bbf034>\u001b[0m in \u001b[0;36m<cell line: 2>\u001b[0;34m()\u001b[0m\n\u001b[1;32m      1\u001b[0m \u001b[0mT\u001b[0m \u001b[0;34m=\u001b[0m \u001b[0;34m(\u001b[0m\u001b[0;36m2\u001b[0m\u001b[0;34m,\u001b[0m\u001b[0;36m3\u001b[0m\u001b[0;34m,\u001b[0m\u001b[0;36m4\u001b[0m\u001b[0;34m)\u001b[0m\u001b[0;34m\u001b[0m\u001b[0;34m\u001b[0m\u001b[0m\n\u001b[0;32m----> 2\u001b[0;31m \u001b[0madd\u001b[0m\u001b[0;34m(\u001b[0m\u001b[0mT\u001b[0m\u001b[0;34m)\u001b[0m  \u001b[0;31m# add((2,3,4))\u001b[0m\u001b[0;34m\u001b[0m\u001b[0;34m\u001b[0m\u001b[0m\n\u001b[0m",
      "\u001b[0;32m<ipython-input-72-b5ac43824745>\u001b[0m in \u001b[0;36madd\u001b[0;34m(*args)\u001b[0m\n\u001b[1;32m      2\u001b[0m     \u001b[0msum\u001b[0m \u001b[0;34m=\u001b[0m \u001b[0;36m0\u001b[0m\u001b[0;34m\u001b[0m\u001b[0;34m\u001b[0m\u001b[0m\n\u001b[1;32m      3\u001b[0m     \u001b[0;32mfor\u001b[0m \u001b[0mnum\u001b[0m \u001b[0;32min\u001b[0m \u001b[0margs\u001b[0m\u001b[0;34m:\u001b[0m\u001b[0;34m\u001b[0m\u001b[0;34m\u001b[0m\u001b[0m\n\u001b[0;32m----> 4\u001b[0;31m         \u001b[0msum\u001b[0m \u001b[0;34m+=\u001b[0m \u001b[0mnum\u001b[0m\u001b[0;34m\u001b[0m\u001b[0;34m\u001b[0m\u001b[0m\n\u001b[0m\u001b[1;32m      5\u001b[0m     \u001b[0;32mreturn\u001b[0m \u001b[0msum\u001b[0m\u001b[0;34m\u001b[0m\u001b[0;34m\u001b[0m\u001b[0m\n",
      "\u001b[0;31mTypeError\u001b[0m: unsupported operand type(s) for +=: 'int' and 'tuple'"
     ]
    }
   ],
   "source": [
    "T = (2,3,4)\n",
    "add(T)  # add((2,3,4))"
   ]
  },
  {
   "cell_type": "code",
   "execution_count": 76,
   "metadata": {
    "colab": {
     "base_uri": "https://localhost:8080/"
    },
    "id": "uiNNct4aPveH",
    "outputId": "9e35da15-6172-43f3-dbd2-d9184937ee57"
   },
   "outputs": [
    {
     "data": {
      "text/plain": [
       "9"
      ]
     },
     "execution_count": 76,
     "metadata": {},
     "output_type": "execute_result"
    }
   ],
   "source": [
    "add(*T)  # 튜플 인수 언패킹 : add(2,3,4)"
   ]
  },
  {
   "cell_type": "markdown",
   "metadata": {
    "id": "uC0EEI3CQKLu"
   },
   "source": [
    "### 딕셔너리 인수 언패킹"
   ]
  },
  {
   "cell_type": "code",
   "execution_count": 77,
   "metadata": {
    "id": "5fbRKCIKQG-w"
   },
   "outputs": [],
   "source": [
    "def func5(**data):\n",
    "    for item in data.items():\n",
    "        print(item)"
   ]
  },
  {
   "cell_type": "code",
   "execution_count": 78,
   "metadata": {
    "colab": {
     "base_uri": "https://localhost:8080/",
     "height": 166
    },
    "id": "18lSLbLlQTwP",
    "outputId": "564314df-7a1b-4b64-d3e5-0015366d0de3"
   },
   "outputs": [
    {
     "ename": "TypeError",
     "evalue": "func5() takes 0 positional arguments but 1 was given",
     "output_type": "error",
     "traceback": [
      "\u001b[0;31m---------------------------------------------------------------------------\u001b[0m",
      "\u001b[0;31mTypeError\u001b[0m                                 Traceback (most recent call last)",
      "\u001b[0;32m<ipython-input-78-ced0db7c657f>\u001b[0m in \u001b[0;36m<cell line: 2>\u001b[0;34m()\u001b[0m\n\u001b[1;32m      1\u001b[0m \u001b[0mcust_info\u001b[0m \u001b[0;34m=\u001b[0m \u001b[0;34m{\u001b[0m\u001b[0;34m'name'\u001b[0m\u001b[0;34m:\u001b[0m\u001b[0;34m'kildong'\u001b[0m\u001b[0;34m,\u001b[0m \u001b[0;34m'age'\u001b[0m\u001b[0;34m:\u001b[0m\u001b[0;36m30\u001b[0m\u001b[0;34m}\u001b[0m\u001b[0;34m\u001b[0m\u001b[0;34m\u001b[0m\u001b[0m\n\u001b[0;32m----> 2\u001b[0;31m \u001b[0mfunc5\u001b[0m\u001b[0;34m(\u001b[0m\u001b[0mcust_info\u001b[0m\u001b[0;34m)\u001b[0m\u001b[0;34m\u001b[0m\u001b[0;34m\u001b[0m\u001b[0m\n\u001b[0m",
      "\u001b[0;31mTypeError\u001b[0m: func5() takes 0 positional arguments but 1 was given"
     ]
    }
   ],
   "source": [
    "cust_info = {'name':'kildong', 'age':30}\n",
    "func5(cust_info)  # func5({'name':'kildong', 'age':30})"
   ]
  },
  {
   "cell_type": "code",
   "execution_count": 79,
   "metadata": {
    "colab": {
     "base_uri": "https://localhost:8080/"
    },
    "id": "ZgOsCvx2Qcsv",
    "outputId": "778896ba-045b-4ecf-ebd3-308e827176c2"
   },
   "outputs": [
    {
     "name": "stdout",
     "output_type": "stream",
     "text": [
      "('name', 'kildong')\n",
      "('age', 30)\n"
     ]
    }
   ],
   "source": [
    "func5(**cust_info)  # 딕셔너리 인수 언패킹 : func5(name='kildong', age=30)"
   ]
  },
  {
   "cell_type": "markdown",
   "metadata": {
    "id": "G80YzNiPQ4Z_"
   },
   "source": [
    "### 함수의 인수로 함수 객체 전달하기"
   ]
  },
  {
   "cell_type": "code",
   "execution_count": 86,
   "metadata": {
    "id": "VIeZ-U2lQpk_"
   },
   "outputs": [],
   "source": [
    "def template(func, num, *args, **kwargs):  # 데코레이션 템플릿\n",
    "    print('---------------------')\n",
    "    print(num)\n",
    "    result = func(*args, **kwargs)  # 언패킹으로 전달해야 함!\n",
    "    print(result)\n",
    "    print('=====================')\n",
    "    return result"
   ]
  },
  {
   "cell_type": "code",
   "execution_count": 87,
   "metadata": {
    "colab": {
     "base_uri": "https://localhost:8080/"
    },
    "id": "OPizOhWOR68e",
    "outputId": "dfd4f595-bcf8-4e2f-aa40-35c8f6e2efb2"
   },
   "outputs": [
    {
     "name": "stdout",
     "output_type": "stream",
     "text": [
      "---------------------\n",
      "2\n",
      "18\n",
      "=====================\n",
      "18\n"
     ]
    }
   ],
   "source": [
    "result = template(add, 2,3,4,5,6)\n",
    "print(result)"
   ]
  },
  {
   "cell_type": "code",
   "execution_count": 88,
   "metadata": {
    "id": "JzO01fbmTPmI"
   },
   "outputs": [],
   "source": [
    "def concat(*args, sep='/'):\n",
    "    return sep.join(args)"
   ]
  },
  {
   "cell_type": "code",
   "execution_count": 89,
   "metadata": {
    "colab": {
     "base_uri": "https://localhost:8080/"
    },
    "id": "ZAZY1HtSTXS9",
    "outputId": "4fc394cc-f90b-4b5e-922b-c73c06d7ca10"
   },
   "outputs": [
    {
     "name": "stdout",
     "output_type": "stream",
     "text": [
      "---------------------\n",
      "0\n",
      "abc,def,ghi\n",
      "=====================\n",
      "abc,def,ghi\n"
     ]
    }
   ],
   "source": [
    "result = template(concat, 0, 'abc','def','ghi', sep=',')\n",
    "print(result)"
   ]
  },
  {
   "cell_type": "markdown",
   "metadata": {
    "id": "10xE4LjUVUmf"
   },
   "source": [
    "https://seaborn.pydata.org/generated/seaborn.jointplot.html#seaborn.jointplot"
   ]
  },
  {
   "cell_type": "code",
   "execution_count": 91,
   "metadata": {
    "id": "8kDj0SALVS_d"
   },
   "outputs": [],
   "source": [
    "def template(type='add', *args, **kwargs):\n",
    "    print('---------------------')\n",
    "    result = 0\n",
    "    if type == 'add':\n",
    "        result = add(*args, **kwargs)\n",
    "    elif type == 'concat':\n",
    "        result = concat(*args, **kwargs)\n",
    "    print(result)\n",
    "    print('=====================')\n",
    "    return result"
   ]
  },
  {
   "cell_type": "markdown",
   "metadata": {
    "id": "BaSB8-ToTEFV"
   },
   "source": [
    "## 2-4. 람다식\n",
    "람다식은 작은 익명함수를 의미함"
   ]
  },
  {
   "cell_type": "code",
   "execution_count": 92,
   "metadata": {
    "colab": {
     "base_uri": "https://localhost:8080/"
    },
    "id": "pvuzn-zdSaZ9",
    "outputId": "cbc120a0-f734-4faf-fe9f-11d0f6e81833"
   },
   "outputs": [
    {
     "name": "stdout",
     "output_type": "stream",
     "text": [
      "[1, 2, 3, 4, 5, 1, 2, 3, 4, 5]\n",
      "[2, 4, 6, 8, 10]\n"
     ]
    }
   ],
   "source": [
    "L = [1,2,3,4,5]\n",
    "# 리스트의 모든 요소에 2를 곱한 값을 갖는 리스트를 생성\n",
    "L2 = L * 2\n",
    "print(L2)\n",
    "\n",
    "L2 = []\n",
    "for data in L:\n",
    "    L2.append(data*2)\n",
    "print(L2)\n",
    "\n",
    "# 3을 곱한 값을 갖는 리스트 생성\n",
    "# 4를 곱한 값을 갖는 리스트 생성\n",
    "# 5를 더한 값을 갖는 리스트 생성\n",
    "# --> 특정 리스트에 있는 모든 요소에 어떤 함수를 적용한 값을 생성"
   ]
  },
  {
   "cell_type": "code",
   "execution_count": 93,
   "metadata": {
    "id": "jrKbHxwwcNGs"
   },
   "outputs": [],
   "source": [
    "def map_template(func, L=[]):\n",
    "    result = []\n",
    "    for item in L:\n",
    "        result.append(func(item))\n",
    "    return result"
   ]
  },
  {
   "cell_type": "code",
   "execution_count": 94,
   "metadata": {
    "colab": {
     "base_uri": "https://localhost:8080/"
    },
    "id": "N2ISfW4acWhq",
    "outputId": "97d8fd55-8f61-4b88-c173-b04fbc24c900"
   },
   "outputs": [
    {
     "data": {
      "text/plain": [
       "[3, 6, 9, 12, 15]"
      ]
     },
     "execution_count": 94,
     "metadata": {},
     "output_type": "execute_result"
    }
   ],
   "source": [
    "L = [1,2,3,4,5]\n",
    "\n",
    "def x3(data):  # 인수로 전달할 함수 정의\n",
    "    return data*3\n",
    "\n",
    "map_template(x3, L)"
   ]
  },
  {
   "cell_type": "markdown",
   "metadata": {
    "id": "QidXCCrqfhRp"
   },
   "source": [
    "#### 1) 함수의 인수에 람다식 사용"
   ]
  },
  {
   "cell_type": "code",
   "execution_count": 95,
   "metadata": {
    "colab": {
     "base_uri": "https://localhost:8080/"
    },
    "id": "Oq5T6Je8cjSQ",
    "outputId": "63595406-ea4c-42f6-b313-af2ad156c37c"
   },
   "outputs": [
    {
     "data": {
      "text/plain": [
       "[3, 6, 9, 12, 15]"
      ]
     },
     "execution_count": 95,
     "metadata": {},
     "output_type": "execute_result"
    }
   ],
   "source": [
    "# 3을 곱한 값을 갖는 리스트 생성\n",
    "map_template(lambda data: data*3, L)"
   ]
  },
  {
   "cell_type": "code",
   "execution_count": 97,
   "metadata": {
    "colab": {
     "base_uri": "https://localhost:8080/"
    },
    "id": "NUg5Qcsvcxin",
    "outputId": "c7d48433-af7a-4128-bf2f-de92e883e5b8"
   },
   "outputs": [
    {
     "data": {
      "text/plain": [
       "[6, 7, 8, 9, 10]"
      ]
     },
     "execution_count": 97,
     "metadata": {},
     "output_type": "execute_result"
    }
   ],
   "source": [
    "# 5를 더한 값을 갖는 리스트 생성\n",
    "map_template(lambda x : x+5, L)"
   ]
  },
  {
   "cell_type": "code",
   "execution_count": 98,
   "metadata": {
    "id": "juhyVZc9c7Ao"
   },
   "outputs": [],
   "source": [
    "def filter_template(func, L=[]):\n",
    "    result = []\n",
    "    for item in L:\n",
    "        if func(item):\n",
    "            result.append(item)\n",
    "    return result"
   ]
  },
  {
   "cell_type": "code",
   "execution_count": 99,
   "metadata": {
    "colab": {
     "base_uri": "https://localhost:8080/"
    },
    "id": "PQ6Q0YdQfAqZ",
    "outputId": "e4f33f21-37b0-425f-d1aa-adbec15f6aff"
   },
   "outputs": [
    {
     "data": {
      "text/plain": [
       "[2, 4, 6, 8, 10]"
      ]
     },
     "execution_count": 99,
     "metadata": {},
     "output_type": "execute_result"
    }
   ],
   "source": [
    "L = [1,2,3,4,5,6,7,8,9,10]\n",
    "\n",
    "# 짝수만 리스트로 생성\n",
    "def even(data):\n",
    "    return data%2 == 0\n",
    "\n",
    "filter_template(even, L)"
   ]
  },
  {
   "cell_type": "code",
   "execution_count": 100,
   "metadata": {
    "colab": {
     "base_uri": "https://localhost:8080/"
    },
    "id": "er3Va_40fViH",
    "outputId": "8307e161-1a65-4f49-efc0-7f24860ae4c9"
   },
   "outputs": [
    {
     "data": {
      "text/plain": [
       "[2, 4, 6, 8, 10]"
      ]
     },
     "execution_count": 100,
     "metadata": {},
     "output_type": "execute_result"
    }
   ],
   "source": [
    "# 람다식으로\n",
    "filter_template(lambda x : x%2==0, L)"
   ]
  },
  {
   "cell_type": "markdown",
   "metadata": {
    "id": "1lBj1agKfozH"
   },
   "source": [
    "#### 2) 리턴문에 람다식 사용"
   ]
  },
  {
   "cell_type": "code",
   "execution_count": 101,
   "metadata": {
    "id": "K-ldC_h6feKf"
   },
   "outputs": [],
   "source": [
    "def make_array(shape):\n",
    "    def x2(x):\n",
    "        return [x]*shape[0]\n",
    "    def x3(x):\n",
    "        return [[x]*shape[1]] * shape[0]\n",
    "\n",
    "    if len(shape) == 1:\n",
    "        return x2\n",
    "    elif len(shape) == 2:\n",
    "        return x3"
   ]
  },
  {
   "cell_type": "code",
   "execution_count": 102,
   "metadata": {
    "id": "fBAFqI1FgXyn"
   },
   "outputs": [],
   "source": [
    "# 함수를 리턴할 경우 리턴문에 람다식 사용\n",
    "def make_array(shape):\n",
    "    if len(shape) == 1:\n",
    "        return lambda x : [x]*shape[0]\n",
    "    elif len(shape) == 2:\n",
    "        return lambda x : [[x]*shape[1]] * shape[0]"
   ]
  },
  {
   "cell_type": "code",
   "execution_count": 108,
   "metadata": {
    "colab": {
     "base_uri": "https://localhost:8080/"
    },
    "id": "CJvZ_mZsgpkW",
    "outputId": "491f6a7e-9599-4e2d-c575-60e722ee7cc0"
   },
   "outputs": [
    {
     "data": {
      "text/plain": [
       "function"
      ]
     },
     "execution_count": 108,
     "metadata": {},
     "output_type": "execute_result"
    }
   ],
   "source": [
    "f1 = make_array((2,))\n",
    "type(f1)"
   ]
  },
  {
   "cell_type": "code",
   "execution_count": 109,
   "metadata": {
    "colab": {
     "base_uri": "https://localhost:8080/"
    },
    "id": "fcIchiHwg-kf",
    "outputId": "b5928f65-b466-4a32-a02e-2c4ddc9dd378"
   },
   "outputs": [
    {
     "data": {
      "text/plain": [
       "[0, 0]"
      ]
     },
     "execution_count": 109,
     "metadata": {},
     "output_type": "execute_result"
    }
   ],
   "source": [
    "f1(0)"
   ]
  },
  {
   "cell_type": "code",
   "execution_count": 111,
   "metadata": {
    "colab": {
     "base_uri": "https://localhost:8080/"
    },
    "id": "GHncusgFhGf2",
    "outputId": "083aa9f2-3c6d-4f2c-fcc7-7b04b6ec8f0f"
   },
   "outputs": [
    {
     "data": {
      "text/plain": [
       "[0, 0]"
      ]
     },
     "execution_count": 111,
     "metadata": {},
     "output_type": "execute_result"
    }
   ],
   "source": [
    "# 2크기 리스트를 만들고 기본값 0을 할당함.\n",
    "make_array((2,))(0)"
   ]
  },
  {
   "cell_type": "code",
   "execution_count": 112,
   "metadata": {
    "colab": {
     "base_uri": "https://localhost:8080/"
    },
    "id": "hK2otND2hUlm",
    "outputId": "b5c76c37-b56c-43af-934b-7f055b8f0d65"
   },
   "outputs": [
    {
     "data": {
      "text/plain": [
       "[[10, 10, 10], [10, 10, 10]]"
      ]
     },
     "execution_count": 112,
     "metadata": {},
     "output_type": "execute_result"
    }
   ],
   "source": [
    "# 2행 3열 크기의 리스트를 만들고 기본값 10을 할당함\n",
    "make_array((2,3))(10)"
   ]
  },
  {
   "cell_type": "markdown",
   "metadata": {
    "id": "Pc-dihHfjAzG"
   },
   "source": [
    "### 타입 힌트"
   ]
  },
  {
   "cell_type": "code",
   "execution_count": 115,
   "metadata": {
    "id": "ZgqPXXYqhg02"
   },
   "outputs": [],
   "source": [
    "def power(a: int, b: int=2) -> int:  # 매개변수 타입힌트, 리턴타입 힌트\n",
    "    return a**b"
   ]
  },
  {
   "cell_type": "code",
   "execution_count": 116,
   "metadata": {
    "colab": {
     "base_uri": "https://localhost:8080/"
    },
    "id": "Cyeskfa1jG2G",
    "outputId": "16ba060f-55d1-4d13-adbd-96224bfad0af"
   },
   "outputs": [
    {
     "data": {
      "text/plain": [
       "7.0"
      ]
     },
     "execution_count": 116,
     "metadata": {},
     "output_type": "execute_result"
    }
   ],
   "source": [
    "power(3.5, 2)  # 타입 힌트는 강제성은 없지만 함수를 사용하는 사람에게 가이드를 줄 수 있다."
   ]
  }
 ],
 "metadata": {
  "colab": {
   "provenance": []
  },
  "kernelspec": {
   "display_name": "Python 3 (ipykernel)",
   "language": "python",
   "name": "python3"
  },
  "language_info": {
   "codemirror_mode": {
    "name": "ipython",
    "version": 3
   },
   "file_extension": ".py",
   "mimetype": "text/x-python",
   "name": "python",
   "nbconvert_exporter": "python",
   "pygments_lexer": "ipython3",
   "version": "3.11.5"
  }
 },
 "nbformat": 4,
 "nbformat_minor": 1
}
