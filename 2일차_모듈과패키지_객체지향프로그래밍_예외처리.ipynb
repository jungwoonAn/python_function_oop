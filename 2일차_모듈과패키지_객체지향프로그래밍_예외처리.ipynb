{
 "cells": [
  {
   "cell_type": "markdown",
   "metadata": {
    "id": "CPz0LlNFFlPR"
   },
   "source": [
    "# 3. 모듈과 패키지"
   ]
  },
  {
   "cell_type": "markdown",
   "metadata": {
    "id": "Q3rfnEdeFp4p"
   },
   "source": [
    "## 3-1. 모듈 사용하기"
   ]
  },
  {
   "cell_type": "code",
   "execution_count": 1,
   "metadata": {
    "colab": {
     "base_uri": "https://localhost:8080/",
     "height": 147
    },
    "executionInfo": {
     "elapsed": 601,
     "status": "error",
     "timestamp": 1726986122835,
     "user": {
      "displayName": "JUNGWOON AN",
      "userId": "18046724802149141730"
     },
     "user_tz": -540
    },
    "id": "j8j7Wn2JBKWx",
    "outputId": "d8f10cdf-bc76-4ed5-d7dc-a4f329f6fa77"
   },
   "outputs": [
    {
     "ename": "NameError",
     "evalue": "name 'time' is not defined",
     "output_type": "error",
     "traceback": [
      "\u001b[0;31m---------------------------------------------------------------------------\u001b[0m",
      "\u001b[0;31mNameError\u001b[0m                                 Traceback (most recent call last)",
      "\u001b[0;32m<ipython-input-1-65b4ff420e9b>\u001b[0m in \u001b[0;36m<cell line: 1>\u001b[0;34m()\u001b[0m\n\u001b[0;32m----> 1\u001b[0;31m \u001b[0mtime\u001b[0m\u001b[0;34m.\u001b[0m\u001b[0mctime\u001b[0m\u001b[0;34m(\u001b[0m\u001b[0;34m)\u001b[0m\u001b[0;34m\u001b[0m\u001b[0;34m\u001b[0m\u001b[0m\n\u001b[0m",
      "\u001b[0;31mNameError\u001b[0m: name 'time' is not defined"
     ]
    }
   ],
   "source": [
    "time.ctime()"
   ]
  },
  {
   "cell_type": "code",
   "execution_count": 2,
   "metadata": {
    "colab": {
     "base_uri": "https://localhost:8080/",
     "height": 35
    },
    "executionInfo": {
     "elapsed": 6,
     "status": "ok",
     "timestamp": 1726986123254,
     "user": {
      "displayName": "JUNGWOON AN",
      "userId": "18046724802149141730"
     },
     "user_tz": -540
    },
    "id": "WcFB1C__FTPk",
    "outputId": "b2d3319d-9d72-49c9-fefa-513303f09fc1"
   },
   "outputs": [
    {
     "data": {
      "application/vnd.google.colaboratory.intrinsic+json": {
       "type": "string"
      },
      "text/plain": [
       "'Sun Sep 22 06:21:45 2024'"
      ]
     },
     "execution_count": 2,
     "metadata": {},
     "output_type": "execute_result"
    }
   ],
   "source": [
    "import time\n",
    "time.ctime()"
   ]
  },
  {
   "cell_type": "code",
   "execution_count": 3,
   "metadata": {
    "colab": {
     "base_uri": "https://localhost:8080/",
     "height": 35
    },
    "executionInfo": {
     "elapsed": 6,
     "status": "ok",
     "timestamp": 1726986123254,
     "user": {
      "displayName": "JUNGWOON AN",
      "userId": "18046724802149141730"
     },
     "user_tz": -540
    },
    "id": "3NHyUJMPFber",
    "outputId": "c889dfc8-fd97-4fa5-9d51-cedd0b56e239"
   },
   "outputs": [
    {
     "data": {
      "application/vnd.google.colaboratory.intrinsic+json": {
       "type": "string"
      },
      "text/plain": [
       "'Sun Sep 22 06:21:45 2024'"
      ]
     },
     "execution_count": 3,
     "metadata": {},
     "output_type": "execute_result"
    }
   ],
   "source": [
    "from time import ctime\n",
    "ctime()"
   ]
  },
  {
   "cell_type": "code",
   "execution_count": 4,
   "metadata": {
    "colab": {
     "base_uri": "https://localhost:8080/",
     "height": 35
    },
    "executionInfo": {
     "elapsed": 5,
     "status": "ok",
     "timestamp": 1726986123254,
     "user": {
      "displayName": "JUNGWOON AN",
      "userId": "18046724802149141730"
     },
     "user_tz": -540
    },
    "id": "Nf4QnTvtFf-S",
    "outputId": "b4a330ec-b98c-47f6-bae1-b73402483ea4"
   },
   "outputs": [
    {
     "data": {
      "application/vnd.google.colaboratory.intrinsic+json": {
       "type": "string"
      },
      "text/plain": [
       "'Sun Sep 22 06:21:45 2024'"
      ]
     },
     "execution_count": 4,
     "metadata": {},
     "output_type": "execute_result"
    }
   ],
   "source": [
    "import time as t\n",
    "t.ctime()"
   ]
  },
  {
   "cell_type": "code",
   "execution_count": 5,
   "metadata": {
    "colab": {
     "base_uri": "https://localhost:8080/"
    },
    "executionInfo": {
     "elapsed": 552,
     "status": "ok",
     "timestamp": 1726986123802,
     "user": {
      "displayName": "JUNGWOON AN",
      "userId": "18046724802149141730"
     },
     "user_tz": -540
    },
    "id": "yzcpkgxnFj5J",
    "outputId": "b95796ab-1d49-4947-96b2-1137b4d7fe1d"
   },
   "outputs": [
    {
     "name": "stdout",
     "output_type": "stream",
     "text": [
      "['CLOCK_BOOTTIME', 'CLOCK_MONOTONIC', 'CLOCK_MONOTONIC_RAW', 'CLOCK_PROCESS_CPUTIME_ID', 'CLOCK_REALTIME', 'CLOCK_TAI', 'CLOCK_THREAD_CPUTIME_ID', '_STRUCT_TM_ITEMS', '__doc__', '__loader__', '__name__', '__package__', '__spec__', 'altzone', 'asctime', 'clock_getres', 'clock_gettime', 'clock_gettime_ns', 'clock_settime', 'clock_settime_ns', 'ctime', 'daylight', 'get_clock_info', 'gmtime', 'localtime', 'mktime', 'monotonic', 'monotonic_ns', 'perf_counter', 'perf_counter_ns', 'process_time', 'process_time_ns', 'pthread_getcpuclockid', 'sleep', 'strftime', 'strptime', 'struct_time', 'thread_time', 'thread_time_ns', 'time', 'time_ns', 'timezone', 'tzname', 'tzset']\n"
     ]
    }
   ],
   "source": [
    "print(dir(time))"
   ]
  },
  {
   "cell_type": "markdown",
   "metadata": {
    "id": "HDYCP9tdLNRm"
   },
   "source": [
    "## 3-2. 사용자 정의 모듈"
   ]
  },
  {
   "cell_type": "code",
   "execution_count": 6,
   "metadata": {
    "colab": {
     "base_uri": "https://localhost:8080/"
    },
    "executionInfo": {
     "elapsed": 22,
     "status": "ok",
     "timestamp": 1726986123802,
     "user": {
      "displayName": "JUNGWOON AN",
      "userId": "18046724802149141730"
     },
     "user_tz": -540
    },
    "id": "Yiis4FilFyCD",
    "outputId": "3c969961-ff02-4690-c199-221e59db98ce"
   },
   "outputs": [
    {
     "name": "stdout",
     "output_type": "stream",
     "text": [
      "Overwriting fibonacci.py\n"
     ]
    }
   ],
   "source": [
    "%%writefile \"fibonacci.py\"\n",
    "def fibo1(n):\n",
    "    a, b = 0, 1\n",
    "    while b<n:\n",
    "        print(b, end=' ')\n",
    "        a, b = b, a+b\n",
    "    print()\n",
    "\n",
    "\n",
    "def fibo2(n):\n",
    "    result = []\n",
    "    a, b = 0, 1\n",
    "    while b<n:\n",
    "        result.append(b)\n",
    "        a, b = b, a+b\n",
    "    return result"
   ]
  },
  {
   "cell_type": "markdown",
   "metadata": {
    "id": "jhiAe1utOM90"
   },
   "source": [
    "### 모듈/패키지 경로 추가하기"
   ]
  },
  {
   "cell_type": "code",
   "execution_count": 7,
   "metadata": {
    "executionInfo": {
     "elapsed": 21,
     "status": "ok",
     "timestamp": 1726986123802,
     "user": {
      "displayName": "JUNGWOON AN",
      "userId": "18046724802149141730"
     },
     "user_tz": -540
    },
    "id": "uGcShYnMKZRH"
   },
   "outputs": [],
   "source": [
    "# 모듈이 다른 폴더에 있는경우 sys.path등록\n",
    "import sys\n",
    "sys.path.append('/content')"
   ]
  },
  {
   "cell_type": "code",
   "execution_count": 8,
   "metadata": {
    "colab": {
     "base_uri": "https://localhost:8080/"
    },
    "executionInfo": {
     "elapsed": 21,
     "status": "ok",
     "timestamp": 1726986123802,
     "user": {
      "displayName": "JUNGWOON AN",
      "userId": "18046724802149141730"
     },
     "user_tz": -540
    },
    "id": "Af64N2ubH5qQ",
    "outputId": "fcc10109-738c-42e9-a517-8428e5e8444d"
   },
   "outputs": [
    {
     "name": "stdout",
     "output_type": "stream",
     "text": [
      "1 1 2 3 5 8 13 21 34 55 89 144 \n"
     ]
    }
   ],
   "source": [
    "import fibonacci  # /content/fibonacci.py\n",
    "fibonacci.fibo1(200)"
   ]
  },
  {
   "cell_type": "markdown",
   "metadata": {
    "id": "LCMpJpDVOZRE"
   },
   "source": [
    "### python 명령으로 모듈 실행"
   ]
  },
  {
   "cell_type": "code",
   "execution_count": 9,
   "metadata": {
    "colab": {
     "base_uri": "https://localhost:8080/"
    },
    "executionInfo": {
     "elapsed": 20,
     "status": "ok",
     "timestamp": 1726986123802,
     "user": {
      "displayName": "JUNGWOON AN",
      "userId": "18046724802149141730"
     },
     "user_tz": -540
    },
    "id": "7HDfga8uIDH6",
    "outputId": "6943afa9-1cfd-4dc2-f9a0-1ab91c766e22"
   },
   "outputs": [
    {
     "name": "stdout",
     "output_type": "stream",
     "text": [
      "Overwriting fibonacci.py\n"
     ]
    }
   ],
   "source": [
    "%%writefile \"fibonacci.py\"\n",
    "def fibo1(n):\n",
    "    a, b = 0, 1\n",
    "    while b<n:\n",
    "        print(b, end=' ')\n",
    "        a, b = b, a+b\n",
    "    print()\n",
    "\n",
    "\n",
    "def fibo2(n):\n",
    "    result = []\n",
    "    a, b = 0, 1\n",
    "    while b<n:\n",
    "        result.append(b)\n",
    "        a, b = b, a+b\n",
    "    return result\n",
    "\n",
    "if __name__ == \"__main__\":  # python명령으로 모듈 실행하려면\n",
    "    fibo1(200)"
   ]
  },
  {
   "cell_type": "code",
   "execution_count": 10,
   "metadata": {
    "colab": {
     "base_uri": "https://localhost:8080/"
    },
    "executionInfo": {
     "elapsed": 19,
     "status": "ok",
     "timestamp": 1726986123802,
     "user": {
      "displayName": "JUNGWOON AN",
      "userId": "18046724802149141730"
     },
     "user_tz": -540
    },
    "id": "h6komQdtJYyh",
    "outputId": "32e832ae-c7ae-4f15-8fe9-b043c0bad46b"
   },
   "outputs": [
    {
     "name": "stdout",
     "output_type": "stream",
     "text": [
      "1 1 2 3 5 8 13 21 34 55 89 144 \n"
     ]
    }
   ],
   "source": [
    "! python fibonacci.py  # 명령 실행"
   ]
  },
  {
   "cell_type": "code",
   "execution_count": 11,
   "metadata": {
    "colab": {
     "base_uri": "https://localhost:8080/"
    },
    "executionInfo": {
     "elapsed": 17,
     "status": "ok",
     "timestamp": 1726986123802,
     "user": {
      "displayName": "JUNGWOON AN",
      "userId": "18046724802149141730"
     },
     "user_tz": -540
    },
    "id": "Hd3imZIYJgr4",
    "outputId": "1a3a1b47-8dfc-45bf-9a39-ddceb992ac77"
   },
   "outputs": [
    {
     "name": "stdout",
     "output_type": "stream",
     "text": [
      "Overwriting fibonacci.py\n"
     ]
    }
   ],
   "source": [
    "%%writefile \"fibonacci.py\"\n",
    "def fibo1(n):\n",
    "    a, b = 0, 1\n",
    "    while b<n:\n",
    "        print(b, end=' ')\n",
    "        a, b = b, a+b\n",
    "    print()\n",
    "\n",
    "\n",
    "def fibo2(n):\n",
    "    result = []\n",
    "    a, b = 0, 1\n",
    "    while b<n:\n",
    "        result.append(b)\n",
    "        a, b = b, a+b\n",
    "    return result\n",
    "\n",
    "if __name__ == \"__main__\":\n",
    "    import sys\n",
    "    fibo1(int(sys.argv[1]))  # 명령행 인수를 받아서 명령 실행"
   ]
  },
  {
   "cell_type": "code",
   "execution_count": 12,
   "metadata": {
    "colab": {
     "base_uri": "https://localhost:8080/"
    },
    "executionInfo": {
     "elapsed": 16,
     "status": "ok",
     "timestamp": 1726986123802,
     "user": {
      "displayName": "JUNGWOON AN",
      "userId": "18046724802149141730"
     },
     "user_tz": -540
    },
    "id": "cCIfcoZWKDTR",
    "outputId": "acce3fb5-b797-4b77-bc3c-3783b0a66623"
   },
   "outputs": [
    {
     "name": "stdout",
     "output_type": "stream",
     "text": [
      "1 1 2 3 5 8 13 21 34 55 89 144 \n"
     ]
    }
   ],
   "source": [
    "! python fibonacci.py 200"
   ]
  },
  {
   "cell_type": "markdown",
   "metadata": {
    "id": "O6stijrtOEgk"
   },
   "source": [
    "## 3-3. 패키지"
   ]
  },
  {
   "cell_type": "markdown",
   "metadata": {
    "id": "fq0VGDM_OH_1"
   },
   "source": [
    "### 패키지 리로드"
   ]
  },
  {
   "cell_type": "code",
   "execution_count": 13,
   "metadata": {
    "colab": {
     "base_uri": "https://localhost:8080/"
    },
    "executionInfo": {
     "elapsed": 15,
     "status": "ok",
     "timestamp": 1726986123802,
     "user": {
      "displayName": "JUNGWOON AN",
      "userId": "18046724802149141730"
     },
     "user_tz": -540
    },
    "id": "rgmbF7rTKFrA",
    "outputId": "a477490b-506b-4f0b-e366-0138d7b2b28d"
   },
   "outputs": [
    {
     "name": "stdout",
     "output_type": "stream",
     "text": [
      "Overwriting fibonacci.py\n"
     ]
    }
   ],
   "source": [
    "%%writefile \"fibonacci.py\"\n",
    "def fibo1(n):\n",
    "    print('수정')\n",
    "    a, b = 0, 1\n",
    "    while b<n:\n",
    "        print(b, end=' ')\n",
    "        a, b = b, a+b\n",
    "    print()\n",
    "\n",
    "\n",
    "def fibo2(n):\n",
    "    result = []\n",
    "    a, b = 0, 1\n",
    "    while b<n:\n",
    "        result.append(b)\n",
    "        a, b = b, a+b\n",
    "    return result\n",
    "\n",
    "if __name__ == \"__main__\":\n",
    "    import sys\n",
    "    fibo1(int(sys.argv[1]))  # 명령행 인수를 받아서 명령 실행"
   ]
  },
  {
   "cell_type": "code",
   "execution_count": 14,
   "metadata": {
    "colab": {
     "base_uri": "https://localhost:8080/"
    },
    "executionInfo": {
     "elapsed": 14,
     "status": "ok",
     "timestamp": 1726986123803,
     "user": {
      "displayName": "JUNGWOON AN",
      "userId": "18046724802149141730"
     },
     "user_tz": -540
    },
    "id": "QmHC-9WpNOD2",
    "outputId": "4337b35f-95e5-49ac-e7ba-257cbfc64723"
   },
   "outputs": [
    {
     "name": "stdout",
     "output_type": "stream",
     "text": [
      "수정\n",
      "1 1 2 3 5 8 13 21 34 55 89 144 233 377 610 987 1597 \n"
     ]
    }
   ],
   "source": [
    "import fibonacci\n",
    "# 임포트된 패키지/모듈은 수정 후 커널(세션 또는 런타임)을 재시작해야 반영됩니다.\n",
    "# 또는 아래의 importlib 모듈을 통해 리로드 해야 반영 됩니다.\n",
    "import importlib\n",
    "importlib.reload(fibonacci)\n",
    "\n",
    "fibonacci.fibo1(2000)"
   ]
  },
  {
   "cell_type": "markdown",
   "metadata": {
    "id": "GnxbZmnNUhj5"
   },
   "source": [
    "# 4. 객체지향 프로그래밍"
   ]
  },
  {
   "cell_type": "markdown",
   "metadata": {
    "id": "MgIVVegCUugg"
   },
   "source": [
    "## 4-1. 객체와 클래스"
   ]
  },
  {
   "cell_type": "markdown",
   "metadata": {
    "id": "zRLKbnwlYBqf"
   },
   "source": [
    "### 클래스 정의 및 객체 생성"
   ]
  },
  {
   "cell_type": "code",
   "execution_count": 15,
   "metadata": {
    "executionInfo": {
     "elapsed": 13,
     "status": "ok",
     "timestamp": 1726986123803,
     "user": {
      "displayName": "JUNGWOON AN",
      "userId": "18046724802149141730"
     },
     "user_tz": -540
    },
    "id": "akaqKP7UN5IP"
   },
   "outputs": [],
   "source": [
    "class Person:\n",
    "    pass"
   ]
  },
  {
   "cell_type": "code",
   "execution_count": 16,
   "metadata": {
    "executionInfo": {
     "elapsed": 13,
     "status": "ok",
     "timestamp": 1726986123803,
     "user": {
      "displayName": "JUNGWOON AN",
      "userId": "18046724802149141730"
     },
     "user_tz": -540
    },
    "id": "3KRWM_11W2Fi"
   },
   "outputs": [],
   "source": [
    "p1 = Person()"
   ]
  },
  {
   "cell_type": "code",
   "execution_count": 17,
   "metadata": {
    "colab": {
     "base_uri": "https://localhost:8080/"
    },
    "executionInfo": {
     "elapsed": 13,
     "status": "ok",
     "timestamp": 1726986123803,
     "user": {
      "displayName": "JUNGWOON AN",
      "userId": "18046724802149141730"
     },
     "user_tz": -540
    },
    "id": "P_BOIRDCXoDp",
    "outputId": "884dfc00-3f98-41c3-88f0-834b43c29737"
   },
   "outputs": [
    {
     "name": "stdout",
     "output_type": "stream",
     "text": [
      "<class '__main__.Person'>\n",
      "<__main__.Person object at 0x7c87f058b880>\n"
     ]
    }
   ],
   "source": [
    "print(type(p1))\n",
    "print(p1)"
   ]
  },
  {
   "cell_type": "markdown",
   "metadata": {
    "id": "khJqWBMgckq9"
   },
   "source": [
    "## 4-2. 변수와 메서드"
   ]
  },
  {
   "cell_type": "markdown",
   "metadata": {
    "id": "IBmocNbPX_Bv"
   },
   "source": [
    "### 객체에 멤버 추가"
   ]
  },
  {
   "cell_type": "code",
   "execution_count": 18,
   "metadata": {
    "executionInfo": {
     "elapsed": 12,
     "status": "ok",
     "timestamp": 1726986123803,
     "user": {
      "displayName": "JUNGWOON AN",
      "userId": "18046724802149141730"
     },
     "user_tz": -540
    },
    "id": "h620EQK1Xo9h"
   },
   "outputs": [],
   "source": [
    "class Person:\n",
    "    name = '홍길동'\n",
    "    gender = '남자'\n",
    "\n",
    "    def print_info():\n",
    "        print('Person 객체 입니다.')"
   ]
  },
  {
   "cell_type": "code",
   "execution_count": 19,
   "metadata": {
    "executionInfo": {
     "elapsed": 12,
     "status": "ok",
     "timestamp": 1726986123803,
     "user": {
      "displayName": "JUNGWOON AN",
      "userId": "18046724802149141730"
     },
     "user_tz": -540
    },
    "id": "XLEJ8pPKYLw5"
   },
   "outputs": [],
   "source": [
    "p2 = Person()"
   ]
  },
  {
   "cell_type": "code",
   "execution_count": 20,
   "metadata": {
    "colab": {
     "base_uri": "https://localhost:8080/"
    },
    "executionInfo": {
     "elapsed": 12,
     "status": "ok",
     "timestamp": 1726986123803,
     "user": {
      "displayName": "JUNGWOON AN",
      "userId": "18046724802149141730"
     },
     "user_tz": -540
    },
    "id": "F12CQW-tYUGo",
    "outputId": "b3b465ca-0b88-4939-fd6c-40c63b9a235c"
   },
   "outputs": [
    {
     "name": "stdout",
     "output_type": "stream",
     "text": [
      "<class '__main__.Person'>\n",
      "<__main__.Person object at 0x7c87f058a9e0>\n",
      "홍길동\n"
     ]
    }
   ],
   "source": [
    "print(type(p2))\n",
    "print(p2)\n",
    "print(p2.name)"
   ]
  },
  {
   "cell_type": "code",
   "execution_count": 21,
   "metadata": {
    "colab": {
     "base_uri": "https://localhost:8080/"
    },
    "executionInfo": {
     "elapsed": 11,
     "status": "ok",
     "timestamp": 1726986123803,
     "user": {
      "displayName": "JUNGWOON AN",
      "userId": "18046724802149141730"
     },
     "user_tz": -540
    },
    "id": "RkR7ropsYdjP",
    "outputId": "8910a9ff-64a2-4285-ea2a-eec3e15e7066"
   },
   "outputs": [
    {
     "name": "stdout",
     "output_type": "stream",
     "text": [
      "Person 객체 입니다.\n"
     ]
    }
   ],
   "source": [
    "# 클래스를 이용한 참조\n",
    "Person.print_info()"
   ]
  },
  {
   "cell_type": "code",
   "execution_count": 22,
   "metadata": {
    "colab": {
     "base_uri": "https://localhost:8080/",
     "height": 166
    },
    "executionInfo": {
     "elapsed": 10,
     "status": "error",
     "timestamp": 1726986123803,
     "user": {
      "displayName": "JUNGWOON AN",
      "userId": "18046724802149141730"
     },
     "user_tz": -540
    },
    "id": "fIP9FSL3Y4PB",
    "outputId": "834846b3-71cd-4480-caa6-1f5f7fcabd9e"
   },
   "outputs": [
    {
     "ename": "TypeError",
     "evalue": "Person.print_info() takes 0 positional arguments but 1 was given",
     "output_type": "error",
     "traceback": [
      "\u001b[0;31m---------------------------------------------------------------------------\u001b[0m",
      "\u001b[0;31mTypeError\u001b[0m                                 Traceback (most recent call last)",
      "\u001b[0;32m<ipython-input-22-ae3cc74de54e>\u001b[0m in \u001b[0;36m<cell line: 2>\u001b[0;34m()\u001b[0m\n\u001b[1;32m      1\u001b[0m \u001b[0;31m# 객체를 이용한 참조\u001b[0m\u001b[0;34m\u001b[0m\u001b[0;34m\u001b[0m\u001b[0m\n\u001b[0;32m----> 2\u001b[0;31m \u001b[0mp2\u001b[0m\u001b[0;34m.\u001b[0m\u001b[0mprint_info\u001b[0m\u001b[0;34m(\u001b[0m\u001b[0;34m)\u001b[0m  \u001b[0;31m# Person.print_info(p1)\u001b[0m\u001b[0;34m\u001b[0m\u001b[0;34m\u001b[0m\u001b[0m\n\u001b[0m",
      "\u001b[0;31mTypeError\u001b[0m: Person.print_info() takes 0 positional arguments but 1 was given"
     ]
    }
   ],
   "source": [
    "# 객체를 이용한 참조\n",
    "p2.print_info()  # Person.print_info(p1)"
   ]
  },
  {
   "cell_type": "markdown",
   "metadata": {
    "id": "RQn_LL7sZlNX"
   },
   "source": [
    "### 인스턴스 메서드"
   ]
  },
  {
   "cell_type": "code",
   "execution_count": 23,
   "metadata": {
    "executionInfo": {
     "elapsed": 568,
     "status": "ok",
     "timestamp": 1726986138534,
     "user": {
      "displayName": "JUNGWOON AN",
      "userId": "18046724802149141730"
     },
     "user_tz": -540
    },
    "id": "z_2xT0qxY6ng"
   },
   "outputs": [],
   "source": [
    "class Person:\n",
    "    name = '홍길동'\n",
    "    gender = '남자'\n",
    "\n",
    "    def print_info(self):  # 인스턴스 메서드의 첫 번째 매개변수는 self여야 함\n",
    "        print('Person 객체 입니다.')"
   ]
  },
  {
   "cell_type": "code",
   "execution_count": 24,
   "metadata": {
    "executionInfo": {
     "elapsed": 422,
     "status": "ok",
     "timestamp": 1726986140537,
     "user": {
      "displayName": "JUNGWOON AN",
      "userId": "18046724802149141730"
     },
     "user_tz": -540
    },
    "id": "RK_6_JpVZdQQ"
   },
   "outputs": [],
   "source": [
    "p2 = Person()"
   ]
  },
  {
   "cell_type": "code",
   "execution_count": 25,
   "metadata": {
    "colab": {
     "base_uri": "https://localhost:8080/"
    },
    "executionInfo": {
     "elapsed": 417,
     "status": "ok",
     "timestamp": 1726986142495,
     "user": {
      "displayName": "JUNGWOON AN",
      "userId": "18046724802149141730"
     },
     "user_tz": -540
    },
    "id": "irnZoHLAZfCA",
    "outputId": "18d4caa7-feec-4c27-8d34-48fb4713a903"
   },
   "outputs": [
    {
     "name": "stdout",
     "output_type": "stream",
     "text": [
      "Person 객체 입니다.\n"
     ]
    }
   ],
   "source": [
    "p2.print_info()  # Person.print_info(p2)\n",
    "# self인자를 통해 객체의 멤버(변수,메서드)에 접근하기 위해 사용"
   ]
  },
  {
   "cell_type": "markdown",
   "metadata": {
    "id": "J2ZyazUfcfuW"
   },
   "source": [
    "### 클래스의 멤버변수 접근"
   ]
  },
  {
   "cell_type": "code",
   "execution_count": 26,
   "metadata": {
    "executionInfo": {
     "elapsed": 428,
     "status": "ok",
     "timestamp": 1726986145539,
     "user": {
      "displayName": "JUNGWOON AN",
      "userId": "18046724802149141730"
     },
     "user_tz": -540
    },
    "id": "JUd7QypUZghQ"
   },
   "outputs": [],
   "source": [
    "class Person:\n",
    "    name = '홍길동'\n",
    "    gender = '남자'\n",
    "\n",
    "    def print_info(self):\n",
    "        print('Person 객체 입니다.')\n",
    "        print(f'{name}님은 {gender}입니다.')  # print('{}님은 {}입니다.'.format(name, gender))"
   ]
  },
  {
   "cell_type": "code",
   "execution_count": 27,
   "metadata": {
    "executionInfo": {
     "elapsed": 1,
     "status": "ok",
     "timestamp": 1726986145948,
     "user": {
      "displayName": "JUNGWOON AN",
      "userId": "18046724802149141730"
     },
     "user_tz": -540
    },
    "id": "AIHmanQ6ffXl"
   },
   "outputs": [],
   "source": [
    "p3 = Person()"
   ]
  },
  {
   "cell_type": "code",
   "execution_count": 28,
   "metadata": {
    "colab": {
     "base_uri": "https://localhost:8080/",
     "height": 257
    },
    "executionInfo": {
     "elapsed": 3,
     "status": "error",
     "timestamp": 1726986146381,
     "user": {
      "displayName": "JUNGWOON AN",
      "userId": "18046724802149141730"
     },
     "user_tz": -540
    },
    "id": "H13cypHmfpbV",
    "outputId": "829c1ca7-ca73-4054-d63c-16b32b53fc7d"
   },
   "outputs": [
    {
     "name": "stdout",
     "output_type": "stream",
     "text": [
      "Person 객체 입니다.\n"
     ]
    },
    {
     "ename": "NameError",
     "evalue": "name 'name' is not defined",
     "output_type": "error",
     "traceback": [
      "\u001b[0;31m---------------------------------------------------------------------------\u001b[0m",
      "\u001b[0;31mNameError\u001b[0m                                 Traceback (most recent call last)",
      "\u001b[0;32m<ipython-input-28-cf1adb1bfb32>\u001b[0m in \u001b[0;36m<cell line: 1>\u001b[0;34m()\u001b[0m\n\u001b[0;32m----> 1\u001b[0;31m \u001b[0mp3\u001b[0m\u001b[0;34m.\u001b[0m\u001b[0mprint_info\u001b[0m\u001b[0;34m(\u001b[0m\u001b[0;34m)\u001b[0m\u001b[0;34m\u001b[0m\u001b[0;34m\u001b[0m\u001b[0m\n\u001b[0m",
      "\u001b[0;32m<ipython-input-26-f5360b7809d2>\u001b[0m in \u001b[0;36mprint_info\u001b[0;34m(self)\u001b[0m\n\u001b[1;32m      5\u001b[0m     \u001b[0;32mdef\u001b[0m \u001b[0mprint_info\u001b[0m\u001b[0;34m(\u001b[0m\u001b[0mself\u001b[0m\u001b[0;34m)\u001b[0m\u001b[0;34m:\u001b[0m\u001b[0;34m\u001b[0m\u001b[0;34m\u001b[0m\u001b[0m\n\u001b[1;32m      6\u001b[0m         \u001b[0mprint\u001b[0m\u001b[0;34m(\u001b[0m\u001b[0;34m'Person 객체 입니다.'\u001b[0m\u001b[0;34m)\u001b[0m\u001b[0;34m\u001b[0m\u001b[0;34m\u001b[0m\u001b[0m\n\u001b[0;32m----> 7\u001b[0;31m         \u001b[0mprint\u001b[0m\u001b[0;34m(\u001b[0m\u001b[0;34mf'{name}님은 {gender}입니다.'\u001b[0m\u001b[0;34m)\u001b[0m  \u001b[0;31m# print('{}님은 {}입니다.'.format(name, gender))\u001b[0m\u001b[0;34m\u001b[0m\u001b[0;34m\u001b[0m\u001b[0m\n\u001b[0m",
      "\u001b[0;31mNameError\u001b[0m: name 'name' is not defined"
     ]
    }
   ],
   "source": [
    "p3.print_info()"
   ]
  },
  {
   "cell_type": "markdown",
   "metadata": {
    "id": "pPOiNKk7fwOr"
   },
   "source": [
    "### self\n",
    "self는 키워드 아님, 다른 문자로 작성해도 됨"
   ]
  },
  {
   "cell_type": "code",
   "execution_count": 29,
   "metadata": {
    "executionInfo": {
     "elapsed": 1,
     "status": "ok",
     "timestamp": 1726986147382,
     "user": {
      "displayName": "JUNGWOON AN",
      "userId": "18046724802149141730"
     },
     "user_tz": -540
    },
    "id": "qTXODAShftYr"
   },
   "outputs": [],
   "source": [
    "class Person:\n",
    "    name = '홍길동'\n",
    "    gender = '남자'\n",
    "\n",
    "    def print_info(self):\n",
    "        print('Person 객체 입니다.')\n",
    "        print(f'{self.name}님은 {self.gender}입니다.')"
   ]
  },
  {
   "cell_type": "code",
   "execution_count": 30,
   "metadata": {
    "colab": {
     "base_uri": "https://localhost:8080/"
    },
    "executionInfo": {
     "elapsed": 2,
     "status": "ok",
     "timestamp": 1726986147809,
     "user": {
      "displayName": "JUNGWOON AN",
      "userId": "18046724802149141730"
     },
     "user_tz": -540
    },
    "id": "601WUvTLf3ar",
    "outputId": "758e8739-28a1-4378-a8ee-ab8850200408"
   },
   "outputs": [
    {
     "name": "stdout",
     "output_type": "stream",
     "text": [
      "Person 객체 입니다.\n",
      "홍길동님은 남자입니다.\n"
     ]
    }
   ],
   "source": [
    "p4 = Person()\n",
    "p4.print_info()"
   ]
  },
  {
   "cell_type": "markdown",
   "metadata": {
    "id": "4v_o5B8FgIp8"
   },
   "source": [
    "### 네임 스페이스"
   ]
  },
  {
   "cell_type": "code",
   "execution_count": 31,
   "metadata": {
    "colab": {
     "base_uri": "https://localhost:8080/"
    },
    "executionInfo": {
     "elapsed": 456,
     "status": "ok",
     "timestamp": 1726986150445,
     "user": {
      "displayName": "JUNGWOON AN",
      "userId": "18046724802149141730"
     },
     "user_tz": -540
    },
    "id": "_Yk_k2jcf7Nu",
    "outputId": "eb5dc8ab-e0c2-4851-c655-149143b34fa3"
   },
   "outputs": [
    {
     "name": "stdout",
     "output_type": "stream",
     "text": [
      "Person 객체 입니다.\n",
      "이몽룡님은 남자입니다.\n"
     ]
    }
   ],
   "source": [
    "p4.name = '이몽룡'  # p4객체 네임스페이스에 저장\n",
    "p4.print_info()"
   ]
  },
  {
   "cell_type": "code",
   "execution_count": 32,
   "metadata": {
    "colab": {
     "base_uri": "https://localhost:8080/"
    },
    "executionInfo": {
     "elapsed": 1,
     "status": "ok",
     "timestamp": 1726986150937,
     "user": {
      "displayName": "JUNGWOON AN",
      "userId": "18046724802149141730"
     },
     "user_tz": -540
    },
    "id": "TYwDo87zjCrD",
    "outputId": "40dcff08-96ed-41de-afad-230812dcb8fd"
   },
   "outputs": [
    {
     "name": "stdout",
     "output_type": "stream",
     "text": [
      "홍길동\n"
     ]
    }
   ],
   "source": [
    "print(Person.name)  # class변수는 Person 클래스 네임스페이스에 저장되어 있음"
   ]
  },
  {
   "cell_type": "code",
   "execution_count": 33,
   "metadata": {
    "colab": {
     "base_uri": "https://localhost:8080/"
    },
    "executionInfo": {
     "elapsed": 2,
     "status": "ok",
     "timestamp": 1726986151877,
     "user": {
      "displayName": "JUNGWOON AN",
      "userId": "18046724802149141730"
     },
     "user_tz": -540
    },
    "id": "eHLbsn8IgD3E",
    "outputId": "7990b1d7-94fc-4e42-a3f1-bb1bac2e2e8c"
   },
   "outputs": [
    {
     "name": "stdout",
     "output_type": "stream",
     "text": [
      "암행어사\n"
     ]
    }
   ],
   "source": [
    "p4.nickname = '암행어사'  # 파이썬은 class에 선언하지 않은 변수도 동적으로 객체에 추가할 수 있음\n",
    "print(p4.nickname)"
   ]
  },
  {
   "cell_type": "markdown",
   "metadata": {
    "id": "dPzV_0JLjS4i"
   },
   "source": [
    "### class 메서드와 static 메서드"
   ]
  },
  {
   "cell_type": "markdown",
   "metadata": {
    "id": "Gy5skMP6nCNY"
   },
   "source": [
    "#### 1) 인스턴스 메서드"
   ]
  },
  {
   "cell_type": "code",
   "execution_count": 34,
   "metadata": {
    "executionInfo": {
     "elapsed": 1,
     "status": "ok",
     "timestamp": 1726986153213,
     "user": {
      "displayName": "JUNGWOON AN",
      "userId": "18046724802149141730"
     },
     "user_tz": -540
    },
    "id": "MuGxjfM4h96U"
   },
   "outputs": [],
   "source": [
    "class Person:\n",
    "    name = '홍길동'\n",
    "    gender = '남자'\n",
    "\n",
    "    # 메서드 : 인스턴스 메서드, 반드시 인스턴스(객체)가 있어야 호출 가능\n",
    "    def print_info(self):\n",
    "        print('Person 객체 입니다.')\n",
    "        print(f'{self.name}님은 {self.gender}입니다.')\n",
    "\n",
    "    def do_():\n",
    "        print(f'이름: {name}, 성별: {gender}')"
   ]
  },
  {
   "cell_type": "code",
   "execution_count": 35,
   "metadata": {
    "colab": {
     "base_uri": "https://localhost:8080/",
     "height": 239
    },
    "executionInfo": {
     "elapsed": 3,
     "status": "error",
     "timestamp": 1726986153638,
     "user": {
      "displayName": "JUNGWOON AN",
      "userId": "18046724802149141730"
     },
     "user_tz": -540
    },
    "id": "rfkDSesykBWy",
    "outputId": "4da749f0-3355-43d3-c059-8eff23506ffe"
   },
   "outputs": [
    {
     "ename": "NameError",
     "evalue": "name 'name' is not defined",
     "output_type": "error",
     "traceback": [
      "\u001b[0;31m---------------------------------------------------------------------------\u001b[0m",
      "\u001b[0;31mNameError\u001b[0m                                 Traceback (most recent call last)",
      "\u001b[0;32m<ipython-input-35-496b5373ffab>\u001b[0m in \u001b[0;36m<cell line: 1>\u001b[0;34m()\u001b[0m\n\u001b[0;32m----> 1\u001b[0;31m \u001b[0mPerson\u001b[0m\u001b[0;34m.\u001b[0m\u001b[0mdo_\u001b[0m\u001b[0;34m(\u001b[0m\u001b[0;34m)\u001b[0m\u001b[0;34m\u001b[0m\u001b[0;34m\u001b[0m\u001b[0m\n\u001b[0m",
      "\u001b[0;32m<ipython-input-34-7479660a7c21>\u001b[0m in \u001b[0;36mdo_\u001b[0;34m()\u001b[0m\n\u001b[1;32m      9\u001b[0m \u001b[0;34m\u001b[0m\u001b[0m\n\u001b[1;32m     10\u001b[0m     \u001b[0;32mdef\u001b[0m \u001b[0mdo_\u001b[0m\u001b[0;34m(\u001b[0m\u001b[0;34m)\u001b[0m\u001b[0;34m:\u001b[0m\u001b[0;34m\u001b[0m\u001b[0;34m\u001b[0m\u001b[0m\n\u001b[0;32m---> 11\u001b[0;31m         \u001b[0mprint\u001b[0m\u001b[0;34m(\u001b[0m\u001b[0;34mf'이름: {name}, 성별: {gender}'\u001b[0m\u001b[0;34m)\u001b[0m\u001b[0;34m\u001b[0m\u001b[0;34m\u001b[0m\u001b[0m\n\u001b[0m",
      "\u001b[0;31mNameError\u001b[0m: name 'name' is not defined"
     ]
    }
   ],
   "source": [
    "Person.do_()"
   ]
  },
  {
   "cell_type": "markdown",
   "metadata": {
    "id": "lEDCMaAhnGCY"
   },
   "source": [
    "#### 2) class 메서드"
   ]
  },
  {
   "cell_type": "code",
   "execution_count": 36,
   "metadata": {
    "executionInfo": {
     "elapsed": 579,
     "status": "ok",
     "timestamp": 1726986157885,
     "user": {
      "displayName": "JUNGWOON AN",
      "userId": "18046724802149141730"
     },
     "user_tz": -540
    },
    "id": "DBwl4WJ9kDCK"
   },
   "outputs": [],
   "source": [
    "class Person:\n",
    "    name = '홍길동'\n",
    "    gender = '남자'\n",
    "\n",
    "    # 메서드 : 인스턴스 메서드, 반드시 인스턴스(객체)가 있어야 호출 가능\n",
    "    def print_info(self):\n",
    "        print('Person 객체 입니다.')\n",
    "        print(f'{self.name}님은 {self.gender}입니다.')\n",
    "\n",
    "    @classmethod\n",
    "    def do_(cls):  # cls대신 다른 변수명 사용해도 됨.\n",
    "        print(f'이름: {cls.name}, 성별: {cls.gender}')"
   ]
  },
  {
   "cell_type": "code",
   "execution_count": 37,
   "metadata": {
    "colab": {
     "base_uri": "https://localhost:8080/"
    },
    "executionInfo": {
     "elapsed": 2,
     "status": "ok",
     "timestamp": 1726986159363,
     "user": {
      "displayName": "JUNGWOON AN",
      "userId": "18046724802149141730"
     },
     "user_tz": -540
    },
    "id": "OFBxnh8AkJYb",
    "outputId": "42f7a85e-c619-46a1-f3dc-d464ebfbc30a"
   },
   "outputs": [
    {
     "name": "stdout",
     "output_type": "stream",
     "text": [
      "이름: 홍길동, 성별: 남자\n"
     ]
    }
   ],
   "source": [
    "Person.do_()"
   ]
  },
  {
   "cell_type": "markdown",
   "metadata": {
    "id": "EgwJ7mAunIZw"
   },
   "source": [
    "#### 3) static 메서드"
   ]
  },
  {
   "cell_type": "code",
   "execution_count": 38,
   "metadata": {
    "executionInfo": {
     "elapsed": 1,
     "status": "ok",
     "timestamp": 1726986159841,
     "user": {
      "displayName": "JUNGWOON AN",
      "userId": "18046724802149141730"
     },
     "user_tz": -540
    },
    "id": "KQhX3zTFkKvj"
   },
   "outputs": [],
   "source": [
    "class Person:\n",
    "    name = '홍길동'\n",
    "    gender = '남자'\n",
    "\n",
    "    # 메서드 : 인스턴스 메서드, 반드시 인스턴스(객체)가 있어야 호출 가능\n",
    "    def print_info(self):\n",
    "        print('Person 객체 입니다.')\n",
    "        print(f'{self.name}님은 {self.gender}입니다.')\n",
    "\n",
    "    @classmethod\n",
    "    def do_(cls):  # cls대신 다른 변수명 사용해도 됨.\n",
    "        print(f'이름: {cls.name}, 성별: {cls.gender}')\n",
    "\n",
    "    # 클래스의 멤버를 참조하지 않는 경우\n",
    "    @staticmethod\n",
    "    def that_():\n",
    "        print('클래스의 멤버를 참조하지 않습니다.')\n",
    "        print(f'클래스의 멤버 참조 가능 : {Person.name}, {Person.gender}')"
   ]
  },
  {
   "cell_type": "code",
   "execution_count": 39,
   "metadata": {
    "colab": {
     "base_uri": "https://localhost:8080/"
    },
    "executionInfo": {
     "elapsed": 2,
     "status": "ok",
     "timestamp": 1726986160312,
     "user": {
      "displayName": "JUNGWOON AN",
      "userId": "18046724802149141730"
     },
     "user_tz": -540
    },
    "id": "t6KKJ64PkwUC",
    "outputId": "8ff33cb5-2b9f-4d9c-c7a0-b4de67cccf6b"
   },
   "outputs": [
    {
     "name": "stdout",
     "output_type": "stream",
     "text": [
      "클래스의 멤버를 참조하지 않습니다.\n",
      "클래스의 멤버 참조 가능 : 홍길동, 남자\n"
     ]
    }
   ],
   "source": [
    "Person.that_()"
   ]
  },
  {
   "cell_type": "code",
   "execution_count": 40,
   "metadata": {
    "colab": {
     "base_uri": "https://localhost:8080/"
    },
    "executionInfo": {
     "elapsed": 541,
     "status": "ok",
     "timestamp": 1726986162293,
     "user": {
      "displayName": "JUNGWOON AN",
      "userId": "18046724802149141730"
     },
     "user_tz": -540
    },
    "id": "-Cv5a_pRkzRa",
    "outputId": "2a13c88f-997e-4b5f-b110-7fcbbd5723c6"
   },
   "outputs": [
    {
     "name": "stdout",
     "output_type": "stream",
     "text": [
      "Person 객체 입니다.\n",
      "허진경님은 남자입니다.\n",
      "이름: 홍길동, 성별: 남자\n",
      "클래스의 멤버를 참조하지 않습니다.\n",
      "클래스의 멤버 참조 가능 : 홍길동, 남자\n"
     ]
    }
   ],
   "source": [
    "p1 = Person()\n",
    "p1.name = \"허진경\"\n",
    "p1.print_info()\n",
    "Person.do_()\n",
    "Person.that_()"
   ]
  },
  {
   "cell_type": "markdown",
   "metadata": {
    "id": "5hiGwr3mpUfX"
   },
   "source": [
    "### 참고) 동적으로 변수 할당의 잘 한 예 / 잘못한 예"
   ]
  },
  {
   "cell_type": "code",
   "execution_count": 41,
   "metadata": {
    "executionInfo": {
     "elapsed": 1812,
     "status": "ok",
     "timestamp": 1726986166667,
     "user": {
      "displayName": "JUNGWOON AN",
      "userId": "18046724802149141730"
     },
     "user_tz": -540
    },
    "id": "vw7voaFAmV4x"
   },
   "outputs": [],
   "source": [
    "import seaborn as sns\n",
    "iris = sns.load_dataset('iris')"
   ]
  },
  {
   "cell_type": "code",
   "execution_count": 42,
   "metadata": {
    "colab": {
     "base_uri": "https://localhost:8080/",
     "height": 206
    },
    "executionInfo": {
     "elapsed": 4,
     "status": "ok",
     "timestamp": 1726986166668,
     "user": {
      "displayName": "JUNGWOON AN",
      "userId": "18046724802149141730"
     },
     "user_tz": -540
    },
    "id": "3mP-cLUfoYXi",
    "outputId": "8d2ea104-d51b-4ad4-9d96-094d62fcec18"
   },
   "outputs": [
    {
     "data": {
      "application/vnd.google.colaboratory.intrinsic+json": {
       "summary": "{\n  \"name\": \"iris\",\n  \"rows\": 150,\n  \"fields\": [\n    {\n      \"column\": \"sepal_length\",\n      \"properties\": {\n        \"dtype\": \"number\",\n        \"std\": 0.828066127977863,\n        \"min\": 4.3,\n        \"max\": 7.9,\n        \"num_unique_values\": 35,\n        \"samples\": [\n          6.2,\n          4.5,\n          5.6\n        ],\n        \"semantic_type\": \"\",\n        \"description\": \"\"\n      }\n    },\n    {\n      \"column\": \"sepal_width\",\n      \"properties\": {\n        \"dtype\": \"number\",\n        \"std\": 0.4358662849366982,\n        \"min\": 2.0,\n        \"max\": 4.4,\n        \"num_unique_values\": 23,\n        \"samples\": [\n          2.3,\n          4.0,\n          3.5\n        ],\n        \"semantic_type\": \"\",\n        \"description\": \"\"\n      }\n    },\n    {\n      \"column\": \"petal_length\",\n      \"properties\": {\n        \"dtype\": \"number\",\n        \"std\": 1.7652982332594662,\n        \"min\": 1.0,\n        \"max\": 6.9,\n        \"num_unique_values\": 43,\n        \"samples\": [\n          6.7,\n          3.8,\n          3.7\n        ],\n        \"semantic_type\": \"\",\n        \"description\": \"\"\n      }\n    },\n    {\n      \"column\": \"petal_width\",\n      \"properties\": {\n        \"dtype\": \"number\",\n        \"std\": 0.7622376689603465,\n        \"min\": 0.1,\n        \"max\": 2.5,\n        \"num_unique_values\": 22,\n        \"samples\": [\n          0.2,\n          1.2,\n          1.3\n        ],\n        \"semantic_type\": \"\",\n        \"description\": \"\"\n      }\n    },\n    {\n      \"column\": \"species\",\n      \"properties\": {\n        \"dtype\": \"category\",\n        \"num_unique_values\": 3,\n        \"samples\": [\n          \"setosa\",\n          \"versicolor\",\n          \"virginica\"\n        ],\n        \"semantic_type\": \"\",\n        \"description\": \"\"\n      }\n    }\n  ]\n}",
       "type": "dataframe",
       "variable_name": "iris"
      },
      "text/html": [
       "\n",
       "  <div id=\"df-86c887a6-dbf1-460a-b87d-6482010f3e06\" class=\"colab-df-container\">\n",
       "    <div>\n",
       "<style scoped>\n",
       "    .dataframe tbody tr th:only-of-type {\n",
       "        vertical-align: middle;\n",
       "    }\n",
       "\n",
       "    .dataframe tbody tr th {\n",
       "        vertical-align: top;\n",
       "    }\n",
       "\n",
       "    .dataframe thead th {\n",
       "        text-align: right;\n",
       "    }\n",
       "</style>\n",
       "<table border=\"1\" class=\"dataframe\">\n",
       "  <thead>\n",
       "    <tr style=\"text-align: right;\">\n",
       "      <th></th>\n",
       "      <th>sepal_length</th>\n",
       "      <th>sepal_width</th>\n",
       "      <th>petal_length</th>\n",
       "      <th>petal_width</th>\n",
       "      <th>species</th>\n",
       "    </tr>\n",
       "  </thead>\n",
       "  <tbody>\n",
       "    <tr>\n",
       "      <th>0</th>\n",
       "      <td>5.1</td>\n",
       "      <td>3.5</td>\n",
       "      <td>1.4</td>\n",
       "      <td>0.2</td>\n",
       "      <td>setosa</td>\n",
       "    </tr>\n",
       "    <tr>\n",
       "      <th>1</th>\n",
       "      <td>4.9</td>\n",
       "      <td>3.0</td>\n",
       "      <td>1.4</td>\n",
       "      <td>0.2</td>\n",
       "      <td>setosa</td>\n",
       "    </tr>\n",
       "    <tr>\n",
       "      <th>2</th>\n",
       "      <td>4.7</td>\n",
       "      <td>3.2</td>\n",
       "      <td>1.3</td>\n",
       "      <td>0.2</td>\n",
       "      <td>setosa</td>\n",
       "    </tr>\n",
       "    <tr>\n",
       "      <th>3</th>\n",
       "      <td>4.6</td>\n",
       "      <td>3.1</td>\n",
       "      <td>1.5</td>\n",
       "      <td>0.2</td>\n",
       "      <td>setosa</td>\n",
       "    </tr>\n",
       "    <tr>\n",
       "      <th>4</th>\n",
       "      <td>5.0</td>\n",
       "      <td>3.6</td>\n",
       "      <td>1.4</td>\n",
       "      <td>0.2</td>\n",
       "      <td>setosa</td>\n",
       "    </tr>\n",
       "  </tbody>\n",
       "</table>\n",
       "</div>\n",
       "    <div class=\"colab-df-buttons\">\n",
       "\n",
       "  <div class=\"colab-df-container\">\n",
       "    <button class=\"colab-df-convert\" onclick=\"convertToInteractive('df-86c887a6-dbf1-460a-b87d-6482010f3e06')\"\n",
       "            title=\"Convert this dataframe to an interactive table.\"\n",
       "            style=\"display:none;\">\n",
       "\n",
       "  <svg xmlns=\"http://www.w3.org/2000/svg\" height=\"24px\" viewBox=\"0 -960 960 960\">\n",
       "    <path d=\"M120-120v-720h720v720H120Zm60-500h600v-160H180v160Zm220 220h160v-160H400v160Zm0 220h160v-160H400v160ZM180-400h160v-160H180v160Zm440 0h160v-160H620v160ZM180-180h160v-160H180v160Zm440 0h160v-160H620v160Z\"/>\n",
       "  </svg>\n",
       "    </button>\n",
       "\n",
       "  <style>\n",
       "    .colab-df-container {\n",
       "      display:flex;\n",
       "      gap: 12px;\n",
       "    }\n",
       "\n",
       "    .colab-df-convert {\n",
       "      background-color: #E8F0FE;\n",
       "      border: none;\n",
       "      border-radius: 50%;\n",
       "      cursor: pointer;\n",
       "      display: none;\n",
       "      fill: #1967D2;\n",
       "      height: 32px;\n",
       "      padding: 0 0 0 0;\n",
       "      width: 32px;\n",
       "    }\n",
       "\n",
       "    .colab-df-convert:hover {\n",
       "      background-color: #E2EBFA;\n",
       "      box-shadow: 0px 1px 2px rgba(60, 64, 67, 0.3), 0px 1px 3px 1px rgba(60, 64, 67, 0.15);\n",
       "      fill: #174EA6;\n",
       "    }\n",
       "\n",
       "    .colab-df-buttons div {\n",
       "      margin-bottom: 4px;\n",
       "    }\n",
       "\n",
       "    [theme=dark] .colab-df-convert {\n",
       "      background-color: #3B4455;\n",
       "      fill: #D2E3FC;\n",
       "    }\n",
       "\n",
       "    [theme=dark] .colab-df-convert:hover {\n",
       "      background-color: #434B5C;\n",
       "      box-shadow: 0px 1px 3px 1px rgba(0, 0, 0, 0.15);\n",
       "      filter: drop-shadow(0px 1px 2px rgba(0, 0, 0, 0.3));\n",
       "      fill: #FFFFFF;\n",
       "    }\n",
       "  </style>\n",
       "\n",
       "    <script>\n",
       "      const buttonEl =\n",
       "        document.querySelector('#df-86c887a6-dbf1-460a-b87d-6482010f3e06 button.colab-df-convert');\n",
       "      buttonEl.style.display =\n",
       "        google.colab.kernel.accessAllowed ? 'block' : 'none';\n",
       "\n",
       "      async function convertToInteractive(key) {\n",
       "        const element = document.querySelector('#df-86c887a6-dbf1-460a-b87d-6482010f3e06');\n",
       "        const dataTable =\n",
       "          await google.colab.kernel.invokeFunction('convertToInteractive',\n",
       "                                                    [key], {});\n",
       "        if (!dataTable) return;\n",
       "\n",
       "        const docLinkHtml = 'Like what you see? Visit the ' +\n",
       "          '<a target=\"_blank\" href=https://colab.research.google.com/notebooks/data_table.ipynb>data table notebook</a>'\n",
       "          + ' to learn more about interactive tables.';\n",
       "        element.innerHTML = '';\n",
       "        dataTable['output_type'] = 'display_data';\n",
       "        await google.colab.output.renderOutput(dataTable, element);\n",
       "        const docLink = document.createElement('div');\n",
       "        docLink.innerHTML = docLinkHtml;\n",
       "        element.appendChild(docLink);\n",
       "      }\n",
       "    </script>\n",
       "  </div>\n",
       "\n",
       "\n",
       "<div id=\"df-39604fa6-3736-4b8d-baae-aee9c50486e0\">\n",
       "  <button class=\"colab-df-quickchart\" onclick=\"quickchart('df-39604fa6-3736-4b8d-baae-aee9c50486e0')\"\n",
       "            title=\"Suggest charts\"\n",
       "            style=\"display:none;\">\n",
       "\n",
       "<svg xmlns=\"http://www.w3.org/2000/svg\" height=\"24px\"viewBox=\"0 0 24 24\"\n",
       "     width=\"24px\">\n",
       "    <g>\n",
       "        <path d=\"M19 3H5c-1.1 0-2 .9-2 2v14c0 1.1.9 2 2 2h14c1.1 0 2-.9 2-2V5c0-1.1-.9-2-2-2zM9 17H7v-7h2v7zm4 0h-2V7h2v10zm4 0h-2v-4h2v4z\"/>\n",
       "    </g>\n",
       "</svg>\n",
       "  </button>\n",
       "\n",
       "<style>\n",
       "  .colab-df-quickchart {\n",
       "      --bg-color: #E8F0FE;\n",
       "      --fill-color: #1967D2;\n",
       "      --hover-bg-color: #E2EBFA;\n",
       "      --hover-fill-color: #174EA6;\n",
       "      --disabled-fill-color: #AAA;\n",
       "      --disabled-bg-color: #DDD;\n",
       "  }\n",
       "\n",
       "  [theme=dark] .colab-df-quickchart {\n",
       "      --bg-color: #3B4455;\n",
       "      --fill-color: #D2E3FC;\n",
       "      --hover-bg-color: #434B5C;\n",
       "      --hover-fill-color: #FFFFFF;\n",
       "      --disabled-bg-color: #3B4455;\n",
       "      --disabled-fill-color: #666;\n",
       "  }\n",
       "\n",
       "  .colab-df-quickchart {\n",
       "    background-color: var(--bg-color);\n",
       "    border: none;\n",
       "    border-radius: 50%;\n",
       "    cursor: pointer;\n",
       "    display: none;\n",
       "    fill: var(--fill-color);\n",
       "    height: 32px;\n",
       "    padding: 0;\n",
       "    width: 32px;\n",
       "  }\n",
       "\n",
       "  .colab-df-quickchart:hover {\n",
       "    background-color: var(--hover-bg-color);\n",
       "    box-shadow: 0 1px 2px rgba(60, 64, 67, 0.3), 0 1px 3px 1px rgba(60, 64, 67, 0.15);\n",
       "    fill: var(--button-hover-fill-color);\n",
       "  }\n",
       "\n",
       "  .colab-df-quickchart-complete:disabled,\n",
       "  .colab-df-quickchart-complete:disabled:hover {\n",
       "    background-color: var(--disabled-bg-color);\n",
       "    fill: var(--disabled-fill-color);\n",
       "    box-shadow: none;\n",
       "  }\n",
       "\n",
       "  .colab-df-spinner {\n",
       "    border: 2px solid var(--fill-color);\n",
       "    border-color: transparent;\n",
       "    border-bottom-color: var(--fill-color);\n",
       "    animation:\n",
       "      spin 1s steps(1) infinite;\n",
       "  }\n",
       "\n",
       "  @keyframes spin {\n",
       "    0% {\n",
       "      border-color: transparent;\n",
       "      border-bottom-color: var(--fill-color);\n",
       "      border-left-color: var(--fill-color);\n",
       "    }\n",
       "    20% {\n",
       "      border-color: transparent;\n",
       "      border-left-color: var(--fill-color);\n",
       "      border-top-color: var(--fill-color);\n",
       "    }\n",
       "    30% {\n",
       "      border-color: transparent;\n",
       "      border-left-color: var(--fill-color);\n",
       "      border-top-color: var(--fill-color);\n",
       "      border-right-color: var(--fill-color);\n",
       "    }\n",
       "    40% {\n",
       "      border-color: transparent;\n",
       "      border-right-color: var(--fill-color);\n",
       "      border-top-color: var(--fill-color);\n",
       "    }\n",
       "    60% {\n",
       "      border-color: transparent;\n",
       "      border-right-color: var(--fill-color);\n",
       "    }\n",
       "    80% {\n",
       "      border-color: transparent;\n",
       "      border-right-color: var(--fill-color);\n",
       "      border-bottom-color: var(--fill-color);\n",
       "    }\n",
       "    90% {\n",
       "      border-color: transparent;\n",
       "      border-bottom-color: var(--fill-color);\n",
       "    }\n",
       "  }\n",
       "</style>\n",
       "\n",
       "  <script>\n",
       "    async function quickchart(key) {\n",
       "      const quickchartButtonEl =\n",
       "        document.querySelector('#' + key + ' button');\n",
       "      quickchartButtonEl.disabled = true;  // To prevent multiple clicks.\n",
       "      quickchartButtonEl.classList.add('colab-df-spinner');\n",
       "      try {\n",
       "        const charts = await google.colab.kernel.invokeFunction(\n",
       "            'suggestCharts', [key], {});\n",
       "      } catch (error) {\n",
       "        console.error('Error during call to suggestCharts:', error);\n",
       "      }\n",
       "      quickchartButtonEl.classList.remove('colab-df-spinner');\n",
       "      quickchartButtonEl.classList.add('colab-df-quickchart-complete');\n",
       "    }\n",
       "    (() => {\n",
       "      let quickchartButtonEl =\n",
       "        document.querySelector('#df-39604fa6-3736-4b8d-baae-aee9c50486e0 button');\n",
       "      quickchartButtonEl.style.display =\n",
       "        google.colab.kernel.accessAllowed ? 'block' : 'none';\n",
       "    })();\n",
       "  </script>\n",
       "</div>\n",
       "\n",
       "    </div>\n",
       "  </div>\n"
      ],
      "text/plain": [
       "   sepal_length  sepal_width  petal_length  petal_width species\n",
       "0           5.1          3.5           1.4          0.2  setosa\n",
       "1           4.9          3.0           1.4          0.2  setosa\n",
       "2           4.7          3.2           1.3          0.2  setosa\n",
       "3           4.6          3.1           1.5          0.2  setosa\n",
       "4           5.0          3.6           1.4          0.2  setosa"
      ]
     },
     "execution_count": 42,
     "metadata": {},
     "output_type": "execute_result"
    }
   ],
   "source": [
    "iris.head()"
   ]
  },
  {
   "cell_type": "code",
   "execution_count": 43,
   "metadata": {
    "executionInfo": {
     "elapsed": 3,
     "status": "ok",
     "timestamp": 1726986166668,
     "user": {
      "displayName": "JUNGWOON AN",
      "userId": "18046724802149141730"
     },
     "user_tz": -540
    },
    "id": "LclTwrsfobb4"
   },
   "outputs": [],
   "source": [
    "iris.new_col = 1  # 동적으로 변수 생성"
   ]
  },
  {
   "cell_type": "code",
   "execution_count": 44,
   "metadata": {
    "colab": {
     "base_uri": "https://localhost:8080/"
    },
    "executionInfo": {
     "elapsed": 2,
     "status": "ok",
     "timestamp": 1726986168048,
     "user": {
      "displayName": "JUNGWOON AN",
      "userId": "18046724802149141730"
     },
     "user_tz": -540
    },
    "id": "5yQnvMCpooJK",
    "outputId": "797edf5f-da9c-4f4d-cd82-0d93ca2e02b9"
   },
   "outputs": [
    {
     "name": "stdout",
     "output_type": "stream",
     "text": [
      "1\n"
     ]
    }
   ],
   "source": [
    "print(iris.new_col)"
   ]
  },
  {
   "cell_type": "code",
   "execution_count": 45,
   "metadata": {
    "colab": {
     "base_uri": "https://localhost:8080/",
     "height": 206
    },
    "executionInfo": {
     "elapsed": 405,
     "status": "ok",
     "timestamp": 1726986170553,
     "user": {
      "displayName": "JUNGWOON AN",
      "userId": "18046724802149141730"
     },
     "user_tz": -540
    },
    "id": "Rf4Uzv2Zopy4",
    "outputId": "65aa8941-f16a-44df-d8ba-7b059badb2ce"
   },
   "outputs": [
    {
     "data": {
      "application/vnd.google.colaboratory.intrinsic+json": {
       "summary": "{\n  \"name\": \"iris\",\n  \"rows\": 150,\n  \"fields\": [\n    {\n      \"column\": \"sepal_length\",\n      \"properties\": {\n        \"dtype\": \"number\",\n        \"std\": 0.828066127977863,\n        \"min\": 4.3,\n        \"max\": 7.9,\n        \"num_unique_values\": 35,\n        \"samples\": [\n          6.2,\n          4.5,\n          5.6\n        ],\n        \"semantic_type\": \"\",\n        \"description\": \"\"\n      }\n    },\n    {\n      \"column\": \"sepal_width\",\n      \"properties\": {\n        \"dtype\": \"number\",\n        \"std\": 0.4358662849366982,\n        \"min\": 2.0,\n        \"max\": 4.4,\n        \"num_unique_values\": 23,\n        \"samples\": [\n          2.3,\n          4.0,\n          3.5\n        ],\n        \"semantic_type\": \"\",\n        \"description\": \"\"\n      }\n    },\n    {\n      \"column\": \"petal_length\",\n      \"properties\": {\n        \"dtype\": \"number\",\n        \"std\": 1.7652982332594662,\n        \"min\": 1.0,\n        \"max\": 6.9,\n        \"num_unique_values\": 43,\n        \"samples\": [\n          6.7,\n          3.8,\n          3.7\n        ],\n        \"semantic_type\": \"\",\n        \"description\": \"\"\n      }\n    },\n    {\n      \"column\": \"petal_width\",\n      \"properties\": {\n        \"dtype\": \"number\",\n        \"std\": 0.7622376689603465,\n        \"min\": 0.1,\n        \"max\": 2.5,\n        \"num_unique_values\": 22,\n        \"samples\": [\n          0.2,\n          1.2,\n          1.3\n        ],\n        \"semantic_type\": \"\",\n        \"description\": \"\"\n      }\n    },\n    {\n      \"column\": \"species\",\n      \"properties\": {\n        \"dtype\": \"category\",\n        \"num_unique_values\": 3,\n        \"samples\": [\n          \"setosa\",\n          \"versicolor\",\n          \"virginica\"\n        ],\n        \"semantic_type\": \"\",\n        \"description\": \"\"\n      }\n    }\n  ]\n}",
       "type": "dataframe",
       "variable_name": "iris"
      },
      "text/html": [
       "\n",
       "  <div id=\"df-20938ac1-49fb-44c9-ac77-251c510bae3b\" class=\"colab-df-container\">\n",
       "    <div>\n",
       "<style scoped>\n",
       "    .dataframe tbody tr th:only-of-type {\n",
       "        vertical-align: middle;\n",
       "    }\n",
       "\n",
       "    .dataframe tbody tr th {\n",
       "        vertical-align: top;\n",
       "    }\n",
       "\n",
       "    .dataframe thead th {\n",
       "        text-align: right;\n",
       "    }\n",
       "</style>\n",
       "<table border=\"1\" class=\"dataframe\">\n",
       "  <thead>\n",
       "    <tr style=\"text-align: right;\">\n",
       "      <th></th>\n",
       "      <th>sepal_length</th>\n",
       "      <th>sepal_width</th>\n",
       "      <th>petal_length</th>\n",
       "      <th>petal_width</th>\n",
       "      <th>species</th>\n",
       "    </tr>\n",
       "  </thead>\n",
       "  <tbody>\n",
       "    <tr>\n",
       "      <th>0</th>\n",
       "      <td>5.1</td>\n",
       "      <td>3.5</td>\n",
       "      <td>1.4</td>\n",
       "      <td>0.2</td>\n",
       "      <td>setosa</td>\n",
       "    </tr>\n",
       "    <tr>\n",
       "      <th>1</th>\n",
       "      <td>4.9</td>\n",
       "      <td>3.0</td>\n",
       "      <td>1.4</td>\n",
       "      <td>0.2</td>\n",
       "      <td>setosa</td>\n",
       "    </tr>\n",
       "    <tr>\n",
       "      <th>2</th>\n",
       "      <td>4.7</td>\n",
       "      <td>3.2</td>\n",
       "      <td>1.3</td>\n",
       "      <td>0.2</td>\n",
       "      <td>setosa</td>\n",
       "    </tr>\n",
       "    <tr>\n",
       "      <th>3</th>\n",
       "      <td>4.6</td>\n",
       "      <td>3.1</td>\n",
       "      <td>1.5</td>\n",
       "      <td>0.2</td>\n",
       "      <td>setosa</td>\n",
       "    </tr>\n",
       "    <tr>\n",
       "      <th>4</th>\n",
       "      <td>5.0</td>\n",
       "      <td>3.6</td>\n",
       "      <td>1.4</td>\n",
       "      <td>0.2</td>\n",
       "      <td>setosa</td>\n",
       "    </tr>\n",
       "  </tbody>\n",
       "</table>\n",
       "</div>\n",
       "    <div class=\"colab-df-buttons\">\n",
       "\n",
       "  <div class=\"colab-df-container\">\n",
       "    <button class=\"colab-df-convert\" onclick=\"convertToInteractive('df-20938ac1-49fb-44c9-ac77-251c510bae3b')\"\n",
       "            title=\"Convert this dataframe to an interactive table.\"\n",
       "            style=\"display:none;\">\n",
       "\n",
       "  <svg xmlns=\"http://www.w3.org/2000/svg\" height=\"24px\" viewBox=\"0 -960 960 960\">\n",
       "    <path d=\"M120-120v-720h720v720H120Zm60-500h600v-160H180v160Zm220 220h160v-160H400v160Zm0 220h160v-160H400v160ZM180-400h160v-160H180v160Zm440 0h160v-160H620v160ZM180-180h160v-160H180v160Zm440 0h160v-160H620v160Z\"/>\n",
       "  </svg>\n",
       "    </button>\n",
       "\n",
       "  <style>\n",
       "    .colab-df-container {\n",
       "      display:flex;\n",
       "      gap: 12px;\n",
       "    }\n",
       "\n",
       "    .colab-df-convert {\n",
       "      background-color: #E8F0FE;\n",
       "      border: none;\n",
       "      border-radius: 50%;\n",
       "      cursor: pointer;\n",
       "      display: none;\n",
       "      fill: #1967D2;\n",
       "      height: 32px;\n",
       "      padding: 0 0 0 0;\n",
       "      width: 32px;\n",
       "    }\n",
       "\n",
       "    .colab-df-convert:hover {\n",
       "      background-color: #E2EBFA;\n",
       "      box-shadow: 0px 1px 2px rgba(60, 64, 67, 0.3), 0px 1px 3px 1px rgba(60, 64, 67, 0.15);\n",
       "      fill: #174EA6;\n",
       "    }\n",
       "\n",
       "    .colab-df-buttons div {\n",
       "      margin-bottom: 4px;\n",
       "    }\n",
       "\n",
       "    [theme=dark] .colab-df-convert {\n",
       "      background-color: #3B4455;\n",
       "      fill: #D2E3FC;\n",
       "    }\n",
       "\n",
       "    [theme=dark] .colab-df-convert:hover {\n",
       "      background-color: #434B5C;\n",
       "      box-shadow: 0px 1px 3px 1px rgba(0, 0, 0, 0.15);\n",
       "      filter: drop-shadow(0px 1px 2px rgba(0, 0, 0, 0.3));\n",
       "      fill: #FFFFFF;\n",
       "    }\n",
       "  </style>\n",
       "\n",
       "    <script>\n",
       "      const buttonEl =\n",
       "        document.querySelector('#df-20938ac1-49fb-44c9-ac77-251c510bae3b button.colab-df-convert');\n",
       "      buttonEl.style.display =\n",
       "        google.colab.kernel.accessAllowed ? 'block' : 'none';\n",
       "\n",
       "      async function convertToInteractive(key) {\n",
       "        const element = document.querySelector('#df-20938ac1-49fb-44c9-ac77-251c510bae3b');\n",
       "        const dataTable =\n",
       "          await google.colab.kernel.invokeFunction('convertToInteractive',\n",
       "                                                    [key], {});\n",
       "        if (!dataTable) return;\n",
       "\n",
       "        const docLinkHtml = 'Like what you see? Visit the ' +\n",
       "          '<a target=\"_blank\" href=https://colab.research.google.com/notebooks/data_table.ipynb>data table notebook</a>'\n",
       "          + ' to learn more about interactive tables.';\n",
       "        element.innerHTML = '';\n",
       "        dataTable['output_type'] = 'display_data';\n",
       "        await google.colab.output.renderOutput(dataTable, element);\n",
       "        const docLink = document.createElement('div');\n",
       "        docLink.innerHTML = docLinkHtml;\n",
       "        element.appendChild(docLink);\n",
       "      }\n",
       "    </script>\n",
       "  </div>\n",
       "\n",
       "\n",
       "<div id=\"df-5d21314a-cc2a-41e6-88a3-8ee1645589ec\">\n",
       "  <button class=\"colab-df-quickchart\" onclick=\"quickchart('df-5d21314a-cc2a-41e6-88a3-8ee1645589ec')\"\n",
       "            title=\"Suggest charts\"\n",
       "            style=\"display:none;\">\n",
       "\n",
       "<svg xmlns=\"http://www.w3.org/2000/svg\" height=\"24px\"viewBox=\"0 0 24 24\"\n",
       "     width=\"24px\">\n",
       "    <g>\n",
       "        <path d=\"M19 3H5c-1.1 0-2 .9-2 2v14c0 1.1.9 2 2 2h14c1.1 0 2-.9 2-2V5c0-1.1-.9-2-2-2zM9 17H7v-7h2v7zm4 0h-2V7h2v10zm4 0h-2v-4h2v4z\"/>\n",
       "    </g>\n",
       "</svg>\n",
       "  </button>\n",
       "\n",
       "<style>\n",
       "  .colab-df-quickchart {\n",
       "      --bg-color: #E8F0FE;\n",
       "      --fill-color: #1967D2;\n",
       "      --hover-bg-color: #E2EBFA;\n",
       "      --hover-fill-color: #174EA6;\n",
       "      --disabled-fill-color: #AAA;\n",
       "      --disabled-bg-color: #DDD;\n",
       "  }\n",
       "\n",
       "  [theme=dark] .colab-df-quickchart {\n",
       "      --bg-color: #3B4455;\n",
       "      --fill-color: #D2E3FC;\n",
       "      --hover-bg-color: #434B5C;\n",
       "      --hover-fill-color: #FFFFFF;\n",
       "      --disabled-bg-color: #3B4455;\n",
       "      --disabled-fill-color: #666;\n",
       "  }\n",
       "\n",
       "  .colab-df-quickchart {\n",
       "    background-color: var(--bg-color);\n",
       "    border: none;\n",
       "    border-radius: 50%;\n",
       "    cursor: pointer;\n",
       "    display: none;\n",
       "    fill: var(--fill-color);\n",
       "    height: 32px;\n",
       "    padding: 0;\n",
       "    width: 32px;\n",
       "  }\n",
       "\n",
       "  .colab-df-quickchart:hover {\n",
       "    background-color: var(--hover-bg-color);\n",
       "    box-shadow: 0 1px 2px rgba(60, 64, 67, 0.3), 0 1px 3px 1px rgba(60, 64, 67, 0.15);\n",
       "    fill: var(--button-hover-fill-color);\n",
       "  }\n",
       "\n",
       "  .colab-df-quickchart-complete:disabled,\n",
       "  .colab-df-quickchart-complete:disabled:hover {\n",
       "    background-color: var(--disabled-bg-color);\n",
       "    fill: var(--disabled-fill-color);\n",
       "    box-shadow: none;\n",
       "  }\n",
       "\n",
       "  .colab-df-spinner {\n",
       "    border: 2px solid var(--fill-color);\n",
       "    border-color: transparent;\n",
       "    border-bottom-color: var(--fill-color);\n",
       "    animation:\n",
       "      spin 1s steps(1) infinite;\n",
       "  }\n",
       "\n",
       "  @keyframes spin {\n",
       "    0% {\n",
       "      border-color: transparent;\n",
       "      border-bottom-color: var(--fill-color);\n",
       "      border-left-color: var(--fill-color);\n",
       "    }\n",
       "    20% {\n",
       "      border-color: transparent;\n",
       "      border-left-color: var(--fill-color);\n",
       "      border-top-color: var(--fill-color);\n",
       "    }\n",
       "    30% {\n",
       "      border-color: transparent;\n",
       "      border-left-color: var(--fill-color);\n",
       "      border-top-color: var(--fill-color);\n",
       "      border-right-color: var(--fill-color);\n",
       "    }\n",
       "    40% {\n",
       "      border-color: transparent;\n",
       "      border-right-color: var(--fill-color);\n",
       "      border-top-color: var(--fill-color);\n",
       "    }\n",
       "    60% {\n",
       "      border-color: transparent;\n",
       "      border-right-color: var(--fill-color);\n",
       "    }\n",
       "    80% {\n",
       "      border-color: transparent;\n",
       "      border-right-color: var(--fill-color);\n",
       "      border-bottom-color: var(--fill-color);\n",
       "    }\n",
       "    90% {\n",
       "      border-color: transparent;\n",
       "      border-bottom-color: var(--fill-color);\n",
       "    }\n",
       "  }\n",
       "</style>\n",
       "\n",
       "  <script>\n",
       "    async function quickchart(key) {\n",
       "      const quickchartButtonEl =\n",
       "        document.querySelector('#' + key + ' button');\n",
       "      quickchartButtonEl.disabled = true;  // To prevent multiple clicks.\n",
       "      quickchartButtonEl.classList.add('colab-df-spinner');\n",
       "      try {\n",
       "        const charts = await google.colab.kernel.invokeFunction(\n",
       "            'suggestCharts', [key], {});\n",
       "      } catch (error) {\n",
       "        console.error('Error during call to suggestCharts:', error);\n",
       "      }\n",
       "      quickchartButtonEl.classList.remove('colab-df-spinner');\n",
       "      quickchartButtonEl.classList.add('colab-df-quickchart-complete');\n",
       "    }\n",
       "    (() => {\n",
       "      let quickchartButtonEl =\n",
       "        document.querySelector('#df-5d21314a-cc2a-41e6-88a3-8ee1645589ec button');\n",
       "      quickchartButtonEl.style.display =\n",
       "        google.colab.kernel.accessAllowed ? 'block' : 'none';\n",
       "    })();\n",
       "  </script>\n",
       "</div>\n",
       "\n",
       "    </div>\n",
       "  </div>\n"
      ],
      "text/plain": [
       "   sepal_length  sepal_width  petal_length  petal_width species\n",
       "0           5.1          3.5           1.4          0.2  setosa\n",
       "1           4.9          3.0           1.4          0.2  setosa\n",
       "2           4.7          3.2           1.3          0.2  setosa\n",
       "3           4.6          3.1           1.5          0.2  setosa\n",
       "4           5.0          3.6           1.4          0.2  setosa"
      ]
     },
     "execution_count": 45,
     "metadata": {},
     "output_type": "execute_result"
    }
   ],
   "source": [
    "iris.head()"
   ]
  },
  {
   "cell_type": "code",
   "execution_count": 46,
   "metadata": {
    "executionInfo": {
     "elapsed": 2,
     "status": "ok",
     "timestamp": 1726986170971,
     "user": {
      "displayName": "JUNGWOON AN",
      "userId": "18046724802149141730"
     },
     "user_tz": -540
    },
    "id": "_mCjVVMAosGw"
   },
   "outputs": [],
   "source": [
    "# 열을 추가하려면\n",
    "iris['new_col'] = 1"
   ]
  },
  {
   "cell_type": "code",
   "execution_count": 47,
   "metadata": {
    "colab": {
     "base_uri": "https://localhost:8080/",
     "height": 206
    },
    "executionInfo": {
     "elapsed": 3,
     "status": "ok",
     "timestamp": 1726986172804,
     "user": {
      "displayName": "JUNGWOON AN",
      "userId": "18046724802149141730"
     },
     "user_tz": -540
    },
    "id": "E_2ZWGE2o36B",
    "outputId": "41fe38ec-308a-4755-9ebc-bb7ace17581a"
   },
   "outputs": [
    {
     "data": {
      "application/vnd.google.colaboratory.intrinsic+json": {
       "summary": "{\n  \"name\": \"iris\",\n  \"rows\": 150,\n  \"fields\": [\n    {\n      \"column\": \"sepal_length\",\n      \"properties\": {\n        \"dtype\": \"number\",\n        \"std\": 0.828066127977863,\n        \"min\": 4.3,\n        \"max\": 7.9,\n        \"num_unique_values\": 35,\n        \"samples\": [\n          6.2,\n          4.5,\n          5.6\n        ],\n        \"semantic_type\": \"\",\n        \"description\": \"\"\n      }\n    },\n    {\n      \"column\": \"sepal_width\",\n      \"properties\": {\n        \"dtype\": \"number\",\n        \"std\": 0.4358662849366982,\n        \"min\": 2.0,\n        \"max\": 4.4,\n        \"num_unique_values\": 23,\n        \"samples\": [\n          2.3,\n          4.0,\n          3.5\n        ],\n        \"semantic_type\": \"\",\n        \"description\": \"\"\n      }\n    },\n    {\n      \"column\": \"petal_length\",\n      \"properties\": {\n        \"dtype\": \"number\",\n        \"std\": 1.7652982332594662,\n        \"min\": 1.0,\n        \"max\": 6.9,\n        \"num_unique_values\": 43,\n        \"samples\": [\n          6.7,\n          3.8,\n          3.7\n        ],\n        \"semantic_type\": \"\",\n        \"description\": \"\"\n      }\n    },\n    {\n      \"column\": \"petal_width\",\n      \"properties\": {\n        \"dtype\": \"number\",\n        \"std\": 0.7622376689603465,\n        \"min\": 0.1,\n        \"max\": 2.5,\n        \"num_unique_values\": 22,\n        \"samples\": [\n          0.2,\n          1.2,\n          1.3\n        ],\n        \"semantic_type\": \"\",\n        \"description\": \"\"\n      }\n    },\n    {\n      \"column\": \"species\",\n      \"properties\": {\n        \"dtype\": \"category\",\n        \"num_unique_values\": 3,\n        \"samples\": [\n          \"setosa\",\n          \"versicolor\",\n          \"virginica\"\n        ],\n        \"semantic_type\": \"\",\n        \"description\": \"\"\n      }\n    },\n    {\n      \"column\": \"new_col\",\n      \"properties\": {\n        \"dtype\": \"number\",\n        \"std\": 0,\n        \"min\": 1,\n        \"max\": 1,\n        \"num_unique_values\": 1,\n        \"samples\": [\n          1\n        ],\n        \"semantic_type\": \"\",\n        \"description\": \"\"\n      }\n    }\n  ]\n}",
       "type": "dataframe",
       "variable_name": "iris"
      },
      "text/html": [
       "\n",
       "  <div id=\"df-b137540f-9355-4dc5-a98c-32bf60ac7db4\" class=\"colab-df-container\">\n",
       "    <div>\n",
       "<style scoped>\n",
       "    .dataframe tbody tr th:only-of-type {\n",
       "        vertical-align: middle;\n",
       "    }\n",
       "\n",
       "    .dataframe tbody tr th {\n",
       "        vertical-align: top;\n",
       "    }\n",
       "\n",
       "    .dataframe thead th {\n",
       "        text-align: right;\n",
       "    }\n",
       "</style>\n",
       "<table border=\"1\" class=\"dataframe\">\n",
       "  <thead>\n",
       "    <tr style=\"text-align: right;\">\n",
       "      <th></th>\n",
       "      <th>sepal_length</th>\n",
       "      <th>sepal_width</th>\n",
       "      <th>petal_length</th>\n",
       "      <th>petal_width</th>\n",
       "      <th>species</th>\n",
       "      <th>new_col</th>\n",
       "    </tr>\n",
       "  </thead>\n",
       "  <tbody>\n",
       "    <tr>\n",
       "      <th>0</th>\n",
       "      <td>5.1</td>\n",
       "      <td>3.5</td>\n",
       "      <td>1.4</td>\n",
       "      <td>0.2</td>\n",
       "      <td>setosa</td>\n",
       "      <td>1</td>\n",
       "    </tr>\n",
       "    <tr>\n",
       "      <th>1</th>\n",
       "      <td>4.9</td>\n",
       "      <td>3.0</td>\n",
       "      <td>1.4</td>\n",
       "      <td>0.2</td>\n",
       "      <td>setosa</td>\n",
       "      <td>1</td>\n",
       "    </tr>\n",
       "    <tr>\n",
       "      <th>2</th>\n",
       "      <td>4.7</td>\n",
       "      <td>3.2</td>\n",
       "      <td>1.3</td>\n",
       "      <td>0.2</td>\n",
       "      <td>setosa</td>\n",
       "      <td>1</td>\n",
       "    </tr>\n",
       "    <tr>\n",
       "      <th>3</th>\n",
       "      <td>4.6</td>\n",
       "      <td>3.1</td>\n",
       "      <td>1.5</td>\n",
       "      <td>0.2</td>\n",
       "      <td>setosa</td>\n",
       "      <td>1</td>\n",
       "    </tr>\n",
       "    <tr>\n",
       "      <th>4</th>\n",
       "      <td>5.0</td>\n",
       "      <td>3.6</td>\n",
       "      <td>1.4</td>\n",
       "      <td>0.2</td>\n",
       "      <td>setosa</td>\n",
       "      <td>1</td>\n",
       "    </tr>\n",
       "  </tbody>\n",
       "</table>\n",
       "</div>\n",
       "    <div class=\"colab-df-buttons\">\n",
       "\n",
       "  <div class=\"colab-df-container\">\n",
       "    <button class=\"colab-df-convert\" onclick=\"convertToInteractive('df-b137540f-9355-4dc5-a98c-32bf60ac7db4')\"\n",
       "            title=\"Convert this dataframe to an interactive table.\"\n",
       "            style=\"display:none;\">\n",
       "\n",
       "  <svg xmlns=\"http://www.w3.org/2000/svg\" height=\"24px\" viewBox=\"0 -960 960 960\">\n",
       "    <path d=\"M120-120v-720h720v720H120Zm60-500h600v-160H180v160Zm220 220h160v-160H400v160Zm0 220h160v-160H400v160ZM180-400h160v-160H180v160Zm440 0h160v-160H620v160ZM180-180h160v-160H180v160Zm440 0h160v-160H620v160Z\"/>\n",
       "  </svg>\n",
       "    </button>\n",
       "\n",
       "  <style>\n",
       "    .colab-df-container {\n",
       "      display:flex;\n",
       "      gap: 12px;\n",
       "    }\n",
       "\n",
       "    .colab-df-convert {\n",
       "      background-color: #E8F0FE;\n",
       "      border: none;\n",
       "      border-radius: 50%;\n",
       "      cursor: pointer;\n",
       "      display: none;\n",
       "      fill: #1967D2;\n",
       "      height: 32px;\n",
       "      padding: 0 0 0 0;\n",
       "      width: 32px;\n",
       "    }\n",
       "\n",
       "    .colab-df-convert:hover {\n",
       "      background-color: #E2EBFA;\n",
       "      box-shadow: 0px 1px 2px rgba(60, 64, 67, 0.3), 0px 1px 3px 1px rgba(60, 64, 67, 0.15);\n",
       "      fill: #174EA6;\n",
       "    }\n",
       "\n",
       "    .colab-df-buttons div {\n",
       "      margin-bottom: 4px;\n",
       "    }\n",
       "\n",
       "    [theme=dark] .colab-df-convert {\n",
       "      background-color: #3B4455;\n",
       "      fill: #D2E3FC;\n",
       "    }\n",
       "\n",
       "    [theme=dark] .colab-df-convert:hover {\n",
       "      background-color: #434B5C;\n",
       "      box-shadow: 0px 1px 3px 1px rgba(0, 0, 0, 0.15);\n",
       "      filter: drop-shadow(0px 1px 2px rgba(0, 0, 0, 0.3));\n",
       "      fill: #FFFFFF;\n",
       "    }\n",
       "  </style>\n",
       "\n",
       "    <script>\n",
       "      const buttonEl =\n",
       "        document.querySelector('#df-b137540f-9355-4dc5-a98c-32bf60ac7db4 button.colab-df-convert');\n",
       "      buttonEl.style.display =\n",
       "        google.colab.kernel.accessAllowed ? 'block' : 'none';\n",
       "\n",
       "      async function convertToInteractive(key) {\n",
       "        const element = document.querySelector('#df-b137540f-9355-4dc5-a98c-32bf60ac7db4');\n",
       "        const dataTable =\n",
       "          await google.colab.kernel.invokeFunction('convertToInteractive',\n",
       "                                                    [key], {});\n",
       "        if (!dataTable) return;\n",
       "\n",
       "        const docLinkHtml = 'Like what you see? Visit the ' +\n",
       "          '<a target=\"_blank\" href=https://colab.research.google.com/notebooks/data_table.ipynb>data table notebook</a>'\n",
       "          + ' to learn more about interactive tables.';\n",
       "        element.innerHTML = '';\n",
       "        dataTable['output_type'] = 'display_data';\n",
       "        await google.colab.output.renderOutput(dataTable, element);\n",
       "        const docLink = document.createElement('div');\n",
       "        docLink.innerHTML = docLinkHtml;\n",
       "        element.appendChild(docLink);\n",
       "      }\n",
       "    </script>\n",
       "  </div>\n",
       "\n",
       "\n",
       "<div id=\"df-20d5878d-d6cf-495b-ba4a-04402dfb8800\">\n",
       "  <button class=\"colab-df-quickchart\" onclick=\"quickchart('df-20d5878d-d6cf-495b-ba4a-04402dfb8800')\"\n",
       "            title=\"Suggest charts\"\n",
       "            style=\"display:none;\">\n",
       "\n",
       "<svg xmlns=\"http://www.w3.org/2000/svg\" height=\"24px\"viewBox=\"0 0 24 24\"\n",
       "     width=\"24px\">\n",
       "    <g>\n",
       "        <path d=\"M19 3H5c-1.1 0-2 .9-2 2v14c0 1.1.9 2 2 2h14c1.1 0 2-.9 2-2V5c0-1.1-.9-2-2-2zM9 17H7v-7h2v7zm4 0h-2V7h2v10zm4 0h-2v-4h2v4z\"/>\n",
       "    </g>\n",
       "</svg>\n",
       "  </button>\n",
       "\n",
       "<style>\n",
       "  .colab-df-quickchart {\n",
       "      --bg-color: #E8F0FE;\n",
       "      --fill-color: #1967D2;\n",
       "      --hover-bg-color: #E2EBFA;\n",
       "      --hover-fill-color: #174EA6;\n",
       "      --disabled-fill-color: #AAA;\n",
       "      --disabled-bg-color: #DDD;\n",
       "  }\n",
       "\n",
       "  [theme=dark] .colab-df-quickchart {\n",
       "      --bg-color: #3B4455;\n",
       "      --fill-color: #D2E3FC;\n",
       "      --hover-bg-color: #434B5C;\n",
       "      --hover-fill-color: #FFFFFF;\n",
       "      --disabled-bg-color: #3B4455;\n",
       "      --disabled-fill-color: #666;\n",
       "  }\n",
       "\n",
       "  .colab-df-quickchart {\n",
       "    background-color: var(--bg-color);\n",
       "    border: none;\n",
       "    border-radius: 50%;\n",
       "    cursor: pointer;\n",
       "    display: none;\n",
       "    fill: var(--fill-color);\n",
       "    height: 32px;\n",
       "    padding: 0;\n",
       "    width: 32px;\n",
       "  }\n",
       "\n",
       "  .colab-df-quickchart:hover {\n",
       "    background-color: var(--hover-bg-color);\n",
       "    box-shadow: 0 1px 2px rgba(60, 64, 67, 0.3), 0 1px 3px 1px rgba(60, 64, 67, 0.15);\n",
       "    fill: var(--button-hover-fill-color);\n",
       "  }\n",
       "\n",
       "  .colab-df-quickchart-complete:disabled,\n",
       "  .colab-df-quickchart-complete:disabled:hover {\n",
       "    background-color: var(--disabled-bg-color);\n",
       "    fill: var(--disabled-fill-color);\n",
       "    box-shadow: none;\n",
       "  }\n",
       "\n",
       "  .colab-df-spinner {\n",
       "    border: 2px solid var(--fill-color);\n",
       "    border-color: transparent;\n",
       "    border-bottom-color: var(--fill-color);\n",
       "    animation:\n",
       "      spin 1s steps(1) infinite;\n",
       "  }\n",
       "\n",
       "  @keyframes spin {\n",
       "    0% {\n",
       "      border-color: transparent;\n",
       "      border-bottom-color: var(--fill-color);\n",
       "      border-left-color: var(--fill-color);\n",
       "    }\n",
       "    20% {\n",
       "      border-color: transparent;\n",
       "      border-left-color: var(--fill-color);\n",
       "      border-top-color: var(--fill-color);\n",
       "    }\n",
       "    30% {\n",
       "      border-color: transparent;\n",
       "      border-left-color: var(--fill-color);\n",
       "      border-top-color: var(--fill-color);\n",
       "      border-right-color: var(--fill-color);\n",
       "    }\n",
       "    40% {\n",
       "      border-color: transparent;\n",
       "      border-right-color: var(--fill-color);\n",
       "      border-top-color: var(--fill-color);\n",
       "    }\n",
       "    60% {\n",
       "      border-color: transparent;\n",
       "      border-right-color: var(--fill-color);\n",
       "    }\n",
       "    80% {\n",
       "      border-color: transparent;\n",
       "      border-right-color: var(--fill-color);\n",
       "      border-bottom-color: var(--fill-color);\n",
       "    }\n",
       "    90% {\n",
       "      border-color: transparent;\n",
       "      border-bottom-color: var(--fill-color);\n",
       "    }\n",
       "  }\n",
       "</style>\n",
       "\n",
       "  <script>\n",
       "    async function quickchart(key) {\n",
       "      const quickchartButtonEl =\n",
       "        document.querySelector('#' + key + ' button');\n",
       "      quickchartButtonEl.disabled = true;  // To prevent multiple clicks.\n",
       "      quickchartButtonEl.classList.add('colab-df-spinner');\n",
       "      try {\n",
       "        const charts = await google.colab.kernel.invokeFunction(\n",
       "            'suggestCharts', [key], {});\n",
       "      } catch (error) {\n",
       "        console.error('Error during call to suggestCharts:', error);\n",
       "      }\n",
       "      quickchartButtonEl.classList.remove('colab-df-spinner');\n",
       "      quickchartButtonEl.classList.add('colab-df-quickchart-complete');\n",
       "    }\n",
       "    (() => {\n",
       "      let quickchartButtonEl =\n",
       "        document.querySelector('#df-20d5878d-d6cf-495b-ba4a-04402dfb8800 button');\n",
       "      quickchartButtonEl.style.display =\n",
       "        google.colab.kernel.accessAllowed ? 'block' : 'none';\n",
       "    })();\n",
       "  </script>\n",
       "</div>\n",
       "\n",
       "    </div>\n",
       "  </div>\n"
      ],
      "text/plain": [
       "   sepal_length  sepal_width  petal_length  petal_width species  new_col\n",
       "0           5.1          3.5           1.4          0.2  setosa        1\n",
       "1           4.9          3.0           1.4          0.2  setosa        1\n",
       "2           4.7          3.2           1.3          0.2  setosa        1\n",
       "3           4.6          3.1           1.5          0.2  setosa        1\n",
       "4           5.0          3.6           1.4          0.2  setosa        1"
      ]
     },
     "execution_count": 47,
     "metadata": {},
     "output_type": "execute_result"
    }
   ],
   "source": [
    "iris.head()"
   ]
  },
  {
   "cell_type": "markdown",
   "metadata": {
    "id": "wpA1lEba47IQ"
   },
   "source": [
    "## 4-3. 생성자와 소멸자"
   ]
  },
  {
   "cell_type": "markdown",
   "metadata": {
    "id": "0Qz_KgSP8Arl"
   },
   "source": [
    "### 생성자와 소멸자를 갖는 클래스"
   ]
  },
  {
   "cell_type": "code",
   "execution_count": 48,
   "metadata": {
    "executionInfo": {
     "elapsed": 574,
     "status": "ok",
     "timestamp": 1726986176331,
     "user": {
      "displayName": "JUNGWOON AN",
      "userId": "18046724802149141730"
     },
     "user_tz": -540
    },
    "id": "CYbEa6vGo5dY"
   },
   "outputs": [],
   "source": [
    "class Person:\n",
    "    name = '홍길동'  # 클래스 네임스페이스에 저장\n",
    "    gender = '남자'\n",
    "\n",
    "    # 생성자\n",
    "    def __init__(self):\n",
    "        print('Person 객체를 생성합니다.')\n",
    "        self.name = '성춘향'  # 객체 네임스페이스에 저장\n",
    "        self.gender = '여자'\n",
    "\n",
    "    # 소멸자\n",
    "    def __del__(self):\n",
    "        print('Person 객체를 소멸합니다.')\n",
    "\n",
    "    def print_info(self):\n",
    "        print('Person 객체 입니다.')\n",
    "        print(f'{self.name}님은 {self.gender}입니다.')\n",
    "\n",
    "    @classmethod\n",
    "    def do_(cls):\n",
    "        print(f'이름: {cls.name}, 성별: {cls.gender}')\n",
    "\n",
    "    @staticmethod\n",
    "    def that_():\n",
    "        print('클래스의 멤버를 참조하지 않습니다.')\n",
    "        print(f'클래스의 멤버 참조 가능 : {Person.name}, {Person.gender}')"
   ]
  },
  {
   "cell_type": "code",
   "execution_count": 49,
   "metadata": {
    "colab": {
     "base_uri": "https://localhost:8080/"
    },
    "executionInfo": {
     "elapsed": 1,
     "status": "ok",
     "timestamp": 1726986177581,
     "user": {
      "displayName": "JUNGWOON AN",
      "userId": "18046724802149141730"
     },
     "user_tz": -540
    },
    "id": "WvhL-SQ87Fcn",
    "outputId": "c64da2b6-1d03-41fb-c5a7-e26488a2ac5a"
   },
   "outputs": [
    {
     "name": "stdout",
     "output_type": "stream",
     "text": [
      "Person 객체를 생성합니다.\n",
      "Person 객체 입니다.\n",
      "성춘향님은 여자입니다.\n"
     ]
    }
   ],
   "source": [
    "p1 = Person()\n",
    "p1.print_info()"
   ]
  },
  {
   "cell_type": "code",
   "execution_count": 50,
   "metadata": {
    "executionInfo": {
     "elapsed": 1,
     "status": "ok",
     "timestamp": 1726986178040,
     "user": {
      "displayName": "JUNGWOON AN",
      "userId": "18046724802149141730"
     },
     "user_tz": -540
    },
    "id": "QM-HqvJZ7SG2"
   },
   "outputs": [],
   "source": [
    "p1 = None"
   ]
  },
  {
   "cell_type": "markdown",
   "metadata": {
    "id": "iLRH1H_y769m"
   },
   "source": [
    "### 생성자를 이용한 인스턴스 변수 초기화"
   ]
  },
  {
   "cell_type": "code",
   "execution_count": 51,
   "metadata": {
    "executionInfo": {
     "elapsed": 922,
     "status": "ok",
     "timestamp": 1726986180492,
     "user": {
      "displayName": "JUNGWOON AN",
      "userId": "18046724802149141730"
     },
     "user_tz": -540
    },
    "id": "Aucdx1M975b-"
   },
   "outputs": [],
   "source": [
    "class Person:\n",
    "    # 생성자\n",
    "    def __init__(self, name, gender):\n",
    "        print('Person 객체를 생성합니다.')\n",
    "        self.name = name  # 인스턴스 변수 초기화\n",
    "        self.gender = gender\n",
    "\n",
    "    # 소멸자\n",
    "    def __del__(self):\n",
    "        print('Person 객체를 소멸합니다.')\n",
    "\n",
    "    def print_info(self):\n",
    "        print('Person 객체 입니다.')\n",
    "        print(f'{self.name}님은 {self.gender}입니다.')\n",
    "\n",
    "    @classmethod\n",
    "    def do_(cls):\n",
    "        print(f'이름: {cls.name}, 성별: {cls.gender}')\n",
    "\n",
    "    @staticmethod\n",
    "    def that_():\n",
    "        print('클래스의 멤버를 참조하지 않습니다.')\n",
    "        print(f'클래스의 멤버 참조 가능 : {Person.name}, {Person.gender}')"
   ]
  },
  {
   "cell_type": "code",
   "execution_count": 52,
   "metadata": {
    "colab": {
     "base_uri": "https://localhost:8080/"
    },
    "executionInfo": {
     "elapsed": 2,
     "status": "ok",
     "timestamp": 1726986181125,
     "user": {
      "displayName": "JUNGWOON AN",
      "userId": "18046724802149141730"
     },
     "user_tz": -540
    },
    "id": "skXuPiC58g8l",
    "outputId": "5bce60ff-d365-4acd-808a-9b83f41d2e7b"
   },
   "outputs": [
    {
     "name": "stdout",
     "output_type": "stream",
     "text": [
      "Person 객체를 생성합니다.\n",
      "Person 객체 입니다.\n",
      "성춘향님은 여자입니다.\n"
     ]
    }
   ],
   "source": [
    "p1 = Person('성춘향','여자')\n",
    "p1.print_info()"
   ]
  },
  {
   "cell_type": "markdown",
   "metadata": {
    "id": "Binr9OtI8xHl"
   },
   "source": [
    "### 생성자는 중복 정의 안됨"
   ]
  },
  {
   "cell_type": "code",
   "execution_count": 53,
   "metadata": {
    "executionInfo": {
     "elapsed": 427,
     "status": "ok",
     "timestamp": 1726986184186,
     "user": {
      "displayName": "JUNGWOON AN",
      "userId": "18046724802149141730"
     },
     "user_tz": -540
    },
    "id": "gqZMX9DD8ngF"
   },
   "outputs": [],
   "source": [
    "class Person:\n",
    "    # 생성자\n",
    "    def __init__(self, name):\n",
    "        print('Person 객체를 생성합니다.')\n",
    "        self.name = name\n",
    "\n",
    "    def __init__(self, name, gender):\n",
    "        print('Person 객체를 생성합니다.')\n",
    "        self.name = name\n",
    "        self.gender = gender\n",
    "    # 마지막에 정의된 생성자만 유효함!!!\n",
    "\n",
    "    # 소멸자\n",
    "    def __del__(self):\n",
    "        print('Person 객체를 소멸합니다.')\n",
    "\n",
    "    def print_info(self):\n",
    "        print('Person 객체 입니다.')\n",
    "        print(f'{self.name}님은 {self.gender}입니다.')\n",
    "\n",
    "    @classmethod\n",
    "    def do_(cls):\n",
    "        print(f'이름: {cls.name}, 성별: {cls.gender}')\n",
    "\n",
    "    @staticmethod\n",
    "    def that_():\n",
    "        print('클래스의 멤버를 참조하지 않습니다.')\n",
    "        print(f'클래스의 멤버 참조 가능 : {Person.name}, {Person.gender}')"
   ]
  },
  {
   "cell_type": "code",
   "execution_count": 54,
   "metadata": {
    "colab": {
     "base_uri": "https://localhost:8080/",
     "height": 166
    },
    "executionInfo": {
     "elapsed": 3,
     "status": "error",
     "timestamp": 1726986185800,
     "user": {
      "displayName": "JUNGWOON AN",
      "userId": "18046724802149141730"
     },
     "user_tz": -540
    },
    "id": "YCbZXjF28_Nc",
    "outputId": "5c65f372-6c73-40ea-ed64-762da80a0bd8"
   },
   "outputs": [
    {
     "name": "stdout",
     "output_type": "stream",
     "text": [
      "Person 객체를 소멸합니다.\n"
     ]
    },
    {
     "ename": "TypeError",
     "evalue": "Person.__init__() missing 1 required positional argument: 'gender'",
     "output_type": "error",
     "traceback": [
      "\u001b[0;31m---------------------------------------------------------------------------\u001b[0m",
      "\u001b[0;31mTypeError\u001b[0m                                 Traceback (most recent call last)",
      "\u001b[0;32m<ipython-input-54-1f7b0ef6ea7f>\u001b[0m in \u001b[0;36m<cell line: 1>\u001b[0;34m()\u001b[0m\n\u001b[0;32m----> 1\u001b[0;31m \u001b[0mp1\u001b[0m \u001b[0;34m=\u001b[0m \u001b[0mPerson\u001b[0m\u001b[0;34m(\u001b[0m\u001b[0;34m'홍길동'\u001b[0m\u001b[0;34m)\u001b[0m\u001b[0;34m\u001b[0m\u001b[0;34m\u001b[0m\u001b[0m\n\u001b[0m",
      "\u001b[0;31mTypeError\u001b[0m: Person.__init__() missing 1 required positional argument: 'gender'"
     ]
    }
   ],
   "source": [
    "p1 = Person('홍길동')"
   ]
  },
  {
   "cell_type": "code",
   "execution_count": 55,
   "metadata": {
    "colab": {
     "base_uri": "https://localhost:8080/"
    },
    "executionInfo": {
     "elapsed": 1,
     "status": "ok",
     "timestamp": 1726986186237,
     "user": {
      "displayName": "JUNGWOON AN",
      "userId": "18046724802149141730"
     },
     "user_tz": -540
    },
    "id": "mjv-Em3Q9EBV",
    "outputId": "20c34b86-dfd1-4863-9d34-4b099bcb0bb2"
   },
   "outputs": [
    {
     "name": "stdout",
     "output_type": "stream",
     "text": [
      "Person 객체를 생성합니다.\n"
     ]
    }
   ],
   "source": [
    "p1 = Person('성춘향','여자')"
   ]
  },
  {
   "cell_type": "markdown",
   "metadata": {
    "id": "NFea0qZO9J_d"
   },
   "source": [
    "## 4-4. 상속과 재정의"
   ]
  },
  {
   "cell_type": "markdown",
   "metadata": {
    "id": "Khjppne-9SIU"
   },
   "source": [
    "### 상속"
   ]
  },
  {
   "cell_type": "code",
   "execution_count": 56,
   "metadata": {
    "executionInfo": {
     "elapsed": 426,
     "status": "ok",
     "timestamp": 1726986190082,
     "user": {
      "displayName": "JUNGWOON AN",
      "userId": "18046724802149141730"
     },
     "user_tz": -540
    },
    "id": "SpmwJRVT9G-9"
   },
   "outputs": [],
   "source": [
    "class Person:\n",
    "    def __init__(self, name, gender):\n",
    "        self.name = name\n",
    "        self.gender = gender\n",
    "\n",
    "    def __str__(self):\n",
    "        return f'name: {self.name}, gender: {self.gender}'\n",
    "\n",
    "    def print_info(self):\n",
    "        print(f'{self.name}님은 {self.gender}입니다.')"
   ]
  },
  {
   "cell_type": "code",
   "execution_count": 57,
   "metadata": {
    "executionInfo": {
     "elapsed": 2,
     "status": "ok",
     "timestamp": 1726986190699,
     "user": {
      "displayName": "JUNGWOON AN",
      "userId": "18046724802149141730"
     },
     "user_tz": -540
    },
    "id": "eU68OEVS_S1s"
   },
   "outputs": [],
   "source": [
    "class Student(Person):\n",
    "    def __init__(self, name, gender, major):\n",
    "        self.name = name\n",
    "        self.gender = gender\n",
    "        self.major = major\n",
    "\n",
    "    def __del__(self):\n",
    "        pass"
   ]
  },
  {
   "cell_type": "code",
   "execution_count": 58,
   "metadata": {
    "colab": {
     "base_uri": "https://localhost:8080/"
    },
    "executionInfo": {
     "elapsed": 2,
     "status": "ok",
     "timestamp": 1726986191282,
     "user": {
      "displayName": "JUNGWOON AN",
      "userId": "18046724802149141730"
     },
     "user_tz": -540
    },
    "id": "bfFRe205_iGs",
    "outputId": "0e64ce09-077d-4a6f-ffcc-4a004c71ee8b"
   },
   "outputs": [
    {
     "name": "stdout",
     "output_type": "stream",
     "text": [
      "True\n"
     ]
    }
   ],
   "source": [
    "# 클래스 포함관계 확인\n",
    "print(issubclass(Student, Person))  # issubclass(자식클래스, 부모클래스)"
   ]
  },
  {
   "cell_type": "markdown",
   "metadata": {
    "id": "KF0B3eTB_8hk"
   },
   "source": [
    "### 부모클래스의 생성자 사용"
   ]
  },
  {
   "cell_type": "code",
   "execution_count": 59,
   "metadata": {
    "executionInfo": {
     "elapsed": 2,
     "status": "ok",
     "timestamp": 1726986192851,
     "user": {
      "displayName": "JUNGWOON AN",
      "userId": "18046724802149141730"
     },
     "user_tz": -540
    },
    "id": "uhDnnzgd_nsD"
   },
   "outputs": [],
   "source": [
    "class Student(Person):\n",
    "    def __init__(self, name, gender, major):\n",
    "        Person.__init__(self, name, gender)  # 부모 클래스의 생성자를 호출하여 자식 클래스의 변수 초기화\n",
    "        self.major = major\n",
    "\n",
    "    def __del__(self):\n",
    "        pass"
   ]
  },
  {
   "cell_type": "code",
   "execution_count": 60,
   "metadata": {
    "colab": {
     "base_uri": "https://localhost:8080/"
    },
    "executionInfo": {
     "elapsed": 2,
     "status": "ok",
     "timestamp": 1726986194477,
     "user": {
      "displayName": "JUNGWOON AN",
      "userId": "18046724802149141730"
     },
     "user_tz": -540
    },
    "id": "LuSEH7ajAKy0",
    "outputId": "d488c2b4-130b-4799-df66-fe1faaf3d856"
   },
   "outputs": [
    {
     "name": "stdout",
     "output_type": "stream",
     "text": [
      "홍길동님은 남자입니다.\n"
     ]
    }
   ],
   "source": [
    "s1 = Student('홍길동','남자','컴퓨터')\n",
    "s1.print_info()"
   ]
  },
  {
   "cell_type": "markdown",
   "metadata": {
    "id": "zk5Fx3yCA_h7"
   },
   "source": [
    "### 재정의\n",
    "부모 클래스에서 정의한 메서드를 자식 클래스에서 다시 정의"
   ]
  },
  {
   "cell_type": "code",
   "execution_count": 61,
   "metadata": {
    "executionInfo": {
     "elapsed": 2,
     "status": "ok",
     "timestamp": 1726986195894,
     "user": {
      "displayName": "JUNGWOON AN",
      "userId": "18046724802149141730"
     },
     "user_tz": -540
    },
    "id": "WKYshLP-A7d8"
   },
   "outputs": [],
   "source": [
    "class Student(Person):\n",
    "    def __init__(self, name, gender, major):\n",
    "        Person.__init__(self, name, gender)  # 부모 클래스의 생성자를 호출하여 자식 클래스의 변수 초기화\n",
    "        self.major = major\n",
    "\n",
    "    def __del__(self):\n",
    "        pass\n",
    "\n",
    "    # 이름과 매개변수가 동일하게 재정의\n",
    "    # 자식은 부모보다 구체적임, 부모의 기능을 개선할 수 있음\n",
    "    def print_info(self):\n",
    "        print(f'{self.name}님은 {self.gender}입니다.')\n",
    "        print(f'전공은 {self.major}입니다.')"
   ]
  },
  {
   "cell_type": "code",
   "execution_count": 62,
   "metadata": {
    "colab": {
     "base_uri": "https://localhost:8080/"
    },
    "executionInfo": {
     "elapsed": 440,
     "status": "ok",
     "timestamp": 1726986196851,
     "user": {
      "displayName": "JUNGWOON AN",
      "userId": "18046724802149141730"
     },
     "user_tz": -540
    },
    "id": "V7a5VmH5BV3U",
    "outputId": "3b332f74-af9e-4551-cb6b-9dd9c38877aa"
   },
   "outputs": [
    {
     "name": "stdout",
     "output_type": "stream",
     "text": [
      "True\n"
     ]
    }
   ],
   "source": [
    "print(issubclass(Student, Person))"
   ]
  },
  {
   "cell_type": "code",
   "execution_count": 63,
   "metadata": {
    "colab": {
     "base_uri": "https://localhost:8080/"
    },
    "executionInfo": {
     "elapsed": 3,
     "status": "ok",
     "timestamp": 1726986197509,
     "user": {
      "displayName": "JUNGWOON AN",
      "userId": "18046724802149141730"
     },
     "user_tz": -540
    },
    "id": "-tO6E1NqBk0c",
    "outputId": "5037ec77-f488-4a96-9b8f-352a6198fd51"
   },
   "outputs": [
    {
     "name": "stdout",
     "output_type": "stream",
     "text": [
      "성춘향님은 여자입니다.\n",
      "전공은 건축입니다.\n"
     ]
    }
   ],
   "source": [
    "s2 = Student('성춘향','여자','건축')\n",
    "s2.print_info()"
   ]
  },
  {
   "cell_type": "markdown",
   "metadata": {
    "id": "Eo1ibSbrBwN6"
   },
   "source": [
    "### super()\n",
    "재정의시 중복된 코드를 호출되도록"
   ]
  },
  {
   "cell_type": "code",
   "execution_count": 64,
   "metadata": {
    "executionInfo": {
     "elapsed": 2,
     "status": "ok",
     "timestamp": 1726986199103,
     "user": {
      "displayName": "JUNGWOON AN",
      "userId": "18046724802149141730"
     },
     "user_tz": -540
    },
    "id": "R2vJLa9JBtiD"
   },
   "outputs": [],
   "source": [
    "class Student(Person):\n",
    "    def __init__(self, name, gender, major):\n",
    "        Person.__init__(self, name, gender)  # 부모 클래스의 생성자를 호출하여 자식 클래스의 변수 초기화\n",
    "        self.major = major\n",
    "\n",
    "    def __del__(self):\n",
    "        pass\n",
    "\n",
    "    # 이름과 매개변수가 동일하게 재정의\n",
    "    # 자식은 부모보다 구체적임, 부모의 기능을 개선할 수 있음\n",
    "    def print_info(self):\n",
    "        super().print_info()\n",
    "        print(f'전공은 {self.major}입니다.')"
   ]
  },
  {
   "cell_type": "code",
   "execution_count": 65,
   "metadata": {
    "colab": {
     "base_uri": "https://localhost:8080/"
    },
    "executionInfo": {
     "elapsed": 405,
     "status": "ok",
     "timestamp": 1726986202161,
     "user": {
      "displayName": "JUNGWOON AN",
      "userId": "18046724802149141730"
     },
     "user_tz": -540
    },
    "id": "66o-Vzv1Ewfz",
    "outputId": "61e97a89-a52e-4ff7-d845-fe4a6f832d90"
   },
   "outputs": [
    {
     "name": "stdout",
     "output_type": "stream",
     "text": [
      "이몽룡님은 남자입니다.\n",
      "전공은 행정학입니다.\n"
     ]
    }
   ],
   "source": [
    "s3 = Student('이몽룡','남자','행정학')\n",
    "s3.print_info()"
   ]
  },
  {
   "cell_type": "code",
   "execution_count": 66,
   "metadata": {
    "executionInfo": {
     "elapsed": 444,
     "status": "ok",
     "timestamp": 1726986204148,
     "user": {
      "displayName": "JUNGWOON AN",
      "userId": "18046724802149141730"
     },
     "user_tz": -540
    },
    "id": "ctCsV-x7Jpmg"
   },
   "outputs": [],
   "source": [
    "class Student(Person):\n",
    "    def __init__(self, name, gender, major):\n",
    "        super().__init__(name, gender)\n",
    "        self.major = major\n",
    "\n",
    "    def __del__(self):\n",
    "        pass\n",
    "\n",
    "    # 이름과 매개변수가 동일하게 재정의\n",
    "    # 자식은 부모보다 구체적임, 부모의 기능을 개선할 수 있음\n",
    "    def print_info(self):\n",
    "        super().print_info()\n",
    "        print(f'전공은 {self.major}입니다.')"
   ]
  },
  {
   "cell_type": "code",
   "execution_count": 67,
   "metadata": {
    "colab": {
     "base_uri": "https://localhost:8080/"
    },
    "executionInfo": {
     "elapsed": 858,
     "status": "ok",
     "timestamp": 1726986207755,
     "user": {
      "displayName": "JUNGWOON AN",
      "userId": "18046724802149141730"
     },
     "user_tz": -540
    },
    "id": "YpHTQxq4Jyb-",
    "outputId": "2534e6fb-8155-4715-8107-0f5b3912ed75"
   },
   "outputs": [
    {
     "name": "stdout",
     "output_type": "stream",
     "text": [
      "홍길동님은 남자입니다.\n",
      "전공은 컴퓨터입니다.\n"
     ]
    }
   ],
   "source": [
    "s1 = Student('홍길동','남자','컴퓨터')\n",
    "s1.print_info()"
   ]
  },
  {
   "cell_type": "markdown",
   "metadata": {
    "id": "6fkKm73vIjuw"
   },
   "source": [
    "### 정적 변수"
   ]
  },
  {
   "cell_type": "code",
   "execution_count": 68,
   "metadata": {
    "executionInfo": {
     "elapsed": 2,
     "status": "ok",
     "timestamp": 1726986209512,
     "user": {
      "displayName": "JUNGWOON AN",
      "userId": "18046724802149141730"
     },
     "user_tz": -540
    },
    "id": "jUkORiOME211"
   },
   "outputs": [],
   "source": [
    "class Student(Person):\n",
    "    __count = 0  # 정적 변수 선언 : 클래스 내 공유 자원이 됨\n",
    "\n",
    "    def __init__(self, name, gender, major):\n",
    "        # 정적 변수 참조 : 클래스명._클래스명__변수명\n",
    "        Student._Student__count += 1\n",
    "        super().__init__(name, gender)\n",
    "        self.major = major\n",
    "\n",
    "    def __del__(self):\n",
    "        Student._Student__count -= 1\n",
    "\n",
    "    def print_info(self):\n",
    "        super().print_info()\n",
    "        print(f'전공은 {self.major}입니다.')"
   ]
  },
  {
   "cell_type": "code",
   "execution_count": 69,
   "metadata": {
    "colab": {
     "base_uri": "https://localhost:8080/"
    },
    "executionInfo": {
     "elapsed": 520,
     "status": "ok",
     "timestamp": 1726986211743,
     "user": {
      "displayName": "JUNGWOON AN",
      "userId": "18046724802149141730"
     },
     "user_tz": -540
    },
    "id": "fxypvNtdLBTf",
    "outputId": "da7375c8-2ee4-447e-ada2-965287d4f099"
   },
   "outputs": [
    {
     "name": "stdout",
     "output_type": "stream",
     "text": [
      "홍길동님은 남자입니다.\n",
      "전공은 컴퓨터입니다.\n"
     ]
    }
   ],
   "source": [
    "s1 = Student('홍길동','남자','컴퓨터')\n",
    "s1.print_info()"
   ]
  },
  {
   "cell_type": "code",
   "execution_count": 70,
   "metadata": {
    "colab": {
     "base_uri": "https://localhost:8080/"
    },
    "executionInfo": {
     "elapsed": 396,
     "status": "ok",
     "timestamp": 1726986215538,
     "user": {
      "displayName": "JUNGWOON AN",
      "userId": "18046724802149141730"
     },
     "user_tz": -540
    },
    "id": "Y982BXQMLPHu",
    "outputId": "e9ced40c-b3b1-44c3-d369-151f73edd0f8"
   },
   "outputs": [
    {
     "name": "stdout",
     "output_type": "stream",
     "text": [
      "성춘향님은 여자입니다.\n",
      "전공은 건축입니다.\n"
     ]
    }
   ],
   "source": [
    "s2 = Student('성춘향','여자','건축')\n",
    "s2.print_info()"
   ]
  },
  {
   "cell_type": "code",
   "execution_count": 71,
   "metadata": {
    "colab": {
     "base_uri": "https://localhost:8080/"
    },
    "executionInfo": {
     "elapsed": 2,
     "status": "ok",
     "timestamp": 1726986215951,
     "user": {
      "displayName": "JUNGWOON AN",
      "userId": "18046724802149141730"
     },
     "user_tz": -540
    },
    "id": "No-F2naALVUO",
    "outputId": "3248a8de-bd9a-4438-de56-7ea7632c165c"
   },
   "outputs": [
    {
     "name": "stdout",
     "output_type": "stream",
     "text": [
      "2\n"
     ]
    }
   ],
   "source": [
    "print(Student._Student__count)"
   ]
  },
  {
   "cell_type": "code",
   "execution_count": 72,
   "metadata": {
    "executionInfo": {
     "elapsed": 2,
     "status": "ok",
     "timestamp": 1726986217612,
     "user": {
      "displayName": "JUNGWOON AN",
      "userId": "18046724802149141730"
     },
     "user_tz": -540
    },
    "id": "QgirfbVHLZzf"
   },
   "outputs": [],
   "source": [
    "class Student(Person):\n",
    "    __count = 0  # 정적 변수 선언 : 클래스 내 공유 자원이 됨\n",
    "\n",
    "    def __init__(self, name, gender, major):\n",
    "        # 정적 변수 참조 : 클래스명._클래스명__변수명\n",
    "        Student._Student__count += 1\n",
    "        super().__init__(name, gender)\n",
    "        self.major = major\n",
    "\n",
    "    def __del__(self):\n",
    "        Student._Student__count -= 1\n",
    "\n",
    "    def print_info(self):\n",
    "        super().print_info()\n",
    "        print(f'전공은 {self.major}입니다.')\n",
    "\n",
    "    @classmethod\n",
    "    def get_count(cls):\n",
    "        return Student._Student__count"
   ]
  },
  {
   "cell_type": "code",
   "execution_count": 73,
   "metadata": {
    "colab": {
     "base_uri": "https://localhost:8080/"
    },
    "executionInfo": {
     "elapsed": 2,
     "status": "ok",
     "timestamp": 1726986219220,
     "user": {
      "displayName": "JUNGWOON AN",
      "userId": "18046724802149141730"
     },
     "user_tz": -540
    },
    "id": "aa_v0wNZLkQP",
    "outputId": "e97a7c76-8917-4087-8f38-a062ac87130c"
   },
   "outputs": [
    {
     "name": "stdout",
     "output_type": "stream",
     "text": [
      "홍길동님은 남자입니다.\n",
      "전공은 컴퓨터입니다.\n",
      "1\n",
      "성춘향님은 여자입니다.\n",
      "전공은 건축입니다.\n",
      "2\n"
     ]
    }
   ],
   "source": [
    "s1 = Student('홍길동','남자','컴퓨터')\n",
    "s1.print_info()\n",
    "print(Student.get_count())\n",
    "s2 = Student('성춘향','여자','건축')\n",
    "s2.print_info()\n",
    "print(Student.get_count())"
   ]
  },
  {
   "cell_type": "markdown",
   "metadata": {
    "id": "6cc0qgvSMqZ2"
   },
   "source": [
    "# 5. 예외 처리"
   ]
  },
  {
   "cell_type": "markdown",
   "metadata": {
    "id": "MxXViRSUMsnE"
   },
   "source": [
    "## 5-1. try ~ except로 예외처리하기"
   ]
  },
  {
   "cell_type": "code",
   "execution_count": 74,
   "metadata": {
    "colab": {
     "base_uri": "https://localhost:8080/",
     "height": 276
    },
    "executionInfo": {
     "elapsed": 11838,
     "status": "error",
     "timestamp": 1726986242136,
     "user": {
      "displayName": "JUNGWOON AN",
      "userId": "18046724802149141730"
     },
     "user_tz": -540
    },
    "id": "ZJvNims4LtXu",
    "outputId": "b0fdbdc8-b14a-4196-fab6-c76c7fe706b5"
   },
   "outputs": [
    {
     "name": "stdout",
     "output_type": "stream",
     "text": [
      "정수를 입력하세요 : 3\n",
      "입력한 정수는 3입니다.\n",
      "정수를 입력하세요 : 50\n",
      "입력한 정수는 50입니다.\n",
      "정수를 입력하세요 : aa\n"
     ]
    },
    {
     "ename": "ValueError",
     "evalue": "invalid literal for int() with base 10: 'aa'",
     "output_type": "error",
     "traceback": [
      "\u001b[0;31m---------------------------------------------------------------------------\u001b[0m",
      "\u001b[0;31mValueError\u001b[0m                                Traceback (most recent call last)",
      "\u001b[0;32m<ipython-input-74-7063cfdac1ff>\u001b[0m in \u001b[0;36m<cell line: 1>\u001b[0;34m()\u001b[0m\n\u001b[1;32m      1\u001b[0m \u001b[0;32mwhile\u001b[0m \u001b[0;32mTrue\u001b[0m\u001b[0;34m:\u001b[0m\u001b[0;34m\u001b[0m\u001b[0;34m\u001b[0m\u001b[0m\n\u001b[0;32m----> 2\u001b[0;31m     \u001b[0mx\u001b[0m \u001b[0;34m=\u001b[0m \u001b[0mint\u001b[0m\u001b[0;34m(\u001b[0m\u001b[0minput\u001b[0m\u001b[0;34m(\u001b[0m\u001b[0;34m'정수를 입력하세요 : '\u001b[0m\u001b[0;34m)\u001b[0m\u001b[0;34m)\u001b[0m\u001b[0;34m\u001b[0m\u001b[0;34m\u001b[0m\u001b[0m\n\u001b[0m\u001b[1;32m      3\u001b[0m     \u001b[0mprint\u001b[0m\u001b[0;34m(\u001b[0m\u001b[0;34mf'입력한 정수는 {x}입니다.'\u001b[0m\u001b[0;34m)\u001b[0m\u001b[0;34m\u001b[0m\u001b[0;34m\u001b[0m\u001b[0m\n",
      "\u001b[0;31mValueError\u001b[0m: invalid literal for int() with base 10: 'aa'"
     ]
    }
   ],
   "source": [
    "while True:\n",
    "    x = int(input('정수를 입력하세요 : '))\n",
    "    print(f'입력한 정수는 {x}입니다.')"
   ]
  },
  {
   "cell_type": "code",
   "execution_count": 75,
   "metadata": {
    "colab": {
     "base_uri": "https://localhost:8080/"
    },
    "executionInfo": {
     "elapsed": 12108,
     "status": "ok",
     "timestamp": 1726986258309,
     "user": {
      "displayName": "JUNGWOON AN",
      "userId": "18046724802149141730"
     },
     "user_tz": -540
    },
    "id": "wMV1FkKXOjlM",
    "outputId": "b0466725-d8d3-42b8-e003-ea00ee6d5298"
   },
   "outputs": [
    {
     "name": "stdout",
     "output_type": "stream",
     "text": [
      "정수를 입력하세요 : dd\n",
      "유효한 정수가 아닙니다. 다시 시도하세요.\n",
      "정수를 입력하세요 : a\n",
      "유효한 정수가 아닙니다. 다시 시도하세요.\n",
      "정수를 입력하세요 : 4\n",
      "입력한 정수는 4입니다.\n"
     ]
    }
   ],
   "source": [
    "while True:\n",
    "    try:\n",
    "        x = int(input('정수를 입력하세요 : '))\n",
    "        print(f'입력한 정수는 {x}입니다.')\n",
    "        break\n",
    "    except:\n",
    "        print('유효한 정수가 아닙니다. 다시 시도하세요.')"
   ]
  },
  {
   "cell_type": "markdown",
   "metadata": {
    "id": "Sjs9LmeMPnOU"
   },
   "source": [
    "### 예외 별로 처리하기"
   ]
  },
  {
   "cell_type": "code",
   "execution_count": 76,
   "metadata": {
    "colab": {
     "base_uri": "https://localhost:8080/"
    },
    "executionInfo": {
     "elapsed": 14202,
     "status": "ok",
     "timestamp": 1726986276089,
     "user": {
      "displayName": "JUNGWOON AN",
      "userId": "18046724802149141730"
     },
     "user_tz": -540
    },
    "id": "KaW8kKUTPDNc",
    "outputId": "a57030ef-b76f-4a86-f496-ecde965db47a"
   },
   "outputs": [
    {
     "name": "stdout",
     "output_type": "stream",
     "text": [
      "정수를 입력하세요 : d\n",
      "유효한 정수가 아닙니다. 다시 시도하세요.\n",
      "정수를 입력하세요 : 0\n",
      "입력한 정수는 0입니다.\n",
      "유효한 정수가 아닙니다. 다시 시도하세요.\n",
      "정수를 입력하세요 : 50\n",
      "입력한 정수는 50입니다.\n",
      "100을 입력한 수로 나누면 2.0입니다.\n"
     ]
    }
   ],
   "source": [
    "while True:\n",
    "    try:\n",
    "        x = int(input('정수를 입력하세요 : '))\n",
    "        print(f'입력한 정수는 {x}입니다.')\n",
    "        print(f'100을 입력한 수로 나누면 {100/x}입니다.')\n",
    "        break\n",
    "    except:\n",
    "        print('유효한 정수가 아닙니다. 다시 시도하세요.')"
   ]
  },
  {
   "cell_type": "code",
   "execution_count": 77,
   "metadata": {
    "colab": {
     "base_uri": "https://localhost:8080/"
    },
    "executionInfo": {
     "elapsed": 9171,
     "status": "ok",
     "timestamp": 1726986288455,
     "user": {
      "displayName": "JUNGWOON AN",
      "userId": "18046724802149141730"
     },
     "user_tz": -540
    },
    "id": "MbkjYTtbP6od",
    "outputId": "cd70a66b-6a88-46d5-a2a4-904486dcc568"
   },
   "outputs": [
    {
     "name": "stdout",
     "output_type": "stream",
     "text": [
      "정수를 입력하세요 : 0\n",
      "입력한 정수는 0입니다.\n",
      "0으로 나눌 수 없습니다.\n",
      "정수를 입력하세요 : s\n",
      "유효한 정수가 아닙니다. 다시 시도하세요.\n",
      "정수를 입력하세요 : 20\n",
      "입력한 정수는 20입니다.\n",
      "100을 입력한 수로 나누면 5.0입니다.\n"
     ]
    }
   ],
   "source": [
    "while True:\n",
    "    try:\n",
    "        x = int(input('정수를 입력하세요 : '))\n",
    "        print(f'입력한 정수는 {x}입니다.')\n",
    "        print(f'100을 입력한 수로 나누면 {100/x}입니다.')\n",
    "        break\n",
    "    except ValueError:\n",
    "        print('유효한 정수가 아닙니다. 다시 시도하세요.')\n",
    "    except ZeroDivisionError:\n",
    "        print('0으로 나눌 수 없습니다.')"
   ]
  },
  {
   "cell_type": "markdown",
   "metadata": {
    "id": "7cbNOLwaQXU0"
   },
   "source": [
    "### 다중 예외 처리하기"
   ]
  },
  {
   "cell_type": "code",
   "execution_count": 78,
   "metadata": {
    "colab": {
     "base_uri": "https://localhost:8080/"
    },
    "executionInfo": {
     "elapsed": 15689,
     "status": "ok",
     "timestamp": 1726986307745,
     "user": {
      "displayName": "JUNGWOON AN",
      "userId": "18046724802149141730"
     },
     "user_tz": -540
    },
    "id": "FJrL9l5cQKHs",
    "outputId": "0a2a8929-97fe-4add-9027-b289a54bfae1"
   },
   "outputs": [
    {
     "name": "stdout",
     "output_type": "stream",
     "text": [
      "정수를 입력하세요 : r\n",
      "예외가 발생했습니다. 다시 시도하세요.\n",
      "정수를 입력하세요 : 0\n",
      "입력한 정수는 0입니다.\n",
      "예외가 발생했습니다. 다시 시도하세요.\n",
      "정수를 입력하세요 : 30\n",
      "입력한 정수는 30입니다.\n",
      "100을 입력한 수로 나누면 3.3333333333333335입니다.\n"
     ]
    }
   ],
   "source": [
    "while True:\n",
    "    try:\n",
    "        x = int(input('정수를 입력하세요 : '))\n",
    "        print(f'입력한 정수는 {x}입니다.')\n",
    "        print(f'100을 입력한 수로 나누면 {100/x}입니다.')\n",
    "        break\n",
    "    except (ValueError, ZeroDivisionError):\n",
    "        print('예외가 발생했습니다. 다시 시도하세요.')"
   ]
  },
  {
   "cell_type": "markdown",
   "metadata": {
    "id": "uMn8zb4cRY8L"
   },
   "source": [
    "### 예외 유형 및 메시지 표시"
   ]
  },
  {
   "cell_type": "code",
   "execution_count": 79,
   "metadata": {
    "colab": {
     "base_uri": "https://localhost:8080/"
    },
    "executionInfo": {
     "elapsed": 23148,
     "status": "ok",
     "timestamp": 1726986334089,
     "user": {
      "displayName": "JUNGWOON AN",
      "userId": "18046724802149141730"
     },
     "user_tz": -540
    },
    "id": "CeDdPGpCRJ_a",
    "outputId": "79548c0b-da1e-44eb-a46a-300ed707f6f9"
   },
   "outputs": [
    {
     "name": "stdout",
     "output_type": "stream",
     "text": [
      "정수를 입력하세요 : 0\n",
      "입력한 정수는 0입니다.\n",
      "division by zero\n",
      "정수를 입력하세요 : ff\n",
      "invalid literal for int() with base 10: 'ff'\n",
      "정수를 입력하세요 : 25\n",
      "입력한 정수는 25입니다.\n",
      "100을 입력한 수로 나누면 4.0입니다.\n"
     ]
    }
   ],
   "source": [
    "while True:\n",
    "    try:\n",
    "        x = int(input('정수를 입력하세요 : '))\n",
    "        print(f'입력한 정수는 {x}입니다.')\n",
    "        print(f'100을 입력한 수로 나누면 {100/x}입니다.')\n",
    "        break\n",
    "    except Exception as e:\n",
    "        print(e)"
   ]
  },
  {
   "cell_type": "markdown",
   "metadata": {
    "id": "1485V1bdUkyK"
   },
   "source": [
    "## 5-2. raise로 예외 발생시키기"
   ]
  },
  {
   "cell_type": "code",
   "execution_count": 80,
   "metadata": {
    "executionInfo": {
     "elapsed": 397,
     "status": "ok",
     "timestamp": 1726986336996,
     "user": {
      "displayName": "JUNGWOON AN",
      "userId": "18046724802149141730"
     },
     "user_tz": -540
    },
    "id": "SrKgQoecWtvY"
   },
   "outputs": [],
   "source": [
    "# 피호출자\n",
    "def insert(data):\n",
    "    if len(data) == 0:\n",
    "        raise Exception('데이터의 길이가 0이므로 입력할 수 없습니다.')\n",
    "\n",
    "    print(data, '를 입력합니다.')"
   ]
  },
  {
   "cell_type": "code",
   "execution_count": 81,
   "metadata": {
    "colab": {
     "base_uri": "https://localhost:8080/"
    },
    "executionInfo": {
     "elapsed": 568,
     "status": "ok",
     "timestamp": 1726986340895,
     "user": {
      "displayName": "JUNGWOON AN",
      "userId": "18046724802149141730"
     },
     "user_tz": -540
    },
    "id": "4xyuCcxeUtqM",
    "outputId": "ddc210da-ec9c-4d88-995b-994e3cb0e6a8"
   },
   "outputs": [
    {
     "name": "stdout",
     "output_type": "stream",
     "text": [
      "데이터의 길이가 0이므로 입력할 수 없습니다.\n"
     ]
    }
   ],
   "source": [
    "# 호출자\n",
    "data = []\n",
    "\n",
    "try:\n",
    "    insert(data)\n",
    "except Exception as e:\n",
    "    print(e)\n",
    "else:\n",
    "    print('예외가 발생하지 않을 경우 실행')"
   ]
  },
  {
   "cell_type": "code",
   "execution_count": 82,
   "metadata": {
    "colab": {
     "base_uri": "https://localhost:8080/"
    },
    "executionInfo": {
     "elapsed": 895,
     "status": "ok",
     "timestamp": 1726986343665,
     "user": {
      "displayName": "JUNGWOON AN",
      "userId": "18046724802149141730"
     },
     "user_tz": -540
    },
    "id": "o51HAnCoW9xQ",
    "outputId": "1d0f1c62-197f-435c-941f-69ce33a81d47"
   },
   "outputs": [
    {
     "name": "stdout",
     "output_type": "stream",
     "text": [
      "[1, 2, 3, 4] 를 입력합니다.\n",
      "예외가 발생하지 않을 경우 실행\n"
     ]
    }
   ],
   "source": [
    "data = [1,2,3,4]\n",
    "\n",
    "try:\n",
    "    insert(data)\n",
    "except Exception as e:\n",
    "    print(e)\n",
    "else:\n",
    "    print('예외가 발생하지 않을 경우 실행')"
   ]
  }
 ],
 "metadata": {
  "colab": {
   "authorship_tag": "ABX9TyMNajbx9/ki0JU6lD23ptfy",
   "provenance": []
  },
  "kernelspec": {
   "display_name": "Python 3 (ipykernel)",
   "language": "python",
   "name": "python3"
  },
  "language_info": {
   "codemirror_mode": {
    "name": "ipython",
    "version": 3
   },
   "file_extension": ".py",
   "mimetype": "text/x-python",
   "name": "python",
   "nbconvert_exporter": "python",
   "pygments_lexer": "ipython3",
   "version": "3.11.5"
  }
 },
 "nbformat": 4,
 "nbformat_minor": 1
}
