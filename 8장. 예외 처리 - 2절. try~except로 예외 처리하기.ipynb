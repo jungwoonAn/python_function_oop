{
 "cells": [
  {
   "cell_type": "code",
   "execution_count": 1,
   "metadata": {
    "slideshow": {
     "slide_type": "-"
    }
   },
   "outputs": [
    {
     "data": {
      "text/html": [
       "<style>\n",
       "div.container { width:100% !important; }\n",
       "div.CodeMirror {font-family: Consolas; font-size: 16pt;}\n",
       "div.output { font-size: 16pt; font-weight: bold;}\n",
       "div.input { font-family: Consolas; font-size: 16pt;}\n",
       "div.prompt { min-width: 100px;}\n",
       "</style>\n"
      ],
      "text/plain": [
       "<IPython.core.display.HTML object>"
      ]
     },
     "metadata": {},
     "output_type": "display_data"
    }
   ],
   "source": [
    "from IPython.core.display import display, HTML\n",
    "display(HTML(\n",
    "\"\"\"<style>\n",
    "div.container { width:100% !important; }\n",
    "div.CodeMirror {font-family: Consolas; font-size: 16pt;}\n",
    "div.output { font-size: 16pt; font-weight: bold;}\n",
    "div.input { font-family: Consolas; font-size: 16pt;}\n",
    "div.prompt { min-width: 100px;}\n",
    "</style>\n",
    "\"\"\"))"
   ]
  },
  {
   "cell_type": "code",
   "execution_count": 2,
   "metadata": {},
   "outputs": [
    {
     "name": "stdout",
     "output_type": "stream",
     "text": [
      "정수를 입력하세요. : abc\n",
      "유효한 정수가 아닙니다. 다시 입력하세요.\n",
      "정수를 입력하세요. : 3.5\n",
      "유효한 정수가 아닙니다. 다시 입력하세요.\n",
      "정수를 입력하세요. : 20\n",
      "입력한 정수는 20입니다.\n"
     ]
    }
   ],
   "source": [
    "while True:\n",
    "    try:\n",
    "        x = int(input(\"정수를 입력하세요. : \"))\n",
    "        print(\"입력한 정수는 {}입니다.\".format(x))\n",
    "        break\n",
    "    except:\n",
    "        print(\"유효한 정수가 아닙니다. 다시 입력하세요.\")"
   ]
  },
  {
   "cell_type": "code",
   "execution_count": 6,
   "metadata": {},
   "outputs": [
    {
     "name": "stdout",
     "output_type": "stream",
     "text": [
      "정수를 입력하세요. : 0\n",
      "입력한 정수는 0입니다.\n",
      "0으로 나눌 수 없습니다.\n",
      "정수를 입력하세요. : abc\n",
      "유효한 정수가 아닙니다. 다시 입력하세요.\n",
      "정수를 입력하세요. : 10\n",
      "입력한 정수는 10입니다.\n",
      "100을 입력한 수로 나누면 10.0입니다.\n"
     ]
    }
   ],
   "source": [
    "while True:\n",
    "    try:\n",
    "        x = int(input(\"정수를 입력하세요. : \"))\n",
    "        print(\"입력한 정수는 {}입니다.\".format(x))\n",
    "        print(\"100을 입력한 수로 나누면 {}입니다.\"\\\n",
    "              .format(100/x))\n",
    "        break\n",
    "    except ValueError:\n",
    "        print(\"유효한 정수가 아닙니다. 다시 입력하세요.\")\n",
    "    except ZeroDivisionError:\n",
    "        print(\"0으로 나눌 수 없습니다.\")"
   ]
  },
  {
   "cell_type": "code",
   "execution_count": 7,
   "metadata": {},
   "outputs": [
    {
     "name": "stdout",
     "output_type": "stream",
     "text": [
      "정수를 입력하세요. : 0\n",
      "입력한 정수는 0입니다.\n",
      "원인 모를 예외가 발생했습니다.\n",
      "정수를 입력하세요. : abc\n",
      "원인 모를 예외가 발생했습니다.\n",
      "정수를 입력하세요. : 10\n",
      "입력한 정수는 10입니다.\n",
      "100을 입력한 수로 나누면 10.0입니다.\n"
     ]
    }
   ],
   "source": [
    "while True:\n",
    "    try:\n",
    "        x = int(input(\"정수를 입력하세요. : \"))\n",
    "        print(\"입력한 정수는 {}입니다.\".format(x))\n",
    "        print(\"100을 입력한 수로 나누면 {}입니다.\"\\\n",
    "              .format(100/x))\n",
    "        break\n",
    "    except ValueError:\n",
    "        print(\"유효한 정수가 아닙니다. 다시 입력하세요.\")\n",
    "    except ZeroDivisionError:\n",
    "        print(\"0으로 나눌 수 없습니다.\")\n",
    "    except Exception:\n",
    "        print(\"원인 모를 예외가 발생했습니다.\")\n"
   ]
  },
  {
   "cell_type": "code",
   "execution_count": 8,
   "metadata": {},
   "outputs": [
    {
     "name": "stdout",
     "output_type": "stream",
     "text": [
      "정수를 입력하세요. : abc\n",
      "유효한 수가 아닙니다. 다시 입력하세요.\n",
      "정수를 입력하세요. : 0\n",
      "입력한 정수는 0입니다.\n",
      "유효한 수가 아닙니다. 다시 입력하세요.\n",
      "정수를 입력하세요. : 10\n",
      "입력한 정수는 10입니다.\n",
      "100을 입력한 수로 나누면 10.0입니다.\n"
     ]
    }
   ],
   "source": [
    "while True:\n",
    "    try:\n",
    "        x = int(input(\"정수를 입력하세요. : \"))\n",
    "        print(\"입력한 정수는 {}입니다.\".format(x))\n",
    "        print(\"100을 입력한 수로 나누면 {}입니다.\"\\\n",
    "              .format(100/x))\n",
    "        break\n",
    "    except (ValueError, ZeroDivisionError) :\n",
    "        print(\"유효한 수가 아닙니다. 다시 입력하세요.\")"
   ]
  },
  {
   "cell_type": "code",
   "execution_count": 11,
   "metadata": {},
   "outputs": [
    {
     "name": "stdout",
     "output_type": "stream",
     "text": [
      "파일이 없습니다.\n"
     ]
    }
   ],
   "source": [
    "try:\n",
    "    f = open('abcd.txt', 'r')\n",
    "except FileNotFoundError:\n",
    "    print(\"파일이 없습니다.\")\n",
    "else:\n",
    "    data = f.read()\n",
    "    print(data)"
   ]
  },
  {
   "cell_type": "code",
   "execution_count": 12,
   "metadata": {},
   "outputs": [
    {
     "name": "stdout",
     "output_type": "stream",
     "text": [
      "파일이 없습니다.\n"
     ]
    }
   ],
   "source": [
    "try:\n",
    "    f = open('abcd.txt', 'r')\n",
    "    data = f.read()\n",
    "    print(data)\n",
    "except FileNotFoundError:\n",
    "    print(\"파일이 없습니다.\")"
   ]
  },
  {
   "cell_type": "code",
   "execution_count": 13,
   "metadata": {},
   "outputs": [
    {
     "name": "stdout",
     "output_type": "stream",
     "text": [
      "정수를 입력하세요.: abc\n",
      "예외 유형 <class 'ValueError'>\n",
      "예외 메시지 (\"invalid literal for int() with base 10: 'abc'\",)\n",
      "예외 invalid literal for int() with base 10: 'abc'\n",
      "정수를 입력하세요.: 0\n",
      "입력한 정수는 0입니다.\n",
      "예외 유형 <class 'ZeroDivisionError'>\n",
      "예외 메시지 ('division by zero',)\n",
      "예외 division by zero\n",
      "정수를 입력하세요.: 10\n",
      "입력한 정수는 10입니다.\n",
      "100을 입력한 수로 나누면 10.0입니다.\n"
     ]
    }
   ],
   "source": [
    "while True:\n",
    "    try:\n",
    "        x = int(input(\"정수를 입력하세요.: \"))\n",
    "        print(\"입력한 정수는 {}입니다.\".format(x))\n",
    "        print(\"100을 입력한 수로 나누면 {}입니다.\"\\\n",
    "             .format(100/x))\n",
    "        break\n",
    "    except (ValueError, ZeroDivisionError) as e:\n",
    "        print(\"예외 유형\", type(e))\n",
    "        print(\"예외 메시지\", e.args)\n",
    "        print(\"예외\", e)"
   ]
  },
  {
   "cell_type": "code",
   "execution_count": null,
   "metadata": {},
   "outputs": [],
   "source": []
  },
  {
   "cell_type": "code",
   "execution_count": null,
   "metadata": {},
   "outputs": [],
   "source": []
  }
 ],
 "metadata": {
  "kernelspec": {
   "display_name": "Python 3",
   "language": "python",
   "name": "python3"
  },
  "language_info": {
   "codemirror_mode": {
    "name": "ipython",
    "version": 3
   },
   "file_extension": ".py",
   "mimetype": "text/x-python",
   "name": "python",
   "nbconvert_exporter": "python",
   "pygments_lexer": "ipython3",
   "version": "3.7.4"
  }
 },
 "nbformat": 4,
 "nbformat_minor": 2
}
